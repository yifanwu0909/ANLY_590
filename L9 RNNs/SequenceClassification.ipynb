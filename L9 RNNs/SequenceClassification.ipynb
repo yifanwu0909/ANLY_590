{
 "cells": [
  {
   "cell_type": "code",
   "execution_count": 1,
   "metadata": {
    "colab": {},
    "colab_type": "code",
    "id": "HZGIJ2SUZGk0"
   },
   "outputs": [
    {
     "name": "stderr",
     "output_type": "stream",
     "text": [
      "C:\\Users\\yifan\\Anaconda3\\lib\\site-packages\\h5py\\__init__.py:36: FutureWarning: Conversion of the second argument of issubdtype from `float` to `np.floating` is deprecated. In future, it will be treated as `np.float64 == np.dtype(float).type`.\n",
      "  from ._conv import register_converters as _register_converters\n",
      "Using TensorFlow backend.\n"
     ]
    }
   ],
   "source": [
    "from keras.datasets import imdb\n",
    "from keras.preprocessing import sequence\n",
    "from keras.layers import Dense, SimpleRNN, LSTM, Embedding\n",
    "from keras.models import Sequential\n",
    "import numpy as np"
   ]
  },
  {
   "cell_type": "code",
   "execution_count": 27,
   "metadata": {
    "colab": {
     "base_uri": "https://localhost:8080/",
     "height": 52
    },
    "colab_type": "code",
    "executionInfo": {
     "elapsed": 8114,
     "status": "ok",
     "timestamp": 1541816095202,
     "user": {
      "displayName": "Keegan Hines",
      "photoUrl": "",
      "userId": "14251275254080316358"
     },
     "user_tz": 300
    },
    "id": "4LBa-jupZR_n",
    "outputId": "1dad95cd-07d4-4e02-a008-063b6f8bb50b"
   },
   "outputs": [],
   "source": [
    "max_features = 10000\n",
    "maxlen = 500\n",
    "batch_size = 32\n",
    "\n",
    "(input_train, y_train), (input_test, y_test) = imdb.load_data(num_words = max_features)"
   ]
  },
  {
   "cell_type": "code",
   "execution_count": 28,
   "metadata": {},
   "outputs": [
    {
     "data": {
      "text/plain": [
       "((25000,), (25000,), (25000,), (25000,))"
      ]
     },
     "execution_count": 28,
     "metadata": {},
     "output_type": "execute_result"
    }
   ],
   "source": [
    "input_train.shape, y_train.shape, input_test.shape, y_test.shape"
   ]
  },
  {
   "cell_type": "code",
   "execution_count": 29,
   "metadata": {
    "colab": {},
    "colab_type": "code",
    "id": "wTKEfxfdZiAr"
   },
   "outputs": [],
   "source": [
    "input_train = sequence.pad_sequences(input_train, maxlen)\n",
    "input_test = sequence.pad_sequences(input_test, maxlen)"
   ]
  },
  {
   "cell_type": "code",
   "execution_count": 30,
   "metadata": {
    "colab": {
     "base_uri": "https://localhost:8080/",
     "height": 34
    },
    "colab_type": "code",
    "executionInfo": {
     "elapsed": 231,
     "status": "ok",
     "timestamp": 1541816653075,
     "user": {
      "displayName": "Keegan Hines",
      "photoUrl": "",
      "userId": "14251275254080316358"
     },
     "user_tz": 300
    },
    "id": "hwDaOFymbwHE",
    "outputId": "cdc4c44f-31f5-491a-f485-5d7bce1c5418"
   },
   "outputs": [
    {
     "data": {
      "text/plain": [
       "((25000, 500), (25000,), (25000, 500), (25000,))"
      ]
     },
     "execution_count": 30,
     "metadata": {},
     "output_type": "execute_result"
    }
   ],
   "source": [
    "input_train.shape, y_train.shape, input_test.shape, y_test.shape"
   ]
  },
  {
   "cell_type": "code",
   "execution_count": 0,
   "metadata": {
    "colab": {},
    "colab_type": "code",
    "id": "l3Vg6ZABZ-_i"
   },
   "outputs": [],
   "source": [
    "rnn_model = Sequential()\n",
    "rnn_model.add(Embedding(max_features, 64))\n",
    "rnn_model.add(SimpleRNN(32))\n",
    "rnn_model.add(Dense(1, activation='sigmoid'))"
   ]
  },
  {
   "cell_type": "code",
   "execution_count": 0,
   "metadata": {
    "colab": {},
    "colab_type": "code",
    "id": "H66j0SfcaTEm"
   },
   "outputs": [],
   "source": [
    "rnn_model.compile(optimizer=\"rmsprop\", loss=\"binary_crossentropy\", metrics=[\"acc\"])"
   ]
  },
  {
   "cell_type": "code",
   "execution_count": 15,
   "metadata": {
    "colab": {
     "base_uri": "https://localhost:8080/",
     "height": 208
    },
    "colab_type": "code",
    "executionInfo": {
     "elapsed": 161552,
     "status": "ok",
     "timestamp": 1541816532445,
     "user": {
      "displayName": "Keegan Hines",
      "photoUrl": "",
      "userId": "14251275254080316358"
     },
     "user_tz": 300
    },
    "id": "kS4Aad9CaZWg",
    "outputId": "55917d2e-83dd-445d-a1e1-41a214a4549d"
   },
   "outputs": [
    {
     "name": "stdout",
     "output_type": "stream",
     "text": [
      "Epoch 1/5\n",
      "25000/25000 [==============================] - 32s 1ms/step - loss: 0.5907 - acc: 0.6752\n",
      "Epoch 2/5\n",
      "25000/25000 [==============================] - 32s 1ms/step - loss: 0.3659 - acc: 0.8504\n",
      "Epoch 3/5\n",
      "25000/25000 [==============================] - 32s 1ms/step - loss: 0.2900 - acc: 0.8854\n",
      "Epoch 4/5\n",
      "25000/25000 [==============================] - 32s 1ms/step - loss: 0.2334 - acc: 0.9113\n",
      "Epoch 5/5\n",
      "25000/25000 [==============================] - 32s 1ms/step - loss: 0.2023 - acc: 0.9241\n"
     ]
    },
    {
     "data": {
      "text/plain": [
       "<keras.callbacks.History at 0x7fb5a1dd5ef0>"
      ]
     },
     "execution_count": 15,
     "metadata": {
      "tags": []
     },
     "output_type": "execute_result"
    }
   ],
   "source": [
    "rnn_model.fit(input_train, y_train, epochs=5, batch_size=256)"
   ]
  },
  {
   "cell_type": "code",
   "execution_count": 0,
   "metadata": {
    "colab": {},
    "colab_type": "code",
    "id": "1q8pUt-GahGF"
   },
   "outputs": [],
   "source": []
  }
 ],
 "metadata": {
  "accelerator": "GPU",
  "colab": {
   "collapsed_sections": [],
   "name": "SequenceClassification.ipynb",
   "provenance": [],
   "version": "0.3.2"
  },
  "kernelspec": {
   "display_name": "Python 3",
   "language": "python",
   "name": "python3"
  },
  "language_info": {
   "codemirror_mode": {
    "name": "ipython",
    "version": 3
   },
   "file_extension": ".py",
   "mimetype": "text/x-python",
   "name": "python",
   "nbconvert_exporter": "python",
   "pygments_lexer": "ipython3",
   "version": "3.5.6"
  }
 },
 "nbformat": 4,
 "nbformat_minor": 1
}
