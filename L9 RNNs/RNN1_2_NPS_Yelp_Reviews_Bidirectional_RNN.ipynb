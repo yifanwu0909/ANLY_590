{
 "cells": [
  {
   "cell_type": "markdown",
   "metadata": {},
   "source": [
    "- In this notebook we'll review the implementation of bidirectional networks on Yelp reviews\n",
    "- In particular we will use our predictions to calculate two key metrics:\n",
    "    - __Likelihood to recommend__ and \n",
    "    The __Net Promoter Score__\n",
    "- The likelihood to recommend (LTR) for review $i$ is given by the mapping:\n",
    "$$\n",
    "LTR_i = \\begin{cases}\n",
    "1 & \\star\\star\\star\\star\\star\\\\\n",
    "0 & \\star\\star\\star\\star\\\\\n",
    "-1 & <=\\star\\star\\star\n",
    "\\end{cases}\n",
    "$$\n",
    "- The NPS for a given restaurant $j$ is given by the equation:\n",
    "\n",
    "$$\n",
    "NPS_j = \\frac{\\sum_{i=1}^n LTR_{i,j}}{n_j}\n",
    "$$\n",
    "where $n_j$ is the total number of reviews for \n"
   ]
  },
  {
   "cell_type": "markdown",
   "metadata": {},
   "source": [
    "- The dataset is available at https://www.yelp.com/dataset/download (~7.4Gbs uncompressed)\n",
    "    - You will need to sign up to download it\n",
    "    - Note that you can also download photos (~10.5Gbs)\n",
    "    \n",
    "- Here's the approach:\n",
    "    - Read in the data\n",
    "        - Note there are several files\n",
    "        - The files are in json format\n",
    "    - Munge the data\n",
    "        - We'll need to pull out the attributes that are most relevant to us\n",
    "        - Note: you can calculate it for a particular city I suggest: Montréal\n",
    "    - EDA:\n",
    "        - Check number of reviews\n",
    "        - Visualize the star distribution\n",
    "    - Threshold the star value and map it to LTR\n",
    "    - Build a bidirectional RNN\n",
    "        - Here we include some variants \n",
    "- Note that here we make the general assumption that:\n",
    "    - Reviews are invariant to time, region, cuisine type, food price and quality"
   ]
  },
  {
   "cell_type": "code",
   "execution_count": 2,
   "metadata": {},
   "outputs": [],
   "source": [
    "# --- Importing the libraries ---\n",
    "import os\n",
    "import pandas as pd\n",
    "import numpy as np\n",
    "\n",
    "# - Plotting -\n",
    "import matplotlib.pyplot as plt\n",
    "import seaborn as sns\n",
    "sns.set(style=\"ticks\", color_codes=True)\n",
    "\n",
    "# - DL Libs -\n",
    "from keras.utils.np_utils import to_categorical\n",
    "from keras.preprocessing.text import Tokenizer\n",
    "from keras.preprocessing.sequence import pad_sequences\n",
    "from keras.layers import Bidirectional, SimpleRNN\n",
    "from keras.layers import Dense, Input, LSTM, Embedding, Dropout, Activation\n",
    "from keras.models import Model"
   ]
  },
  {
   "cell_type": "code",
   "execution_count": 2,
   "metadata": {},
   "outputs": [],
   "source": [
    "# Setting up the path directories\n",
    "cwd_path = os.getcwd()\n",
    "path_to_data = os.path.join(cwd_path,'data_yelp_text')\n",
    "review_data = os.path.join(path_to_data,'yelp_academic_dataset_review.json')\n",
    "buisness_data = os.path.join(path_to_data,'yelp_academic_dataset_business.json')"
   ]
  },
  {
   "cell_type": "code",
   "execution_count": 3,
   "metadata": {},
   "outputs": [],
   "source": [
    "# We will use need buisness info to join the reviews\n",
    "reviews = pd.read_json(review_data, lines=True)\n",
    "businesses = pd.read_json(buisness_data, lines=True)"
   ]
  },
  {
   "cell_type": "code",
   "execution_count": 4,
   "metadata": {},
   "outputs": [
    {
     "name": "stdout",
     "output_type": "stream",
     "text": [
      "\n",
      "----- In the dataset there are -----\n",
      "        5996996 reviews\n",
      "        188593 businesses\n"
     ]
    }
   ],
   "source": [
    "# ---- How many businesses and reviews ----\n",
    "print(\"\"\"\n",
    "----- In the dataset there are -----\n",
    "        {r} reviews\n",
    "        {b} businesses\"\"\".format(r = reviews.shape[0], \n",
    "                                 b = businesses.shape[0]))"
   ]
  },
  {
   "cell_type": "code",
   "execution_count": 5,
   "metadata": {},
   "outputs": [
    {
     "name": "stdout",
     "output_type": "stream",
     "text": [
      "There are 50000 reviews\n"
     ]
    }
   ],
   "source": [
    "# ---- Pulling out relevant columns ----\n",
    "cols_of_interst = ['business_id', 'text','stars']\n",
    "n_samples = 50000\n",
    "reviews_small = reviews.sample(n_samples,random_state=1)[cols_of_interst]\n",
    "print('There are {} reviews'.format(reviews_small.shape[0]))"
   ]
  },
  {
   "cell_type": "code",
   "execution_count": 6,
   "metadata": {},
   "outputs": [],
   "source": [
    "# ---- Optional: Filtering columns based on location ----\n",
    "restaurants_of_interest = businesses.loc[businesses.city == \"Montréal\"]\n",
    "restaurants_of_interest_ids = restaurants_of_interest.business_id"
   ]
  },
  {
   "cell_type": "code",
   "execution_count": 7,
   "metadata": {},
   "outputs": [
    {
     "data": {
      "image/png": "[encoded data removed]",
      "text/plain": [
       "<matplotlib.figure.Figure at 0x7f180d70c2b0>"
      ]
     },
     "metadata": {},
     "output_type": "display_data"
    }
   ],
   "source": [
    "# --- Plotting number of stars ---\n",
    "# Looks like we have mainly negative reviews\n",
    "x=reviews_small.stars.value_counts()\n",
    "y=x.sort_index()\n",
    "#plot\n",
    "plt.figure(figsize=(8,4))\n",
    "ax= sns.barplot(y.index, x.values, alpha=0.8)\n",
    "plt.title(\"Yelp Stars for business\")\n",
    "plt.ylabel('Number of businesses', fontsize=12)\n",
    "plt.xlabel('Stars acquired ', fontsize=12);\n",
    "# Note:\n",
    "# It would also be good to plot the average sentence size since it\n",
    "# informs how many words we should use in each sentence"
   ]
  },
  {
   "cell_type": "code",
   "execution_count": 8,
   "metadata": {},
   "outputs": [],
   "source": [
    "# --- Setting up the LTR ---\n",
    "LTR_apply = lambda x: 1 if x == 5 else ( 0 if x == 4 else -1)\n",
    "reviews_small[\"labels\"]= reviews.stars.apply(LTR_apply)\n",
    "reviews_small.head()\n",
    "\n",
    "# --- Loading text and labels ----\n",
    "texts = reviews_small[\"text\"].values\n",
    "labels = reviews_small[\"labels\"].values"
   ]
  },
  {
   "cell_type": "code",
   "execution_count": 9,
   "metadata": {},
   "outputs": [],
   "source": [
    "# --- Tokenizing texts ----\n",
    "MAX_NUM_WORDS = 5000 \n",
    "MAX_SEQUENCE_LENGTH = 100 \n",
    "\n",
    "tokenizer = Tokenizer(num_words=MAX_NUM_WORDS)\n",
    "tokenizer.fit_on_texts(texts)\n",
    "sequences = tokenizer.texts_to_sequences(texts)"
   ]
  },
  {
   "cell_type": "code",
   "execution_count": 10,
   "metadata": {},
   "outputs": [
    {
     "name": "stdout",
     "output_type": "stream",
     "text": [
      "Sample sequence: 3 26 202 382 2 8 6 289 831 1 85 3889 115 3 21 145 23 1 28 6 4679 17 23 1 906 123 14 433 4680 2 1 42 6 2767 1 11 1314 6 4 503 2837 124 1901 5 1295 1154 7 292 7 1 2239 317 3 69 5 12 2853 20 15 151 2 1 91 6 61 79 5 2095 121 280 2928 4 439 14 4 2468 2084 11 8 2 1030 108 254 3073 10 75 3 6 2175 988 18 3 387 4150 13 8 6 1 176 545 210 3 21 145 23\n"
     ]
    }
   ],
   "source": [
    "# --  Sample sequence ---\n",
    "# We have 50000 samples with varying lengths (but capped at a length of 100)\n",
    "print('Sample sequence: ' + ' '.join(str(e) for e in sequences[0]))\n",
    "#labels"
   ]
  },
  {
   "cell_type": "code",
   "execution_count": 11,
   "metadata": {},
   "outputs": [
    {
     "data": {
      "text/plain": [
       "array([[0., 1., 0.],\n",
       "       [0., 0., 1.],\n",
       "       [0., 1., 0.],\n",
       "       ...,\n",
       "       [0., 1., 0.],\n",
       "       [1., 0., 0.],\n",
       "       [0., 0., 1.]], dtype=float32)"
      ]
     },
     "execution_count": 11,
     "metadata": {},
     "output_type": "execute_result"
    }
   ],
   "source": [
    "to_categorical(np.asarray(labels), num_classes = 3) # <----- need to change to categorical"
   ]
  },
  {
   "cell_type": "code",
   "execution_count": 12,
   "metadata": {},
   "outputs": [
    {
     "name": "stdout",
     "output_type": "stream",
     "text": [
      "Found 63661 unique tokens in the texts.\n",
      "Shape of data tensor: (50000, 100)\n",
      "Shape of label tensor: (50000, 3)\n"
     ]
    }
   ],
   "source": [
    "# --- Tokenizing the words ---\n",
    "word_index = tokenizer.word_index\n",
    "print('Found {w} unique tokens in the texts.'.format(w=len(word_index)))\n",
    "\n",
    "# --- Padding sequences ---\n",
    "data = pad_sequences(sequences, maxlen=MAX_SEQUENCE_LENGTH)\n",
    "\n",
    "# --- Setting up categoires (one-hot-encoded) ---\n",
    "labeled_categories = to_categorical(labels, num_classes=3)\n",
    "print('Shape of data tensor:', data.shape)\n",
    "print('Shape of label tensor:', labeled_categories.shape)"
   ]
  },
  {
   "cell_type": "code",
   "execution_count": 13,
   "metadata": {},
   "outputs": [],
   "source": [
    "# --- Splitting out data intro training/test ----\n",
    "VALIDATION_SPLIT=0.2\n",
    "\n",
    "# Note: since this is a random sample we don't really\n",
    "# need a shuffle but will but is included for completeness\n",
    "indices = np.arange(data.shape[0])\n",
    "np.random.shuffle(indices)\n",
    "data = data[indices]\n",
    "labeled_categories = labeled_categories[indices]\n",
    "nb_validation_samples = int(VALIDATION_SPLIT * data.shape[0])\n",
    "\n",
    "# --- Train/Validation Set ---\n",
    "x_train = data[:-nb_validation_samples]\n",
    "y_train = labeled_categories[:-nb_validation_samples]\n",
    "x_val = data[-nb_validation_samples:]\n",
    "y_val = labeled_categories[-nb_validation_samples:]"
   ]
  },
  {
   "cell_type": "code",
   "execution_count": 14,
   "metadata": {},
   "outputs": [
    {
     "name": "stdout",
     "output_type": "stream",
     "text": [
      "Found 400000 word vectors.\n"
     ]
    }
   ],
   "source": [
    "# --- Setting up embedding layer ----\n",
    "# Here we use pretrained GloVe Embeddings in 100d space\n",
    "# Note that you can access the embeddings at:\n",
    "# (1) https://nlp.stanford.edu/projects/glove/ or\n",
    "# (2) https://github.com/stanfordnlp/GloVe\n",
    "\n",
    "# - Setting the path directory -\n",
    "path_to_glove ='fill in'\n",
    "glove_dir = os.path.join(path_to_glove, 'glove_6B')\n",
    "\n",
    "# Dictionary where we store the word:vector_embedding map\n",
    "embeddings_index = {}\n",
    "\n",
    "# Setting up embedding array\n",
    "f = open(os.path.join(glove_dir, 'glove.6B.100d.txt'))\n",
    "for line in f:\n",
    "    values = line.split()\n",
    "    # - First entry is the word -\n",
    "    word = values[0]\n",
    "    # - The remaining vectors are strings that need to be converted to floats-\n",
    "    coefs = np.asarray(values[1:], dtype='float32')\n",
    "    # Embeddings is a dictionary of words:word_vector_embeddings\n",
    "    embeddings_index[word] = coefs\n",
    "f.close()\n",
    "print('Found {} word vectors.'.format(len(embeddings_index)))"
   ]
  },
  {
   "cell_type": "code",
   "execution_count": 15,
   "metadata": {},
   "outputs": [
    {
     "data": {
      "text/plain": [
       "array([-0.090436 ,  0.19636  ,  0.29474  , -0.47706  , -0.80436  ,\n",
       "        0.3078   , -0.55205  ,  0.58453  , -0.17056  , -0.84846  ,\n",
       "        0.19528  ,  0.23671  ,  0.46827  , -0.58977  , -0.12163  ,\n",
       "       -0.24697  , -0.072944 ,  0.17259  , -0.0485   ,  0.9527   ,\n",
       "        0.50629  ,  0.58497  , -0.19367  , -0.45459  , -0.031095 ,\n",
       "        0.51633  , -0.24052  , -0.1007   ,  0.53627  ,  0.024225 ,\n",
       "       -0.50162  ,  0.73692  ,  0.49468  , -0.34744  ,  0.89337  ,\n",
       "        0.057439 , -0.19127  ,  0.39333  ,  0.21182  , -0.89837  ,\n",
       "        0.078704 , -0.16344  ,  0.45261  , -0.41096  , -0.19499  ,\n",
       "       -0.13489  , -0.016313 , -0.021849 ,  0.17136  , -1.2413   ,\n",
       "        0.079503 , -0.91144  ,  0.35699  ,  0.36289  , -0.24934  ,\n",
       "       -2.1196   ,  0.14534  ,  0.52964  ,  0.90134  ,  0.033603 ,\n",
       "        0.022809 ,  0.70625  , -1.0362   , -0.59809  ,  0.70592  ,\n",
       "       -0.072793 ,  0.67033  ,  0.52763  , -0.47807  , -0.67374  ,\n",
       "        0.36632  , -0.38284  , -0.10349  , -0.6402   ,  0.18104  ,\n",
       "        0.82568  ,  0.066403 , -0.40791  , -0.083813 , -0.36487  ,\n",
       "        0.045362 , -0.073527 , -0.20117  ,  0.37441  , -1.4024   ,\n",
       "       -0.25605  , -0.4708   , -0.16145  , -0.87921  , -0.36325  ,\n",
       "       -0.17357  , -0.077983 ,  0.43273  ,  0.0089295, -1.0316   ,\n",
       "       -0.11589  , -0.34524  ,  0.11514  , -0.40812  ,  0.20203  ],\n",
       "      dtype=float32)"
      ]
     },
     "execution_count": 15,
     "metadata": {},
     "output_type": "execute_result"
    }
   ],
   "source": [
    "# -- Embedding of 'happy' ---\n",
    "embeddings_index['happy']"
   ]
  },
  {
   "cell_type": "code",
   "execution_count": 16,
   "metadata": {},
   "outputs": [],
   "source": [
    "# --- Creating the embedding matrix from our feedback ----\n",
    "# Embedding dimension\n",
    "EMBEDDING_DIM = 100 \n",
    "\n",
    "# Embedding matrix (63661,100)\n",
    "# Recall word_index is a dictionary mapping between words and numbers\n",
    "embedding_matrix = np.zeros((len(word_index) + 1, EMBEDDING_DIM))\n",
    "\n",
    "# Mapping word embeddings to vals in matrix\n",
    "for word, i in word_index.items():\n",
    "    embedding_vector = embeddings_index.get(word)\n",
    "    if embedding_vector is not None:\n",
    "        # words not found in embedding index will be all-zeros.\n",
    "        embedding_matrix[i] = embedding_vector\n",
    "        "
   ]
  },
  {
   "cell_type": "code",
   "execution_count": 17,
   "metadata": {},
   "outputs": [],
   "source": [
    "# --- Define embedding layer ----\n",
    "from keras.layers import Embedding\n",
    "\n",
    "# Note that we freeze the embedding layer\n",
    "# The embedding functions selects\n",
    "embedding_layer = Embedding(len(word_index) + 1,\n",
    "                            EMBEDDING_DIM,\n",
    "                            weights=[embedding_matrix],\n",
    "                            input_length=MAX_SEQUENCE_LENGTH,\n",
    "                            trainable=False)"
   ]
  },
  {
   "cell_type": "code",
   "execution_count": 18,
   "metadata": {},
   "outputs": [
    {
     "name": "stdout",
     "output_type": "stream",
     "text": [
      "_________________________________________________________________\n",
      "Layer (type)                 Output Shape              Param #   \n",
      "=================================================================\n",
      "input_1 (InputLayer)         (None, 100)               0         \n",
      "_________________________________________________________________\n",
      "embedding_1 (Embedding)      (None, 100, 100)          6366200   \n",
      "_________________________________________________________________\n",
      "bidirectional_1 (Bidirection (None, 200)               40200     \n",
      "_________________________________________________________________\n",
      "dense_1 (Dense)              (None, 3)                 603       \n",
      "=================================================================\n",
      "Total params: 6,407,003\n",
      "Trainable params: 40,803\n",
      "Non-trainable params: 6,366,200\n",
      "_________________________________________________________________\n"
     ]
    }
   ],
   "source": [
    "# --- Rudnning the model ----\n",
    "# - Here we use the functional API -\n",
    "inp = Input(shape=(MAX_SEQUENCE_LENGTH,))\n",
    "x = embedded_sequences = embedding_layer(inp)\n",
    "x = Bidirectional(SimpleRNN(100, \n",
    "                             return_sequences=False, \n",
    "                             dropout=0.1, \n",
    "                             recurrent_dropout=0.1))(x)\n",
    "x = Dense(3, activation=\"softmax\")(x)\n",
    "\n",
    "# Setting the model\n",
    "model = Model(inputs=inp, outputs=x)\n",
    "\n",
    "# Compiling the model\n",
    "model.compile(loss='categorical_crossentropy', optimizer='rmsprop', metrics=['accuracy'])\n",
    "\n",
    "# Model summary\n",
    "model.summary()"
   ]
  },
  {
   "cell_type": "code",
   "execution_count": 21,
   "metadata": {},
   "outputs": [
    {
     "name": "stdout",
     "output_type": "stream",
     "text": [
      "Train on 40000 samples, validate on 10000 samples\n",
      "Epoch 1/20\n",
      "40000/40000 [==============================] - 7s 180us/step - loss: 0.9017 - acc: 0.5867 - val_loss: 0.8743 - val_acc: 0.6103\n",
      "Epoch 2/20\n",
      "40000/40000 [==============================] - 7s 180us/step - loss: 0.8940 - acc: 0.5911 - val_loss: 0.8537 - val_acc: 0.6228\n",
      "Epoch 3/20\n",
      "40000/40000 [==============================] - 8s 191us/step - loss: 0.8938 - acc: 0.5910 - val_loss: 0.9970 - val_acc: 0.5389\n",
      "Epoch 4/20\n",
      "40000/40000 [==============================] - 7s 180us/step - loss: 0.8938 - acc: 0.5927 - val_loss: 0.8493 - val_acc: 0.6248\n",
      "Epoch 5/20\n",
      "40000/40000 [==============================] - 7s 172us/step - loss: 0.8902 - acc: 0.5954 - val_loss: 0.8865 - val_acc: 0.6003\n",
      "Epoch 6/20\n",
      "40000/40000 [==============================] - 7s 174us/step - loss: 0.8851 - acc: 0.5976 - val_loss: 0.8678 - val_acc: 0.6128\n",
      "Epoch 7/20\n",
      "40000/40000 [==============================] - 7s 176us/step - loss: 0.8874 - acc: 0.5962 - val_loss: 0.8616 - val_acc: 0.6128\n",
      "Epoch 8/20\n",
      "40000/40000 [==============================] - 7s 171us/step - loss: 0.8889 - acc: 0.5962 - val_loss: 0.8736 - val_acc: 0.6053\n",
      "Epoch 9/20\n",
      "40000/40000 [==============================] - 7s 178us/step - loss: 0.8780 - acc: 0.6026 - val_loss: 0.9007 - val_acc: 0.5922\n",
      "Epoch 10/20\n",
      "40000/40000 [==============================] - 8s 191us/step - loss: 0.8900 - acc: 0.5929 - val_loss: 0.8795 - val_acc: 0.5978\n",
      "Epoch 11/20\n",
      "40000/40000 [==============================] - 7s 177us/step - loss: 0.8750 - acc: 0.6023 - val_loss: 0.8898 - val_acc: 0.5880\n",
      "Epoch 12/20\n",
      "40000/40000 [==============================] - 8s 197us/step - loss: 0.8739 - acc: 0.6007 - val_loss: 0.8745 - val_acc: 0.6008\n",
      "Epoch 13/20\n",
      "40000/40000 [==============================] - 7s 174us/step - loss: 0.8654 - acc: 0.6058 - val_loss: 0.8918 - val_acc: 0.5759\n",
      "Epoch 14/20\n",
      "40000/40000 [==============================] - 7s 171us/step - loss: 0.8706 - acc: 0.6059 - val_loss: 0.8649 - val_acc: 0.6087\n",
      "Epoch 15/20\n",
      "40000/40000 [==============================] - 7s 175us/step - loss: 0.8706 - acc: 0.6060 - val_loss: 0.8804 - val_acc: 0.5983\n",
      "Epoch 16/20\n",
      "40000/40000 [==============================] - 7s 172us/step - loss: 0.8691 - acc: 0.6065 - val_loss: 0.8636 - val_acc: 0.6047\n",
      "Epoch 17/20\n",
      "40000/40000 [==============================] - 7s 175us/step - loss: 0.8631 - acc: 0.6055 - val_loss: 0.8542 - val_acc: 0.6225\n",
      "Epoch 18/20\n",
      "40000/40000 [==============================] - 7s 178us/step - loss: 0.8620 - acc: 0.6080 - val_loss: 0.8686 - val_acc: 0.6079\n",
      "Epoch 19/20\n",
      "40000/40000 [==============================] - 7s 176us/step - loss: 0.8697 - acc: 0.6052 - val_loss: 0.8915 - val_acc: 0.5851\n",
      "Epoch 20/20\n",
      "40000/40000 [==============================] - 7s 181us/step - loss: 0.8605 - acc: 0.6104 - val_loss: 0.8825 - val_acc: 0.6007\n"
     ]
    }
   ],
   "source": [
    "history = model.fit(x_train, y_train, \n",
    "                    validation_data=(x_val, y_val),\n",
    "          epochs=20, batch_size=256);"
   ]
  },
  {
   "cell_type": "code",
   "execution_count": 22,
   "metadata": {},
   "outputs": [
    {
     "data": {
      "text/plain": [
       "<matplotlib.figure.Figure at 0x7f1818abc4e0>"
      ]
     },
     "execution_count": 22,
     "metadata": {},
     "output_type": "execute_result"
    },
    {
     "data": {
      "image/png": "[encoded data removed]",
      "text/plain": [
       "<matplotlib.figure.Figure at 0x7f1819cbc160>"
      ]
     },
     "metadata": {},
     "output_type": "display_data"
    },
    {
     "data": {
      "text/plain": [
       "<matplotlib.figure.Figure at 0x7f1818abc4e0>"
      ]
     },
     "metadata": {},
     "output_type": "display_data"
    }
   ],
   "source": [
    "#-- Plotting the results --\n",
    "import matplotlib.pyplot as plt\n",
    "\n",
    "# ~ Plotting parameters ~\n",
    "# Pulling out :\n",
    "#   - Training: accuracy and loss\n",
    "#   - validation: accuracy and loss\n",
    "acc = history.history['acc']\n",
    "val_acc = history.history['val_acc']\n",
    "loss = history.history['loss']\n",
    "val_loss = history.history['val_loss']\n",
    "\n",
    "# Plotting the data \n",
    "\n",
    "# Training + Valdiation Accuracy\n",
    "epochs = range(1,len(acc) + 1)\n",
    "plt.plot( epochs, acc, 'bo', label = 'Training Accuracy')\n",
    "plt.plot( epochs, val_acc, 'b', label = 'VAlidation Accuracy')\n",
    "plt.title('Training and validation accuracy')\n",
    "plt.legend()\n",
    "plt.figure()"
   ]
  },
  {
   "cell_type": "code",
   "execution_count": 27,
   "metadata": {},
   "outputs": [
    {
     "data": {
      "text/plain": [
       "array([11067., 22044., 16889.], dtype=float32)"
      ]
     },
     "execution_count": 27,
     "metadata": {},
     "output_type": "execute_result"
    }
   ],
   "source": [
    "l = labeled_categories.sum(axis=0)\n",
    "l "
   ]
  },
  {
   "cell_type": "code",
   "execution_count": 28,
   "metadata": {},
   "outputs": [],
   "source": [
    "from pandas_ml import ConfusionMatrix\n",
    "y_true = y_val.argmax(axis=1)\n",
    "preds  =  model.predict(x_val)"
   ]
  },
  {
   "cell_type": "code",
   "execution_count": 29,
   "metadata": {},
   "outputs": [
    {
     "data": {
      "text/plain": [
       "<matplotlib.figure.Figure at 0x7f18200da6d8>"
      ]
     },
     "execution_count": 29,
     "metadata": {},
     "output_type": "execute_result"
    },
    {
     "data": {
      "image/png": "[encoded data removed]",
      "text/plain": [
       "<matplotlib.figure.Figure at 0x7f1824f7af98>"
      ]
     },
     "metadata": {},
     "output_type": "display_data"
    },
    {
     "data": {
      "text/plain": [
       "<matplotlib.figure.Figure at 0x7f18200da6d8>"
      ]
     },
     "metadata": {},
     "output_type": "display_data"
    }
   ],
   "source": [
    "cm = ConfusionMatrix(y_true, preds.argmax(axis=1))\n",
    "cm.plot(backend='seaborn', normalized=False, annot=True)\n",
    "plt.title('Confusion Matrix Stars prediction')\n",
    "plt.figure(figsize=(12, 10))"
   ]
  },
  {
   "cell_type": "code",
   "execution_count": 155,
   "metadata": {},
   "outputs": [
    {
     "data": {
      "text/plain": [
       "array([[0.07424366, 0.6016894 , 0.00228724]], dtype=float32)"
      ]
     },
     "execution_count": 155,
     "metadata": {},
     "output_type": "execute_result"
    }
   ],
   "source": [
    "model.predict([[x_val[1]]])"
   ]
  },
  {
   "cell_type": "code",
   "execution_count": 31,
   "metadata": {},
   "outputs": [
    {
     "name": "stdout",
     "output_type": "stream",
     "text": [
      "[ 1 -1  1  1 -1]\n"
     ]
    },
    {
     "data": {
      "text/plain": [
       "array([[0., 1., 0.],\n",
       "       [1., 0., 0.],\n",
       "       [0., 1., 0.],\n",
       "       [0., 1., 0.],\n",
       "       [0., 0., 1.]], dtype=float32)"
      ]
     },
     "execution_count": 31,
     "metadata": {},
     "output_type": "execute_result"
    }
   ],
   "source": [
    "print(labels[0:5])\n",
    "labeled_categories[0:5,:]"
   ]
  },
  {
   "cell_type": "code",
   "execution_count": null,
   "metadata": {},
   "outputs": [],
   "source": []
  }
 ],
 "metadata": {
  "kernelspec": {
   "display_name": "Python 3",
   "language": "python",
   "name": "python3"
  },
  "language_info": {
   "codemirror_mode": {
    "name": "ipython",
    "version": 3
   },
   "file_extension": ".py",
   "mimetype": "text/x-python",
   "name": "python",
   "nbconvert_exporter": "python",
   "pygments_lexer": "ipython3",
   "version": "3.5.6"
  },
  "toc": {
   "base_numbering": 1,
   "nav_menu": {},
   "number_sections": true,
   "sideBar": true,
   "skip_h1_title": false,
   "title_cell": "Table of Contents",
   "title_sidebar": "Contents",
   "toc_cell": false,
   "toc_position": {},
   "toc_section_display": true,
   "toc_window_display": false
  }
 },
 "nbformat": 4,
 "nbformat_minor": 2
}
