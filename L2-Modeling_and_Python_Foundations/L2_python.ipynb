{
 "cells": [
  {
   "cell_type": "markdown",
   "metadata": {
    "colab_type": "text",
    "id": "-DiTKVvDy8rF"
   },
   "source": [
    "# Github\n",
    "### Getting set up\n",
    "\n",
    "- Where you can get the code?\n",
    "- All code is hosted on github contained at:\n",
    "- Getting your system up and running - what commands you need to install the software\n",
    "\n",
    "### What is GIT?\n",
    "- Git is a version control system\n",
    "- What that means is that there a central location for you to upload your\n",
    "- This means you can \n",
    "  - Download and edit your code from any computer that has internet access\n",
    "  - Keep updates of you code if there are any changes or new features\n",
    "  - Keep a versioning system that allows you to incrementally build a code base\n",
    "  - Share your code with others \n",
    "  - Contribute updates to others' code repositories\n",
    "  - Download others code repositories\n",
    "- There are different platforms that use git. Github and Gitbucket ar popular choices.\n",
    "- If you are a student or an educator you can sign up for a free account and get a bundle of perks\n",
    "\n",
    "### Downloading code from github\n",
    " You will need to a know a couple of commands for Git commands\n",
    " \n",
    "-To download code use:\n",
    "    - To clone (or copy the repo)\n",
    "     `git clone \\<repo\\>`\n",
    "    - To update your repository from the one on github:\n",
    "     `git pull`\n",
    "- For more information about github checkout this [cheat sheet page]\n",
    "(http://rogerdudler.github.io/git-guide/)\n",
    "\n",
    "\n",
    "### Some Preliminries\n",
    "- We'll be using Python 3.6 in this course\n",
    "  - If you prefer python 2.7 you use the `future` library for forward compatability\n",
    "  - More details can be found [here](https://docs.python.org/3/howto/pyporting.html)\n",
    "- Will not use Windows\n",
    "  - Installation of packages is difficult\n",
    "  - You should probably use a virtual machine\n",
    "  - Difficult setting up GPU\n",
    "  - Tensorflow is under development and hasn't been fully vetted with windows\n",
    "Most architectures use a unix based system - easier to manipulate and modify\n",
    "\n",
    "### Installing libraries\n",
    "- You can use various methods for installing libraries\n",
    "- As part of best practices you should install these libraries in a virtual environment\n",
    "- A virtual environment protects you against modifications to your kernels\n",
    "- Conda should have these installed otherwise you can you use `virtualenv venv`\n",
    "    - For more details about the environment see [here](https://gist.github.com/Geoyi/d9fab4f609e9f75941946be45000632b)\n",
    "- The order in which you install matters since the packages have dependencies\n",
    "- Mac:\n",
    "```bash\n",
    "sudo pip install -U numpy scipy matplotlib pandas jupyter\n",
    "```\n",
    "- Ubunutu\n",
    " - Provided you have python package manager installed (pip) can use similar command otherwise use:\n",
    " ```bash\n",
    " sudo apt-get install python-numpy python-scipy python-matplotlib python-pandas python-jupyter\n",
    " ```"
   ]
  },
  {
   "cell_type": "markdown",
   "metadata": {
    "colab_type": "text",
    "id": "1Sp9-zG4y8rI"
   },
   "source": [
    "# Python review\n",
    "### Lists vs Arrays\n",
    "- What's a python list?\n",
    "- What's a python array?\n",
    "- How are lists and arrays different?\n",
    "- What are the tradeoffs between a list and array"
   ]
  },
  {
   "cell_type": "code",
   "execution_count": 0,
   "metadata": {
    "colab": {},
    "colab_type": "code",
    "id": "qTGePtQKy8rL",
    "outputId": "95451054-0cba-4be9-cb90-c3afdba1ec87"
   },
   "outputs": [
    {
     "name": "stdout",
     "output_type": "stream",
     "text": [
      "1\n",
      "2\n",
      "3\n",
      "1\n",
      "2\n",
      "3\n"
     ]
    }
   ],
   "source": [
    "# --- Setting up a list/array ---\n",
    "import numpy as np\n",
    "L = [1,2,3]\n",
    "A = np.array([1,2,3])\n",
    "\n",
    "# --- How are they similar? ---\n",
    "## Looping through an array and a list produces the same results:\n",
    "\n",
    "# --- Looping ---\n",
    "#- List -\n",
    "for e in L:\n",
    "    print(e)\n",
    "# - Array -\n",
    "for e in A:\n",
    "    print(e)"
   ]
  },
  {
   "cell_type": "code",
   "execution_count": 0,
   "metadata": {
    "colab": {},
    "colab_type": "code",
    "id": "IcsnMByYy8rf",
    "outputId": "1e629404-edef-4ea0-c9d2-b25d01ff31ab"
   },
   "outputs": [
    {
     "name": "stdout",
     "output_type": "stream",
     "text": [
      "List append [1, 2, 3, 4]\n",
      "List append with `.append` in place [1, 2, 3, 4, 4]\n",
      "List append with '+' [1, 2, 3, 4, 4, 5]\n",
      "Numpy append [1 2 3 5 6 7]\n"
     ]
    }
   ],
   "source": [
    "# --- Append ---\n",
    "# - List -\n",
    "L.append(4)\n",
    "print(\"List append {}\".format(L))\n",
    "# Modifying in place\n",
    "L.append(4) \n",
    "print(\"List append with `.append` in place {}\".format(L))\n",
    "# Using '+' \n",
    "L = L + [5]\n",
    "print(\"List append with '+' {}\".format(L))\n",
    "\n",
    "# - Array -\n",
    "# Cannot use:\n",
    "#   1. `.append(4)`\n",
    "#   2. `+` [4,5]\n",
    "# A.append(4) # -> results in error\n",
    "# A + [4,5] # -> results in error\n",
    "B = np.array([5,6,7])\n",
    "print(\"Numpy append {}\".format(np.append(A,B)))\n"
   ]
  },
  {
   "cell_type": "markdown",
   "metadata": {
    "colab_type": "text",
    "id": "k-hfTLqxy8rp"
   },
   "source": [
    "- You might be thinking why would use a numpyarray at all if it can't append elements  with a `+`\n",
    "- Since numpy is a numeric computation library we use the operation `+` to add elements of an array, this is much easier in numpy than it is with lists\n",
    "- Notes:\n",
    "    - How about if we want to add elements in a list together?\n",
    "    - For example in the case of vector addition?\n",
    "    - A canonic way is to simply use a loop and add them together\n"
   ]
  },
  {
   "cell_type": "code",
   "execution_count": 0,
   "metadata": {
    "colab": {},
    "colab_type": "code",
    "id": "hh25QlGoy8rq",
    "outputId": "517a4d22-de20-486d-8f48-463560200074"
   },
   "outputs": [
    {
     "name": "stdout",
     "output_type": "stream",
     "text": [
      "List addition `+` [2, 4, 6, 8, 8, 10]\n",
      "Numpy addition `+` [2 4 6]\n",
      "Numpy addition 1D:`+` [[1 2 3]\n",
      " [4 5 6]\n",
      " [7 8 9]]\n",
      "Numpy addition `2D:+` [[ 2  4  6]\n",
      " [ 8 10 12]\n",
      " [14 16 18]]\n",
      "Numpy element-wise multiplication [[ 1  4  9]\n",
      " [16 25 36]\n",
      " [49 64 81]]\n",
      "Numpy element-wise integer division [[0.5 1.  1.5]\n",
      " [2.  2.5 3. ]\n",
      " [3.5 4.  4.5]]\n",
      "[[0.5 1.  1.5]\n",
      " [2.  2.5 3. ]\n",
      " [3.5 4.  4.5]]\n",
      "Scalar multiplication [2 4 6]\n",
      "Squaring [1 4 9]\n",
      "Exponentation [ 2.71828183  7.3890561  20.08553692]\n",
      "Log [0.         0.69314718 1.09861229]\n",
      "Square root [1.         1.41421356 1.73205081]\n"
     ]
    }
   ],
   "source": [
    "# --- Algebraic Operations ---\n",
    "\n",
    "# -- Addition --\n",
    "# - List -\n",
    "L2 = []\n",
    "for e in L:\n",
    "    L2.append(e + e)\n",
    "print(\"List addition `+` {}\".format(L2))\n",
    "# - Numpy -\n",
    "# 1D-Vector\n",
    "print(\"Numpy addition `+` {}\".format(A+A))\n",
    "# Nd-Vector\n",
    "M = np.array([[1,2,3],[4,5,6],[7,8,9]])\n",
    "print(\"Numpy addition 1D:`+` {}\".format(M))\n",
    "print(\"Numpy addition `2D:+` {}\".format(M + M))\n",
    "\n",
    "# -- Multiplication --\n",
    "# - Numpy -\n",
    "print(\"Numpy element-wise multiplication {}\".format(M * M))\n",
    "\n",
    "# -- Division --\n",
    "# - Numpy -\n",
    "# Directly applying without converting to float:\n",
    "print(\"Numpy element-wise integer division {}\".format(M /2))\n",
    "# Re-writing this as:\n",
    "M = np.array([[1,2,3],[4,5,6],[7,8,9]], dtype=float)\n",
    "print(M/2)\n",
    "\n",
    "\n",
    "# -- Element-wise operations --\n",
    "# - Scalar Multiplication -\n",
    "print(\"Scalar multiplication {}\".format(2 * A))\n",
    "# - Squaring -\n",
    "print(\"Squaring {}\".format(A**2))\n",
    "# - Exponentiation -\n",
    "print(\"Exponentation {}\".format(np.exp(A)))\n",
    "# - Logs -\n",
    "print(\"Log {}\".format(np.log(A)))\n",
    "# - Square roots -\n",
    "print(\"Square root {}\".format(np.sqrt(A)))"
   ]
  },
  {
   "cell_type": "markdown",
   "metadata": {
    "colab_type": "text",
    "id": "E3xEVpUGy8rz"
   },
   "source": [
    "- In contrast these operations are not algebraic with lists\n",
    "- To perform the same elementwise operations they need to be looped over"
   ]
  },
  {
   "cell_type": "code",
   "execution_count": 0,
   "metadata": {
    "colab": {},
    "colab_type": "code",
    "id": "aWv3qKaWy8r3",
    "outputId": "04d90131-6167-465a-e8c8-9d644830ace5"
   },
   "outputs": [
    {
     "name": "stdout",
     "output_type": "stream",
     "text": [
      "Multiplication list: [1, 2, 3, 4, 4, 5, 1, 2, 3, 4, 4, 5]\n",
      "[0.5, 1.0, 1.5, 2.0, 2.0, 2.5]\n"
     ]
    }
   ],
   "source": [
    "print(\"Multiplication list: {}\".format(2 * L))\n",
    "# print(\"Division list, results in an error {}\".format(L/2))\n",
    "# - List Division -\n",
    "L2 = []\n",
    "for e in L:\n",
    "    L2.append(e/2.0)\n",
    "print(L2)"
   ]
  },
  {
   "cell_type": "markdown",
   "metadata": {
    "colab_type": "text",
    "id": "jkZQy-vyy8r-"
   },
   "source": [
    "### Summary: Numpy vs lists\n",
    "- Numpy arrays are more convenient than lists for certain operations\n",
    "\n",
    "- Numpy arrays are used to manipulate vectors/matrices\n",
    "\n",
    "- We can apply similar operations to lists however requires looping through the elements of the list\n",
    "\n",
    "- In general `for` loops are slow - so we want to avoid looping through them\n",
    "    - Rather vector implementations are preferred\n",
    "\n",
    "- In addition numpy arrays have been optimized on the backend to use `C++` modules to be perfomant "
   ]
  },
  {
   "cell_type": "markdown",
   "metadata": {
    "colab_type": "text",
    "id": "QTH9FRw_y8sG"
   },
   "source": [
    "## Other operations\n",
    "### Dot products\n",
    "- Why are dot products important?\n",
    "- Where are dot products used?\n",
    "- How do dot products work?\n",
    "\n",
    "- Definition:\n",
    "    - Let $a$ and $b$ be two $n\\times 1$ columns vectors, then the dot product between $a$ and $b$ is given by:\n",
    "    $$\n",
    "    a\\cdot b = a^Tb = \\sum_{i=1}^na_id_i\n",
    "    $$\n",
    "    or equivalently using the $cos(\\theta)$ notation:\n",
    "    $$\n",
    "    a\\cdot b = ||a||\\times||b||\\cos_{a,b}(\\theta)\n",
    "    $$ \n",
    "    where $a^T$ is the vector transpose of $a$ and $||a||$ is the magnitude of $a$. \n",
    "\n",
    "- Recall that the magnitude of the vector $a = [x_1,x_2,....,x_n]^T$ is calculated as \n",
    "$$\n",
    "||a|| = \\sqrt{\\sum_{i=1}^n a_i^2}\n",
    "$$\n",
    "this is also called the $L_2$ norm. We'll see different $L$ norms later in the course\n",
    "\n",
    "- Since the angle between $a$ and $b$ is typically unknown we usually use the first definition to inform the second, specficially:\n",
    "$$\n",
    "\\cos_{a,b}(\\theta) = \\frac{a^Tb}{||a||\\times||b||}\n",
    "$$\n"
   ]
  },
  {
   "cell_type": "code",
   "execution_count": 0,
   "metadata": {
    "colab": {},
    "colab_type": "code",
    "id": "D8MhWxwFy8sK",
    "outputId": "bd20cad9-a95c-4602-e39f-8e680b80cea6"
   },
   "outputs": [
    {
     "name": "stdout",
     "output_type": "stream",
     "text": [
      "The dot product is 60\n",
      "Function Approach 1: numpy method: 60\n",
      "Function Approach 2: `sum` as an instance method 60\n",
      "Builtin Approach 1: 60\n",
      "Builtin Approach 2: instance method 60\n"
     ]
    }
   ],
   "source": [
    "# -------------------------------\n",
    "# ---- Dot Product: Method 1 ----\n",
    "# -------------------------------\n",
    "# --- Zip --- \n",
    "# `zip` is a utility \n",
    "# function for creating tuples \n",
    "# l1 = [1,2,3]; l2 = [4,5,6];\n",
    "# print(\"Zipped list {}\".format(zip(a1,a2)))\n",
    "\n",
    "# --- Dot Product: Loop Approach --\n",
    "a1 = np.array([6,2,3,4,5])\n",
    "a2 = np.array([5,4,3,2,1])\n",
    "\n",
    "# - Loop approach -\n",
    "dotProduct = 0 # Initial value\n",
    "\n",
    "# Loop\n",
    "for e1, e2 in zip(a1,a2):\n",
    "    dotProduct += e1*e2\n",
    "print(\"The dot product is {}\".format(dotProduct))\n",
    "\n",
    "# --- Dot Product: Function approach ---\n",
    "approach_1 = np.sum(a1*a2)\n",
    "approach_2 = (a1*a2).sum()\n",
    "print(\"Function Approach 1: numpy method: {}\".format(approach_1))\n",
    "print(\"Function Approach 2: `sum` as an instance method {}\" .format(approach_2))\n",
    "\n",
    "# --- DotProduct: Buitlin ---\n",
    "builtin_1 = np.dot(a1, a2)\n",
    "builtin_2 =  a1.dot(a2)\n",
    "print(\"Builtin Approach 1: {}\".format(builtin_1))\n",
    "print(\"Builtin Approach 2: instance method {}\".format(builtin_2))      "
   ]
  },
  {
   "cell_type": "markdown",
   "metadata": {
    "colab_type": "text",
    "id": "kCJHhOB4y8sT"
   },
   "source": [
    "- Now let's try the alternate way to caluclate the dot produt using the magintude and cos\n",
    "- First we need to calculate the magnitude of a and b, we ca do this using the dot product and square root function"
   ]
  },
  {
   "cell_type": "code",
   "execution_count": 0,
   "metadata": {
    "colab": {},
    "colab_type": "code",
    "id": "0JKyxFWdy8sW",
    "outputId": "db371b05-c1df-4314-97b8-2105c8d89d5e"
   },
   "outputs": [
    {
     "name": "stdout",
     "output_type": "stream",
     "text": [
      "Direct calculation of L2 norm 9.486832980505138\n",
      "`lingalg` calculation of L2 norm 9.486832980505138\n",
      "Angle (degrees) from dot product 0.8528028654224418\n",
      "Angle (radians) from dot product 0.5494672447576273\n"
     ]
    }
   ],
   "source": [
    "# ----------------------------------------\n",
    "# ---- Dot Product: Method 2 (Angle) ----\n",
    "# ----------------------------------------\n",
    "# L2 Norm: Method 1 - Direct\n",
    "a1Mag = np.sqrt(a1.dot(a1)) ; a2Mag = np.sqrt(a2.dot(a2))\n",
    "print(\"Direct calculation of L2 norm {}\".format(a1Mag))\n",
    "# assert(a1Mag == a2Mag) #<- Method is commutative: Unit test\n",
    "\n",
    "# L2 Norm: Method 2 - Builtin `linalg`\n",
    "a1MagM2 = np.linalg.norm(a1) ; a2MagM2 = np.linalg.norm(a2)\n",
    "print(\"`lingalg` calculation of L2 norm {}\".format(a1MagM2))\n",
    "\n",
    "# -- Angle Calculation ---\n",
    "cosAngle = a1.dot(a2) / (a1Mag * a2Mag)\n",
    "print(\"Angle (degrees) from dot product {}\".format(cosAngle))\n",
    "        \n",
    "# -- Angle in Radians --\n",
    "angle = np.arccos(cosAngle)\n",
    "print(\"Angle (radians) from dot product {}\".format(angle))\n"
   ]
  },
  {
   "cell_type": "markdown",
   "metadata": {
    "colab_type": "text",
    "id": "iTfVvK0ny8sj"
   },
   "source": [
    "## Time complexity\n",
    "- We've seen several different ways to calculate the dot product\n",
    "- A natural question to ask is \"Is one better than another with respect to run time (and memory)?\"\n",
    "    - This is important when processing large files \n",
    "    - Small differences compound and result in in large performance gains\n",
    "- Run time is in the context of __time complexity__\n",
    "- Runtime complexity is denoted by one of the four operators:\n",
    "  - $O(\\cdot)$ which is an asymptotic bound on run-time\n",
    "      - That is if we increased the size of the operation to infinfity what would the lower bound on the runtime converge to? \n",
    "      - For example:\n",
    "          - Suppose a function accepts the parameter $n$\n",
    "          - We find that as the size of $n$ increases our function would complete in linear time\n",
    "          - Then we say our function has $O(n)$ time complexity and implies that our runtime will increase linearly with input $n$\n",
    "  - [Rob Bell](https://rob-bell.net/2009/06/a-beginners-guide-to-big-o-notation/) has a good page explaining the differences and couple of examples between:\n",
    "      - $O(1)$ - constant, \n",
    "      - $O(n)$ - linear,\n",
    "      - $O(n^2)$ - quadratic and \n",
    "      - $O(\\log(n))$ -log runtime complexity\n",
    "- Let's take a look at acouple of functions and how long they take to execute\n",
    "    - We are going to use the function `timeit` to loop through a function 1000- times and return it's values"
   ]
  },
  {
   "cell_type": "code",
   "execution_count": 0,
   "metadata": {
    "colab": {},
    "colab_type": "code",
    "id": "RFrCP8Zfy8sm",
    "outputId": "18418f9c-70c1-4e88-b88e-fc8bc5e5b4c6"
   },
   "outputs": [
    {
     "name": "stdout",
     "output_type": "stream",
     "text": [
      "\n",
      "    The total run time using a loop is 1.375235, \n",
      "    The total run time using Numpy is: 0.005416. \n",
      "    The difference in runtime dtLoop/dtNumPy: 253.92079025110783 \n",
      "    \n"
     ]
    }
   ],
   "source": [
    "# ------------------------\n",
    "# ---- Library Import ----\n",
    "# ------------------------\n",
    "import numpy as np\n",
    "from datetime import datetime\n",
    "\n",
    "# --------------------------------\n",
    "# ---- Run-time: Dot Products ----\n",
    "# --------------------------------\n",
    "\n",
    "# ---- Setting up Functions to Compare ----\n",
    "# -- Dot Product: Loop --\n",
    "def loopDotProduct(a1, a2):\n",
    "    dotProduct = 0\n",
    "    for e1, e2 in zip(a1, a2):\n",
    "        dotProduct += e1 * e2\n",
    "    return dotProduct\n",
    "\n",
    "# -- Dot product: Numpy --\n",
    "def numpyDotProduct(a1, a2):\n",
    "    return a1.dot(a2)\n",
    "\n",
    "# ---- Constants ----\n",
    "np.random.seed(1234)\n",
    "number_of_loops = 10000\n",
    "# Two random arrays\n",
    "a1 = np.random.randn(1000)\n",
    "a2 = np.random.randn(1000) \n",
    "\n",
    "# ---- Run-time Comparison ----\n",
    "# - Loop method -\n",
    "t0 = datetime.now()\n",
    "for n in range(number_of_loops):\n",
    "    loopDotProduct(a1, a2)\n",
    "dtLoop = datetime.now() - t0\n",
    "\n",
    "# - Numpy method -\n",
    "t0 = datetime.now()\n",
    "for n in range(number_of_loops):\n",
    "    numpyDotProduct(a1, a2)\n",
    "dtNumPy = datetime.now() - t0\n",
    "\n",
    "# - Print results -\n",
    "secondsLoop = dtLoop.total_seconds()\n",
    "secondsNumPy = dtNumPy.total_seconds()\n",
    "\n",
    "print('''\n",
    "    The total run time using a loop is {a}, \n",
    "    The total run time using Numpy is: {b}. \n",
    "    The difference in runtime dtLoop/dtNumPy: {c} \n",
    "    '''.format(a = secondsLoop, b = secondsNumPy, c = secondsLoop/secondsNumPy))"
   ]
  },
  {
   "cell_type": "markdown",
   "metadata": {
    "colab_type": "text",
    "id": "mQXPJtw8y8ss"
   },
   "source": [
    "- The output indicates the runtime using NumPy is ~300 times faster than a for loop method!\n",
    "- A more idiomatic programming apporach is using the `timeit` function rather than system time for benchmarking, rewriting the methods"
   ]
  },
  {
   "cell_type": "code",
   "execution_count": 0,
   "metadata": {
    "colab": {},
    "colab_type": "code",
    "id": "oKwfdztey8ss",
    "outputId": "0c951ca3-1f77-4a87-dc1d-2b27dfa6dc5c"
   },
   "outputs": [
    {
     "name": "stdout",
     "output_type": "stream",
     "text": [
      "10000 loops, best of 3: 22 µs per loop\n",
      "The slowest run took 7.24 times longer than the fastest. This could mean that an intermediate result is being cached.\n",
      "100000 loops, best of 3: 8.09 µs per loop\n"
     ]
    }
   ],
   "source": [
    "import timeit\n",
    "import functools\n",
    "np.random.seed(1234)\n",
    "\n",
    "%timeit loopDotProduct(np.random.randn(100),np.random.randn(100))\n",
    "%timeit numpyDotProduct(np.random.randn(100),np.random.randn(100))\n"
   ]
  },
  {
   "cell_type": "markdown",
   "metadata": {
    "colab_type": "text",
    "id": "rP0sdsYTy8su"
   },
   "source": [
    "## Numpy Matrix Operations\n",
    "- Here we investigate `numpy` matrices, using numpy arrays\n",
    "    - These are effectively wrappers for arrays however have builtin convenience methods\n",
    "\n",
    "- A matrix is simply an array of arrays\n",
    "    - It is a $n \\times m$ object, where $n$ is the number of rows and $m$ is the bnumber of columns\n",
    "    - Arrays can further be embedded to create higher order matrices such as tensors\n",
    "    - For example a real 3-tensor is $\\mathbb{R}^{n\\times m \\times q}$ dimensional objects\n",
    "    - With higher order matrics some properties however do not generalize\n",
    "        - Matrices are a special subclass of 2D tensors\n",
    "- Note:\n",
    "    - The inclusion of `dtype` when specifying a matrix (or tensor) specifies the matrix-type\n",
    "    - For larger arrays there is a trade-off between different types: floats, integers, chars, booleans\n",
    "    - In terms of memory \"chars > floats > ints\"\n",
    "    - Arrays take lists as inputs\n",
    "    - Since matrices are such common objects numpy has a built in method for matrices"
   ]
  },
  {
   "cell_type": "code",
   "execution_count": 0,
   "metadata": {
    "colab": {},
    "colab_type": "code",
    "id": "8m2_vGxpy8su",
    "outputId": "144cf048-1874-4060-a60e-e7bcee78b44a"
   },
   "outputs": [
    {
     "name": "stdout",
     "output_type": "stream",
     "text": [
      "A 3x3 matrix with type `float` \n",
      "[[ 1.  2.  3.]\n",
      " [ 4.  5.  6.]\n",
      " [ 7.  8. 10.]]\n",
      "[[ 1.  4.  7.]\n",
      " [ 2.  5.  8.]\n",
      " [ 3.  6. 10.]]\n",
      "[[ 1.  4.  7.]\n",
      " [ 2.  5.  8.]\n",
      " [ 3.  6. 10.]]\n",
      "[[-0.66666667 -1.33333333  1.        ]\n",
      " [-0.66666667  3.66666667 -2.        ]\n",
      " [ 1.         -2.          1.        ]]\n",
      "[[ 30.  36.  45.]\n",
      " [ 66.  81. 102.]\n",
      " [109. 134. 169.]]\n",
      "[[ 489.  600.  756.]\n",
      " [1104. 1353. 1704.]\n",
      " [1828. 2240. 2821.]]\n",
      "6.0\n"
     ]
    },
    {
     "ename": "AssertionError",
     "evalue": "Array is not the same as a matrix",
     "output_type": "error",
     "traceback": [
      "\u001b[0;31m---------------------------------------------------------------------------\u001b[0m",
      "\u001b[0;31mAssertionError\u001b[0m                            Traceback (most recent call last)",
      "\u001b[0;32m<ipython-input-9-d40d4ce1507c>\u001b[0m in \u001b[0;36m<module>\u001b[0;34m()\u001b[0m\n\u001b[1;32m     19\u001b[0m \u001b[0mprint\u001b[0m\u001b[0;34m(\u001b[0m\u001b[0mM\u001b[0m\u001b[0;34m[\u001b[0m\u001b[0;36m1\u001b[0m\u001b[0;34m,\u001b[0m\u001b[0;36m2\u001b[0m\u001b[0;34m]\u001b[0m\u001b[0;34m)\u001b[0m\u001b[0;34m\u001b[0m\u001b[0m\n\u001b[1;32m     20\u001b[0m \u001b[0;31m# Array - matrix check\u001b[0m\u001b[0;34m\u001b[0m\u001b[0;34m\u001b[0m\u001b[0m\n\u001b[0;32m---> 21\u001b[0;31m \u001b[0;32massert\u001b[0m\u001b[0;34m(\u001b[0m\u001b[0mtype\u001b[0m\u001b[0;34m(\u001b[0m\u001b[0mM\u001b[0m\u001b[0;34m)\u001b[0m \u001b[0;34m==\u001b[0m \u001b[0mtype\u001b[0m\u001b[0;34m(\u001b[0m\u001b[0mM2\u001b[0m\u001b[0;34m)\u001b[0m\u001b[0;34m)\u001b[0m\u001b[0;34m,\u001b[0m \u001b[0;34m'Array is not the same as a matrix'\u001b[0m\u001b[0;34m\u001b[0m\u001b[0m\n\u001b[0m",
      "\u001b[0;31mAssertionError\u001b[0m: Array is not the same as a matrix"
     ]
    }
   ],
   "source": [
    "# ---- Constructing a 3 x 3 matrix ----\n",
    "L = [[1.,2.,3.],[4.,5.,6.],[7.,8.,10.]]\n",
    "M = np.array(L, dtype=float)\n",
    "M2 = np.matrix(L, dtype = float)\n",
    "print(\"A 3x3 matrix with type `float` \\n{}\".format(M))\n",
    "\n",
    "# ---- Common Matrix Operations ---\n",
    "# Including a transpse\n",
    "print(M2.T)\n",
    "# Conjugate tranpose (Hermitian)\n",
    "print(M2.H)\n",
    "# Inverse\n",
    "print(M2.I)\n",
    "# Matrix multiplication\n",
    "print(M2 * M2)\n",
    "# Matrix exponentiation\n",
    "print(M2 ** 3)\n",
    "# Accessing elements w/ index notation\n",
    "print(M[1,2])\n",
    "# Array - matrix check\n",
    "assert(type(M) == type(M2)), 'Array is not the same as a matrix'"
   ]
  },
  {
   "cell_type": "markdown",
   "metadata": {
    "colab_type": "text",
    "id": "t6GGnlhZy8sw"
   },
   "source": [
    "### Linear Algebra Operations\n",
    "- We saw in the previous block that arrays and matrices are not the same thing\n",
    "- Matrices can use linear algebra rules whereas `numpy` arrays act element wise\n",
    "- So why use a `numpy` array?\n",
    "    - Matrices are only 2d dimensional whereas `numpy` arrays are can be $n$ dimensional\n",
    "    - Objects returned with `numpy` class are generally arrays and not matrices\n",
    "    - Accordingly to avoid confusion type mis-matchs it is better to use `numpy` arrays\n",
    "    - To convert a matrix into a `numpy` array use the command `np.array(M)`\n",
    "    - Linear algebra operations act on 2d arrays through the `linalg` module, applying matrix operations to a `numpy` array will result in an error\n",
    "- Additional information about operations that can be performed using the linear algebra module can be found [here](https://docs.scipy.org/doc/numpy/reference/routines.linalg.html)\n",
    "- Below several common matrix operations are presented for 2d arrays"
   ]
  },
  {
   "cell_type": "code",
   "execution_count": 0,
   "metadata": {
    "colab": {},
    "colab_type": "code",
    "id": "i4bp9jsqy8sz",
    "outputId": "5fe211e2-c4a0-4b5a-9f10-bdeabf6ecb58"
   },
   "outputs": [
    {
     "name": "stdout",
     "output_type": "stream",
     "text": [
      "The inverse M(2d `numpyarray`) is\n",
      " [[-0.66666667 -1.33333333  1.        ]\n",
      " [-0.66666667  3.66666667 -2.        ]\n",
      " [ 1.         -2.          1.        ]]\n",
      "The inverse M2(`matrix`) is\n",
      " [[-0.66666667 -1.33333333  1.        ]\n",
      " [-0.66666667  3.66666667 -2.        ]\n",
      " [ 1.         -2.          1.        ]]\n",
      "This should be a matrix of ones:\n",
      "[[1.00000000e+00 0.00000000e+00 1.11022302e-16]\n",
      " [0.00000000e+00 1.00000000e+00 2.22044605e-16]\n",
      " [8.88178420e-16 0.00000000e+00 1.00000000e+00]]\n",
      "This should be a matrix of ones:\n",
      "[[ 1.00000000e+00  0.00000000e+00  2.22044605e-16]\n",
      " [ 1.33226763e-15  1.00000000e+00  8.88178420e-16]\n",
      " [-7.77156117e-16  0.00000000e+00  1.00000000e+00]]\n",
      "Check if elements are close\n",
      "det(M) should be 3 -2.9999999999999996\n",
      "diag(M) [ 1.  5. 10.]\n",
      "tr(M) 16.0\n"
     ]
    }
   ],
   "source": [
    "# --- Loading linalg library ---\n",
    "import numpy.linalg\n",
    "\n",
    "# Matrix inverse\n",
    "Minv = numpy.linalg.inv(M)\n",
    "print(\"The inverse M(2d `numpyarray`) is\\n {}\".format(Minv))\n",
    "print(\"The inverse M2(`matrix`) is\\n {}\".format(M2.I))\n",
    "\n",
    "# Inverse check\n",
    "assert((Minv == M2.I).all()), \"Inverses are not the same\"\n",
    "print(\"This should be a matrix of ones:\\n{}\".format(M.dot(Minv)))\n",
    "print(\"This should be a matrix of ones:\\n{}\".format(Minv.dot(M)))\n",
    "\n",
    "# Here `isclose` rounds the entries in both matrices to see if they are\n",
    "# within in some delta \n",
    "#    - Default relative tolerance: 10^-5\n",
    "#    - Default absolute tolerance 10^-8) tolerance\n",
    "are_inverses_close = np.isclose(M.dot(Minv), Minv.dot(M))\n",
    "print(\"Check if elements are close\".format(are_inverses_close))\n",
    "\n",
    "# Matrix Determinant\n",
    "print(\"det(M) should be 3 {}\".format(np.linalg.det(M)))\n",
    "\n",
    "# Diagonal elements\n",
    "print(\"diag(M) {}\".format(np.diag(M)))\n",
    "\n",
    "# Trace of a matrix\n",
    "print(\"tr(M) {}\".format(np.trace(M)))\n",
    "assert(np.trace(M) == np.diag(M).sum()), \"Trace & diag sum are not the same\""
   ]
  },
  {
   "cell_type": "markdown",
   "metadata": {
    "colab_type": "text",
    "id": "YqEPqQR5y8s3"
   },
   "source": [
    "- Two important matrix operations are the inner and outer product\n",
    "- The __inner product__ is the normed dot product\n",
    "- Whereas the __outer product__ of two vectors generates a matrix\n",
    "    - The outer product is frequently used to calculate the covariance function ie. $E((X-\\mu)(X-\\mu)^T)$\n",
    "- If you are unfamiliar with inner and outer products along with their relation to expectation and covariance this [website](http://www.math.uah.edu/stat/expect/Matrices.html) provides exercises and summaries of how they are used in probability and statistics"
   ]
  },
  {
   "cell_type": "code",
   "execution_count": 0,
   "metadata": {
    "colab": {},
    "colab_type": "code",
    "id": "eDrWKe1oy8s4",
    "outputId": "87e6816e-13c3-48f7-93c1-c285aa8616d1"
   },
   "outputs": [
    {
     "name": "stdout",
     "output_type": "stream",
     "text": [
      "The outer product is:\n",
      "[[ 5  6  7  8]\n",
      " [10 12 14 16]\n",
      " [15 18 21 24]\n",
      " [20 24 28 32]]\n",
      "The inner product is:\n",
      "70\n"
     ]
    }
   ],
   "source": [
    "# Outer product\n",
    "a = np.array([1,2,3,4])\n",
    "b = np.array([5,6,7,8])\n",
    "print(\"The outer product is:\\n{}\".format(np.outer(a,b)))\n",
    "\n",
    "# Inner product\n",
    "print(\"The inner product is:\\n{}\".format(np.inner(a,b)))\n",
    "assert(np.inner(a,b) == a.dot(b)), \"Dot and inner product are different\""
   ]
  },
  {
   "cell_type": "markdown",
   "metadata": {
    "colab_type": "text",
    "id": "-QypaWW3y8tB"
   },
   "source": [
    "### Additional matrix operations\n",
    "- So far we have manually generated `numpy` arrays by taking a list and typecasting it into an array\n",
    "- This is inconvenient especially especially with larger arrays\n",
    "- There are several particular method that lighten the burden of creating common arrays\n",
    "- Additional documentation about the inputs for various distributions can be found [here](https://docs.scipy.org/doc/numpy/reference/routines.random.html)\n"
   ]
  },
  {
   "cell_type": "code",
   "execution_count": 0,
   "metadata": {
    "colab": {},
    "colab_type": "code",
    "id": "611MG-ISy8tB",
    "outputId": "b07a8a4c-7764-4560-d1f1-5e75bbb9c49d"
   },
   "outputs": [
    {
     "name": "stdout",
     "output_type": "stream",
     "text": [
      "The zero vector is [0. 0. 0. 0. 0. 0. 0. 0. 0. 0.]\n",
      "The zero matrix is\n",
      "[[0. 0. 0.]\n",
      " [0. 0. 0.]\n",
      " [0. 0. 0.]\n",
      " [0. 0. 0.]\n",
      " [0. 0. 0.]]\n",
      "The ones matrix is\n",
      "[[1. 1. 1. 1.]\n",
      " [1. 1. 1. 1.]\n",
      " [1. 1. 1. 1.]]\n",
      "Diagonal matrix is\n",
      "[[ 1  0  0]\n",
      " [ 0  5  0]\n",
      " [ 0  0 10]]\n",
      "------------------------------------------\n",
      "\n",
      "The uniform matrix is\n",
      "[[0.483857   0.91975445]\n",
      " [0.52724722 0.20295077]\n",
      " [0.44981234 0.97123042]]\n",
      "The gaussian filled matrix is\n",
      "[[ 0.77235303  1.14238172 -0.86080871]\n",
      " [-0.03419403 -1.44326459 -1.95575983]\n",
      " [-0.75987737 -0.27558158 -0.71319603]\n",
      " [ 1.13923889  0.75552341  1.72869388]]\n",
      "------------------------------------------\n",
      "\n",
      "Mean of the gaussian_matrix= -0.04204093355707365\n",
      "Variance of the gaussian_matrix= 1.2124663968337506\n",
      "Dot product of M and M:\n",
      "[[ 30.  36.  45.]\n",
      " [ 66.  81. 102.]\n",
      " [109. 134. 169.]]\n",
      "M x M:\n",
      "[[  1.   4.   9.]\n",
      " [ 16.  25.  36.]\n",
      " [ 49.  64. 100.]]\n"
     ]
    }
   ],
   "source": [
    "# -------------------------\n",
    "# ---- Simple matrices ----\n",
    "# -------------------------\n",
    "# Zero vector\n",
    "zero_vector = np.zeros(10)\n",
    "print('The zero vector is {}'.format(zero_vector))\n",
    "\n",
    "# Zero matrix\n",
    "zero_matrix = np.zeros((5,3))\n",
    "print(\"The zero matrix is\\n{}\".format(zero_matrix))\n",
    "\n",
    "# Ones matrix \n",
    "ones_matrix = np.ones((3,4))\n",
    "print(\"The ones matrix is\\n{}\".format(ones_matrix))\n",
    "\n",
    "\n",
    "# Diagonal matrix\n",
    "diag_matrix = np.diag([1,5,10])\n",
    "print(\"Diagonal matrix is\\n{}\".format(diag_matrix))\n",
    "\n",
    "print('------------------------------------------\\n')\n",
    "# -------------------------\n",
    "# ---- Random matrices ----\n",
    "# -------------------------\n",
    "# Random uniform matrix (0,1)\n",
    "uniform_matrix = np.random.random((3,2))\n",
    "print(\"The uniform matrix is\\n{}\".format(uniform_matrix))\n",
    "\n",
    "# Random matrix from Gaussian\n",
    "gaussian_matrix = np.random.randn(4,3) # note: input not a tuple\n",
    "print(\"The gaussian filled matrix is\\n{}\".format(gaussian_matrix))\n",
    "print('------------------------------------------\\n')\n",
    "\n",
    "# -------------------------------\n",
    "# ---- Operations on Arrays ----\n",
    "# -------------------------------\n",
    "# Mean\n",
    "print(\"Mean of the gaussian_matrix= {}\".format(gaussian_matrix.mean()))\n",
    "# Variance\n",
    "print(\"Variance of the gaussian_matrix= {}\".format(gaussian_matrix.var()))\n",
    "# Dot product\n",
    "print(\"Dot product of M and M:\\n{}\".format(M.dot(M)))\n",
    "# Elementwise multiplication\n",
    "print(\"M x M:\\n{}\".format(M * M))\n"
   ]
  },
  {
   "cell_type": "markdown",
   "metadata": {
    "colab_type": "text",
    "id": "qlQnzXF5y8tD"
   },
   "source": [
    "### Eigenvalues and Vectors in numpy\n",
    "- Numpy can calculate eigenvalues and eigenvectors\n",
    "- Recall eigenvalues are vectors that satisfy the linear relation $\\lambda v = v A$ where $\\lambda$ is a constant, $v$ a vector and $A$ a matrix\n",
    "- Eigenvalues are important in several locations in deep learning\n",
    "- Common applications of eigenvalue decomposition include:\n",
    "    - Principal component analysis, \n",
    "    - Matrix decomposition \n",
    "    - Image analysis\n",
    "- If you are not familiar with eigenvalues and vectors take some time to review the concepts, they appear every now and again in this course and give you a deeper appreciation of the material \n",
    "- There are two ways to calculate eignevalues and eigenvectors in python\n",
    "     1. `eigenvalues, eigenvectors = np.eig(M)`\n",
    "     2. `eigenvalues, eigenvectors = np.eigh(M)`\n",
    "- The second one `eigh` is for __symmetric Hermitian matrices__\n",
    "    - Hermitian matrices are ones that contain complex numbers\n",
    "        - Think of Hermitian matrices as transposes for the complex space i.e.\n",
    "            - Symmetric : $A = A^T$\n",
    "            - Hermitian: $A = A^H$\n",
    "        - The conjugate transpose of $A$ is $A^H$\n",
    "\n",
    "- Both functions are part of the `linalg` library"
   ]
  },
  {
   "cell_type": "code",
   "execution_count": 0,
   "metadata": {
    "colab": {},
    "colab_type": "code",
    "id": "R7rfXwPQy8tD",
    "outputId": "2b43d956-6473-4d46-ea54-81f51e15b61e"
   },
   "outputs": [
    {
     "name": "stdout",
     "output_type": "stream",
     "text": [
      "The shape of the covariance matrix is (3, 3)\n",
      "The covariance matrix is [[1.02575306 0.02375298 0.02350319]\n",
      " [0.02375298 1.04016453 0.03293192]\n",
      " [0.02350319 0.03293192 0.96117205]]\n",
      "The eigenvalues are:\n",
      "[0.94646321 1.00814374 1.07248269]\n",
      "The eigenvectores are:\n",
      "[[-0.19439217 -0.80764386 -0.55670736]\n",
      " [-0.28102334  0.58959807 -0.7572318 ]\n",
      " [ 0.9398072   0.00924783 -0.34158002]]\n",
      "The eigenvalues are:\n",
      "[1.07248269 1.00814374 0.94646321]\n",
      "The eigenvectores are:\n",
      "[[ 0.55670736  0.80764386 -0.19439217]\n",
      " [ 0.7572318  -0.58959807 -0.28102334]\n",
      " [ 0.34158002 -0.00924783  0.9398072 ]]\n"
     ]
    }
   ],
   "source": [
    "# ------------------------\n",
    "# Eigendecompostion      -\n",
    "# of a covariance matrix -\n",
    "# ------------------------\n",
    "\n",
    "# - Random Gaussian -\n",
    "X = np.random.randn(1000,3)\n",
    "\n",
    "# - Calculating the covariance -\n",
    "# X is transposed to get the \n",
    "# right dimensions\n",
    "cov = np.cov(X.T)\n",
    "print(\"The shape of the covariance matrix is {}\".format(cov.shape))\n",
    "print(\"The covariance matrix is {}\".format(cov))\n",
    "\n",
    "# - Method 1: Eigenvalues/vectors -\n",
    "vals, vecs = np.linalg.eigh(cov)\n",
    "print(\"The eigenvalues are:\\n{}\".format(vals))\n",
    "print(\"The eigenvectores are:\\n{}\".format(vecs))\n",
    "\n",
    "# - Method 2: Eigenvalues/vectors -\n",
    "vals, vecs = np.linalg.eig(cov)\n",
    "print(\"The eigenvalues are:\\n{}\".format(vals))\n",
    "print(\"The eigenvectores are:\\n{}\".format(vecs))"
   ]
  },
  {
   "cell_type": "markdown",
   "metadata": {
    "colab_type": "text",
    "id": "yghMYuIby8tE"
   },
   "source": [
    "### Solving a linear equation\n",
    "- What is a linear system\n",
    "    - Linear system is a set of linear equations such that $A\\mathbf{x} = \\mathbf{b}$\n",
    "    - By linear we mean a set of equations that can be written as:\n",
    "    $$\n",
    "    A\\mathbf{x} = \\sum_{i=1}^n \\mathbf{a}_i\\cdot \\mathbf{x}_i\n",
    "    $$\n",
    "    where $\\mathbf{x}_i \\in \\mathbb{R}^d$ are unknown and $a_i,i=1,...,n$ are some known set of constants in $\\mathbb{R}$ \n",
    "\n",
    "- To find the known values of the $\\{x_i\\}_{i=1}^n$ that satisfy the equation the matrix $A$ is inverted such that:\n",
    "$$\n",
    "A\\mathbf{x} = \\mathbf{b} \\Rightarrow A^{-1}A\\mathbf{x} = x = A^{-1}\\mathbf{b}\n",
    "$$\n",
    "\n",
    "- The resulting values of $\\mathbf{x}$ are then simply equal to $A^{-1}\\mathbf{b}$\n",
    "- Note:\n",
    "    - There are variety of different ways to find the inverse\n",
    "    - Numpy has an optimized backend to solve the inverse efficiently\n",
    "    - Accordingly while the \"indirect\" inverse method can be used it is more efficient to use `numpy`\n",
    "    - If you have ever used `R ` you're familiar with the `solve` which works the same way\n"
   ]
  },
  {
   "cell_type": "code",
   "execution_count": 0,
   "metadata": {
    "colab": {},
    "colab_type": "code",
    "id": "h76l3UsQy8tF",
    "outputId": "02c935b9-25e7-4210-b839-ebe78ef2c86c"
   },
   "outputs": [
    {
     "name": "stdout",
     "output_type": "stream",
     "text": [
      "The solution for x is:[ 0.  2. -1.]\n",
      "The solution for x is:[-5.07530526e-16  2.00000000e+00 -1.00000000e+00]\n",
      "Methods yield same result: True\n"
     ]
    }
   ],
   "source": [
    "# - Method 1: Indirect -\n",
    "# Matrix\n",
    "A = np.array([[1,2,3],[4,5,6],[7,8,10]])\n",
    "# Inverse\n",
    "Ainv = np.linalg.inv(A)\n",
    "# Known values\n",
    "b = np.array([1,4,6])\n",
    "# Solution\n",
    "x = Ainv.dot(b)\n",
    "print(\"The solution for x is:{}\".format(x))\n",
    "\n",
    "# - Method 2: Direct -\n",
    "xx = np.linalg.solve(A,b)\n",
    "print(\"The solution for x is:{}\".format(xx))\n",
    "\n",
    "# Check to see if close\n",
    "print(\"Methods yield same result: {}\".format(np.isclose(x, xx).all()))"
   ]
  },
  {
   "cell_type": "markdown",
   "metadata": {
    "colab_type": "text",
    "id": "hiLCTnaDy8tK"
   },
   "source": [
    "## Data Manipulation\n",
    "### Loading data\n",
    "- Here are two simple to loading data:\n",
    "    1. Python approach\n",
    "    2. Pandas approach"
   ]
  },
  {
   "cell_type": "code",
   "execution_count": 0,
   "metadata": {
    "colab": {},
    "colab_type": "code",
    "id": "69ytMIxKy8tK",
    "outputId": "56b6f02a-a7e0-4324-bdb3-4c499ffe09ad"
   },
   "outputs": [
    {
     "name": "stdout",
     "output_type": "stream",
     "text": [
      "['4.709999999999999742e-01', ' -1.191000000000000059e+00', ' 1.433000000000000052e+00\\n']\n",
      "['-3.130000000000000004e-01', ' -7.209999999999999742e-01', ' 8.870000000000000107e-01\\n']\n",
      "['8.599999999999999867e-01', ' -6.370000000000000107e-01', ' 1.600000000000000033e-02\\n']\n",
      "The loaded .csv is:\n",
      "[[ 0.471 -1.191  1.433]\n",
      " [-0.313 -0.721  0.887]\n",
      " [ 0.86  -0.637  0.016]]\n"
     ]
    }
   ],
   "source": [
    "# -------------------------------\n",
    "#    Generate fake data\n",
    "# -------------------------------\n",
    "np.random.seed(1234)\n",
    "X = np.random.randn(3,3)\n",
    "X = np.round(X,3)\n",
    "np.savetxt(fname = \"./sample_data.csv\",\n",
    "           X = X, \n",
    "           delimiter=', ',\n",
    "          newline='\\n')\n",
    "# -------------------------------\n",
    "#    Method 1: Loading a .csv\n",
    "# -------------------------------\n",
    "# Pre-populate list\n",
    "M = []\n",
    "\n",
    "# Loop through lines of doc:\n",
    "for index, line in enumerate(open('./sample_data.csv')):\n",
    "    row = line.split(',')\n",
    "    print(row)\n",
    "    sample = list(map(float, row))\n",
    "    M.append(sample)\n",
    "M = np.array(M)\n",
    "print(\"The loaded .csv is:\\n{}\".format(M))"
   ]
  },
  {
   "cell_type": "code",
   "execution_count": 0,
   "metadata": {
    "colab": {},
    "colab_type": "code",
    "id": "lFaZxwXRy8tN",
    "outputId": "3de62673-08f2-49a3-82d1-e23743bff107"
   },
   "outputs": [
    {
     "name": "stdout",
     "output_type": "stream",
     "text": [
      "The loaded .csv is:\n",
      "       0      1      2\n",
      "0  0.471 -1.191  1.433\n",
      "1 -0.313 -0.721  0.887\n",
      "2  0.860 -0.637  0.016\n"
     ]
    }
   ],
   "source": [
    "# -----------------------------------\n",
    "#    Method 2: Pandas Loading a .csv\n",
    "# -----------------------------------\n",
    "import pandas as pd\n",
    "M_pandas = pd.read_csv(\"sample_data.csv\", header=None)\n",
    "print(\"The loaded .csv is:\\n{}\".format(M_pandas))"
   ]
  },
  {
   "cell_type": "markdown",
   "metadata": {
    "colab_type": "text",
    "id": "9QsVyqQVy8tO"
   },
   "source": [
    "### Pandas package\n",
    "- Pandas is a versatile package for maniplating data\n",
    "    - It is built on `numpy`\n",
    "    - Frequently used to manipulate data before returning it to a `numpy` array\n",
    "    - General work cycle: load in pandas -> manipulate in pandas -> convert to `numpy` array\n",
    "- There are many arguments that can be used with `pandas.read_csv`\n",
    "    - You will not use most of them\n",
    "    - For the complete set of options see the [pandas website](http://pandas.pydata.org/pandas-docs/version/0.16.2/generated/pandas.read_csv.html)\n",
    "- Some additional utility functions for `pandas.DataFrame`s are listed below"
   ]
  },
  {
   "cell_type": "code",
   "execution_count": 0,
   "metadata": {
    "colab": {},
    "colab_type": "code",
    "id": "MkT2TyZEy8tP",
    "outputId": "550c16e2-640e-4fa7-99a1-0f9e077d00b9"
   },
   "outputs": [
    {
     "name": "stdout",
     "output_type": "stream",
     "text": [
      "<class 'pandas.core.frame.DataFrame'>\n",
      "RangeIndex: 3 entries, 0 to 2\n",
      "Data columns (total 3 columns):\n",
      "0    3 non-null float64\n",
      "1    3 non-null float64\n",
      "2    3 non-null float64\n",
      "dtypes: float64(3)\n",
      "memory usage: 152.0 bytes\n",
      "Select M_pandas[0,0]:0.471\n",
      "Selection M_pandas[1,0]:-0.313\n",
      "       1      2\n",
      "0 -1.191  1.433\n",
      "1 -0.721  0.887\n",
      "2 -0.637  0.016\n",
      "Empty DataFrame\n",
      "Columns: [0, 1, 2]\n",
      "Index: []\n",
      "0    False\n",
      "1    False\n",
      "2    False\n",
      "Name: 0, dtype: bool\n"
     ]
    }
   ],
   "source": [
    "# ---------------------------\n",
    "#  Pandas utility functions \n",
    "# ---------------------------\n",
    "# Type\n",
    "type(M_pandas)\n",
    "\n",
    "# Info\n",
    "M_pandas.info()\n",
    "\n",
    "# Top values\n",
    "M_pandas.head(1)\n",
    "\n",
    "# ---------------------------\n",
    "#  Pandas Indexing Functions\n",
    "# ---------------------------\n",
    "\n",
    "# By column\n",
    "M_pandas[0]\n",
    "\n",
    "# Column type: Series\n",
    "type(M_pandas[0])\n",
    "\n",
    "# Selection by index\n",
    "print(\"Select M_pandas[0,0]:{}\".format(M_pandas.iloc[0,0])) # type: Series\n",
    "print(\"Selection M_pandas[1,0]:{}\".format(M_pandas.ix[1,0])) # type: Series\n",
    "\n",
    "# Subsetting\n",
    "print(M_pandas[[1,2]]) # Select cols 1,2 (index starts at 0)\n",
    "print(M_pandas[M_pandas[1]>0.5]) # Filtering matrix based on col 1\n",
    "print(M_pandas[0]>1.5) # Generate boolean series"
   ]
  },
  {
   "cell_type": "markdown",
   "metadata": {
    "colab_type": "text",
    "id": "MLUUGrrLy8tS"
   },
   "source": [
    "## Matplotlib\n",
    "- Previous sections covered basic data manipulation\n",
    "- The next step in data analysis is visualization\n",
    "- Here we use `matplotlib` is an object oriented approach to generating graphs\n",
    "- As the name suggests the library that borrows elements from  \"Matlab\" \n",
    "- Other methods in python have similar functionality such as `seaborn` or `Bokeh` however for simplicity, `matplotlib` is used here and  is the more mature among the three\n",
    "- `matplotlib` has rich functionality, frequently knowing the simple plots is enough with referencing more advanced features as needed"
   ]
  },
  {
   "cell_type": "code",
   "execution_count": 0,
   "metadata": {
    "colab": {},
    "colab_type": "code",
    "id": "7QNeDfnjy8tS",
    "outputId": "b8c0d68f-f593-49af-d8bb-26904f80da53"
   },
   "outputs": [
    {
     "data": {
      "image/png": "[encoded data removed]",
      "text/plain": [
       "<matplotlib.figure.Figure at 0x7fd168da7908>"
      ]
     },
     "metadata": {
      "tags": []
     },
     "output_type": "display_data"
    },
    {
     "data": {
      "image/png": "[encoded data removed]",
      "text/plain": [
       "<matplotlib.figure.Figure at 0x7fd166d6b198>"
      ]
     },
     "metadata": {
      "tags": []
     },
     "output_type": "display_data"
    },
    {
     "data": {
      "image/png": "[encoded data removed]",
      "text/plain": [
       "<matplotlib.figure.Figure at 0x7fd1654b30b8>"
      ]
     },
     "metadata": {
      "tags": []
     },
     "output_type": "display_data"
    },
    {
     "data": {
      "image/png": "[encoded data removed]",
      "text/plain": [
       "<matplotlib.figure.Figure at 0x7fd167035c88>"
      ]
     },
     "metadata": {
      "tags": []
     },
     "output_type": "display_data"
    },
    {
     "data": {
      "image/png": "[encoded data removed]",
      "text/plain": [
       "<matplotlib.figure.Figure at 0x7fd166fbc4e0>"
      ]
     },
     "metadata": {
      "tags": []
     },
     "output_type": "display_data"
    },
    {
     "data": {
      "image/png": "[encoded data removed]",
      "text/plain": [
       "<matplotlib.figure.Figure at 0x7fd1654993c8>"
      ]
     },
     "metadata": {
      "tags": []
     },
     "output_type": "display_data"
    }
   ],
   "source": [
    "# ----------------\n",
    "#  Library import\n",
    "# ----------------\n",
    "import matplotlib.pyplot as plt\n",
    "\n",
    "# ------------\n",
    "#  Basic plot\n",
    "# ------------\n",
    "# - Generating data -\n",
    "#  np.linspace(start, end, number of points)\n",
    "x = np.linspace(0, 10, 100) \n",
    "y = np.cos(x)\n",
    "\n",
    "# - Iteration 1: Simple Plot - \n",
    "plt.plot(x,y)\n",
    "plt.show()\n",
    "\n",
    "# - Iteration 2: Addint Layers -\n",
    "plt.plot(x,y)\n",
    "plt.xlabel('time')\n",
    "plt.ylabel('function of time')\n",
    "plt.title('chart')\n",
    "plt.show()\n",
    "\n",
    "# ---------------\n",
    "#  Scatter plot\n",
    "# ---------------\n",
    "# - Read in data -\n",
    "m = pd.read_csv('sample_data.csv', header = None).as_matrix()\n",
    "\n",
    "# - Coordinates -\n",
    "x = m[:,0]\n",
    "y = m[:,1]\n",
    "\n",
    "# - Plot - \n",
    "plt.scatter(x,y)\n",
    "plt.show()\n",
    "\n",
    "# ------------\n",
    "#  Histogram\n",
    "# ------------\n",
    "# - Iteration 1: Simple -\n",
    "plt.hist(x)\n",
    "plt.show()\n",
    "\n",
    "# - Iteration 2: Adding Bins -\n",
    "R = np.random.rand(10000)\n",
    "plt.hist(R, bins=50)\n",
    "plt.show()\n",
    "\n",
    "# ---------------\n",
    "#  Contour Plot\n",
    "# ---------------\n",
    "# - Library import -\n",
    "import matplotlib.mlab as mlab\n",
    "\n",
    "# - Setting up the grid -\n",
    "delta = 0.25\n",
    "X, Y = np.meshgrid(x, y)\n",
    "\n",
    "# - Generating the z coord -\n",
    "Z = mlab.bivariate_normal(X, Y, 1.0, 1.0, 0.0, 0.0)\n",
    "\n",
    "# - Plotting the data -\n",
    "plt.contour(X, Y, Z)\n",
    "plt.scatter(x,y)\n",
    "plt.show()\n",
    "\n"
   ]
  },
  {
   "cell_type": "code",
   "execution_count": 0,
   "metadata": {
    "colab": {},
    "colab_type": "code",
    "collapsed": true,
    "id": "cXFSndBZy8tV"
   },
   "outputs": [],
   "source": []
  }
 ],
 "metadata": {
  "colab": {
   "name": "L1_python.ipynb",
   "provenance": [],
   "version": "0.3.2"
  },
  "kernelspec": {
   "display_name": "Python 3",
   "language": "python",
   "name": "python3"
  },
  "language_info": {
   "codemirror_mode": {
    "name": "ipython",
    "version": 3
   },
   "file_extension": ".py",
   "mimetype": "text/x-python",
   "name": "python",
   "nbconvert_exporter": "python",
   "pygments_lexer": "ipython3",
   "version": "3.6.3"
  }
 },
 "nbformat": 4,
 "nbformat_minor": 1
}
