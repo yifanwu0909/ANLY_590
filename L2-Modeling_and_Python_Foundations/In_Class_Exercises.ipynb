{
 "cells": [
  {
   "cell_type": "markdown",
   "metadata": {
    "colab_type": "text",
    "id": "PW4m0Gd4svEk"
   },
   "source": [
    "# In class exercises 1: Anly 590 - 09/06/2018\n",
    "\n",
    "## Stats and probability\n",
    "1. What is a random variable?\n",
    "2. What is the expectation and variance of a random variable - how do these relate to moments?\n",
    "3. What is the difference between an estimate and an estimator\n",
    "4. Suppose you are fitting a linear model with an intercept. This model has 10000 observations and 40 columns. What is the maximum cardinality of the parameter space assuming no interactions or transformations to $X$ variables?\n",
    "\n",
    "## Statistical/Machine Learning\n",
    "1. What are the different types of supervised machine learning?\n",
    "2. What is a loss function?\n",
    "3. Do unsupervised machine learning methods have loss functions? \n",
    "4. What are training, validation and test sets? Why are they used?\n",
    "\n",
    "## Python\n",
    "1. Lists:\n",
    "    - Generate a 10^5 list of random numbers\n",
    "    - Generate a list of lists\n",
    "    - Append two lists together using `+`\n",
    "2. `numpy` arrays:\n",
    "    - Generate an 10^5 array\n",
    "    - Using `timeit` add 1 to every element of the array using a loop and directly, compare the times\n",
    "    - Generate an array of arrays (3 x 2 x 2)\n",
    "    - Generate a diagonal matrix\n",
    "    - Using `linalg` find the inverse of [[1,2],[3,5]]\n",
    "        - Check to make sure the resulting matrix is correct by multiplying the inverse\n",
    "    - Add two matrices together\n",
    "3. Data:\n",
    "    - Generate a $5 x 5$ matrix of uniform random numbers using `np.random.random` with `np.random.seed(1234)`\n",
    "    - Transform it into a pandas dataframe \n",
    "    - Using `.iloc` select entry `(2,3)` what is it?\n",
    "    - Using `np.savetxt` save the set of numbers as a `.csv`\n",
    "    - Using `pd.read_csv` read in the numbers\n",
    "4. Functions:\n",
    "    - Define a function using that adds $x$ to very value of an array\n",
    "    - Do the same thing as above but now use `lambda` and `map`\n",
    "    - Using \n",
    "4. Plotting:\n",
    "    - Generate a random set of data\n",
    "    - Plot the data as a scatter plot with `matplotlib`"
   ]
  }
 ],
 "metadata": {
  "colab": {
   "name": "In Class Exercises.ipynb",
   "provenance": [],
   "version": "0.3.2"
  },
  "kernelspec": {
   "display_name": "Python 2",
   "language": "python",
   "name": "python2"
  },
  "language_info": {
   "codemirror_mode": {
    "name": "ipython",
    "version": 2
   },
   "file_extension": ".py",
   "mimetype": "text/x-python",
   "name": "python",
   "nbconvert_exporter": "python",
   "pygments_lexer": "ipython2",
   "version": "2.7.12"
  }
 },
 "nbformat": 4,
 "nbformat_minor": 0
}
