{
 "cells": [
  {
   "cell_type": "markdown",
   "metadata": {},
   "source": [
    "## 1.1 Use LASSO regression to predict Salary from the other numeric predictors (you should omit the categorical predictors). "
   ]
  },
  {
   "cell_type": "markdown",
   "metadata": {},
   "source": [
    "### 1.1 Use LASSO regression to predict Salary from the other numeric predictors (you should omit the categorical predictors). \n",
    "\n",
    "### 1.1.1. Create a visualization of the coefficient trajectories\n"
   ]
  },
  {
   "cell_type": "code",
   "execution_count": 139,
   "metadata": {},
   "outputs": [
    {
     "name": "stdout",
     "output_type": "stream",
     "text": [
      "Total rows: 263\n"
     ]
    },
    {
     "data": {
      "text/plain": [
       "AtBat      0\n",
       "Hits       0\n",
       "HmRun      0\n",
       "Runs       0\n",
       "RBI        0\n",
       "Walks      0\n",
       "Years      0\n",
       "CAtBat     0\n",
       "CHits      0\n",
       "CHmRun     0\n",
       "CRuns      0\n",
       "CRBI       0\n",
       "CWalks     0\n",
       "PutOuts    0\n",
       "Assists    0\n",
       "Errors     0\n",
       "Salary     0\n",
       "dtype: int64"
      ]
     },
     "execution_count": 139,
     "metadata": {},
     "output_type": "execute_result"
    }
   ],
   "source": [
    "import pandas as pd\n",
    "import numpy as np\n",
    "import random\n",
    "import matplotlib.pyplot as plt\n",
    "%matplotlib inline\n",
    "from matplotlib.pylab import rcParams\n",
    "rcParams['figure.figsize'] = 10, 6\n",
    "\n",
    "df_raw = pd.read_csv(\"Hitters.csv\")\n",
    "df_preclean = df_raw.drop(['Unnamed: 0', 'League', 'Division', 'NewLeague'], axis = 1)\n",
    "df = df_preclean[~df_preclean['Salary'].isnull()]\n",
    "print(\"Total rows: \" + str(len(df)))\n",
    "df.isnull().sum()"
   ]
  },
  {
   "cell_type": "code",
   "execution_count": 140,
   "metadata": {},
   "outputs": [
    {
     "data": {
      "text/html": [
       "<div>\n",
       "<style>\n",
       "    .dataframe thead tr:only-child th {\n",
       "        text-align: right;\n",
       "    }\n",
       "\n",
       "    .dataframe thead th {\n",
       "        text-align: left;\n",
       "    }\n",
       "\n",
       "    .dataframe tbody tr th {\n",
       "        vertical-align: top;\n",
       "    }\n",
       "</style>\n",
       "<table border=\"1\" class=\"dataframe\">\n",
       "  <thead>\n",
       "    <tr style=\"text-align: right;\">\n",
       "      <th></th>\n",
       "      <th>AtBat</th>\n",
       "      <th>Hits</th>\n",
       "      <th>HmRun</th>\n",
       "      <th>Runs</th>\n",
       "      <th>RBI</th>\n",
       "      <th>Walks</th>\n",
       "      <th>Years</th>\n",
       "      <th>CAtBat</th>\n",
       "      <th>CHits</th>\n",
       "      <th>CHmRun</th>\n",
       "      <th>CRuns</th>\n",
       "      <th>CRBI</th>\n",
       "      <th>CWalks</th>\n",
       "      <th>PutOuts</th>\n",
       "      <th>Assists</th>\n",
       "      <th>Errors</th>\n",
       "    </tr>\n",
       "  </thead>\n",
       "  <tbody>\n",
       "    <tr>\n",
       "      <th>0</th>\n",
       "      <td>-0.602900</td>\n",
       "      <td>-0.595675</td>\n",
       "      <td>-0.528551</td>\n",
       "      <td>-1.206112</td>\n",
       "      <td>-0.522063</td>\n",
       "      <td>-0.097527</td>\n",
       "      <td>1.397893</td>\n",
       "      <td>0.346791</td>\n",
       "      <td>0.174373</td>\n",
       "      <td>-0.002920</td>\n",
       "      <td>-0.121671</td>\n",
       "      <td>0.258966</td>\n",
       "      <td>0.435334</td>\n",
       "      <td>1.221499</td>\n",
       "      <td>-0.523191</td>\n",
       "      <td>0.213352</td>\n",
       "    </tr>\n",
       "    <tr>\n",
       "      <th>1</th>\n",
       "      <td>0.512542</td>\n",
       "      <td>0.492260</td>\n",
       "      <td>0.729966</td>\n",
       "      <td>0.441515</td>\n",
       "      <td>0.794060</td>\n",
       "      <td>1.609373</td>\n",
       "      <td>-0.901200</td>\n",
       "      <td>-0.452865</td>\n",
       "      <td>-0.409892</td>\n",
       "      <td>-0.076054</td>\n",
       "      <td>-0.415105</td>\n",
       "      <td>-0.199590</td>\n",
       "      <td>0.010373</td>\n",
       "      <td>2.109109</td>\n",
       "      <td>-0.253863</td>\n",
       "      <td>0.819964</td>\n",
       "    </tr>\n",
       "    <tr>\n",
       "      <th>2</th>\n",
       "      <td>0.628167</td>\n",
       "      <td>0.736490</td>\n",
       "      <td>0.958788</td>\n",
       "      <td>0.402286</td>\n",
       "      <td>1.026317</td>\n",
       "      <td>-0.189792</td>\n",
       "      <td>0.770868</td>\n",
       "      <td>1.301558</td>\n",
       "      <td>1.318174</td>\n",
       "      <td>1.898565</td>\n",
       "      <td>1.412051</td>\n",
       "      <td>1.572666</td>\n",
       "      <td>0.355654</td>\n",
       "      <td>-0.324661</td>\n",
       "      <td>-0.744179</td>\n",
       "      <td>-0.848219</td>\n",
       "    </tr>\n",
       "    <tr>\n",
       "      <th>3</th>\n",
       "      <td>-0.562092</td>\n",
       "      <td>-0.462459</td>\n",
       "      <td>-0.185319</td>\n",
       "      <td>-0.617673</td>\n",
       "      <td>-0.367225</td>\n",
       "      <td>-0.512719</td>\n",
       "      <td>-1.110209</td>\n",
       "      <td>-0.990935</td>\n",
       "      <td>-0.960153</td>\n",
       "      <td>-0.697693</td>\n",
       "      <td>-0.947521</td>\n",
       "      <td>-0.881228</td>\n",
       "      <td>-0.862315</td>\n",
       "      <td>1.840678</td>\n",
       "      <td>-0.543909</td>\n",
       "      <td>-0.696566</td>\n",
       "    </tr>\n",
       "    <tr>\n",
       "      <th>4</th>\n",
       "      <td>1.294712</td>\n",
       "      <td>1.358167</td>\n",
       "      <td>-0.871783</td>\n",
       "      <td>0.755349</td>\n",
       "      <td>-0.018840</td>\n",
       "      <td>-0.282057</td>\n",
       "      <td>0.770868</td>\n",
       "      <td>0.766993</td>\n",
       "      <td>0.634985</td>\n",
       "      <td>-0.612370</td>\n",
       "      <td>0.422846</td>\n",
       "      <td>0.017294</td>\n",
       "      <td>-0.251434</td>\n",
       "      <td>-0.031177</td>\n",
       "      <td>2.087225</td>\n",
       "      <td>2.488147</td>\n",
       "    </tr>\n",
       "  </tbody>\n",
       "</table>\n",
       "</div>"
      ],
      "text/plain": [
       "      AtBat      Hits     HmRun      Runs       RBI     Walks     Years  \\\n",
       "0 -0.602900 -0.595675 -0.528551 -1.206112 -0.522063 -0.097527  1.397893   \n",
       "1  0.512542  0.492260  0.729966  0.441515  0.794060  1.609373 -0.901200   \n",
       "2  0.628167  0.736490  0.958788  0.402286  1.026317 -0.189792  0.770868   \n",
       "3 -0.562092 -0.462459 -0.185319 -0.617673 -0.367225 -0.512719 -1.110209   \n",
       "4  1.294712  1.358167 -0.871783  0.755349 -0.018840 -0.282057  0.770868   \n",
       "\n",
       "     CAtBat     CHits    CHmRun     CRuns      CRBI    CWalks   PutOuts  \\\n",
       "0  0.346791  0.174373 -0.002920 -0.121671  0.258966  0.435334  1.221499   \n",
       "1 -0.452865 -0.409892 -0.076054 -0.415105 -0.199590  0.010373  2.109109   \n",
       "2  1.301558  1.318174  1.898565  1.412051  1.572666  0.355654 -0.324661   \n",
       "3 -0.990935 -0.960153 -0.697693 -0.947521 -0.881228 -0.862315  1.840678   \n",
       "4  0.766993  0.634985 -0.612370  0.422846  0.017294 -0.251434 -0.031177   \n",
       "\n",
       "    Assists    Errors  \n",
       "0 -0.523191  0.213352  \n",
       "1 -0.253863  0.819964  \n",
       "2 -0.744179 -0.848219  \n",
       "3 -0.543909 -0.696566  \n",
       "4  2.087225  2.488147  "
      ]
     },
     "execution_count": 140,
     "metadata": {},
     "output_type": "execute_result"
    }
   ],
   "source": [
    "from sklearn import preprocessing\n",
    "import pandas as pd\n",
    "import numpy as np\n",
    "import matplotlib.pylab as plt\n",
    "from sklearn.cross_validation import train_test_split\n",
    "from sklearn.linear_model import LassoLarsCV\n",
    "\n",
    "target = df['Salary']\n",
    "\n",
    "df_features=df.drop('Salary', axis = 1)\n",
    "predictors_array = preprocessing.scale(df_features.astype('float64'))\n",
    "predictors = pd.DataFrame(predictors_array, columns = list(df_features))\n",
    "predictors.head()\n"
   ]
  },
  {
   "cell_type": "code",
   "execution_count": 141,
   "metadata": {},
   "outputs": [
    {
     "data": {
      "text/html": [
       "<div>\n",
       "<style>\n",
       "    .dataframe thead tr:only-child th {\n",
       "        text-align: right;\n",
       "    }\n",
       "\n",
       "    .dataframe thead th {\n",
       "        text-align: left;\n",
       "    }\n",
       "\n",
       "    .dataframe tbody tr th {\n",
       "        vertical-align: top;\n",
       "    }\n",
       "</style>\n",
       "<table border=\"1\" class=\"dataframe\">\n",
       "  <thead>\n",
       "    <tr style=\"text-align: right;\">\n",
       "      <th></th>\n",
       "      <th>AtBat</th>\n",
       "      <th>Hits</th>\n",
       "      <th>HmRun</th>\n",
       "      <th>Runs</th>\n",
       "      <th>RBI</th>\n",
       "      <th>Walks</th>\n",
       "      <th>Years</th>\n",
       "      <th>CAtBat</th>\n",
       "      <th>CHits</th>\n",
       "      <th>CHmRun</th>\n",
       "      <th>CRuns</th>\n",
       "      <th>CRBI</th>\n",
       "      <th>CWalks</th>\n",
       "      <th>PutOuts</th>\n",
       "      <th>Assists</th>\n",
       "      <th>Errors</th>\n",
       "    </tr>\n",
       "  </thead>\n",
       "  <tbody>\n",
       "    <tr>\n",
       "      <th>30</th>\n",
       "      <td>-0.922570</td>\n",
       "      <td>-1.061933</td>\n",
       "      <td>-0.757373</td>\n",
       "      <td>-1.206112</td>\n",
       "      <td>-1.025286</td>\n",
       "      <td>-1.204705</td>\n",
       "      <td>-1.110209</td>\n",
       "      <td>-1.011091</td>\n",
       "      <td>-0.995703</td>\n",
       "      <td>-0.783016</td>\n",
       "      <td>-0.989873</td>\n",
       "      <td>-0.933900</td>\n",
       "      <td>-0.919230</td>\n",
       "      <td>0.541474</td>\n",
       "      <td>-0.412698</td>\n",
       "      <td>-0.393260</td>\n",
       "    </tr>\n",
       "    <tr>\n",
       "      <th>72</th>\n",
       "      <td>-0.147202</td>\n",
       "      <td>0.248029</td>\n",
       "      <td>0.157913</td>\n",
       "      <td>-0.029235</td>\n",
       "      <td>0.252127</td>\n",
       "      <td>-0.235924</td>\n",
       "      <td>0.979876</td>\n",
       "      <td>-0.229838</td>\n",
       "      <td>-0.198134</td>\n",
       "      <td>-0.344212</td>\n",
       "      <td>-0.224524</td>\n",
       "      <td>-0.112837</td>\n",
       "      <td>-0.126222</td>\n",
       "      <td>-0.829311</td>\n",
       "      <td>0.257171</td>\n",
       "      <td>0.061699</td>\n",
       "    </tr>\n",
       "    <tr>\n",
       "      <th>254</th>\n",
       "      <td>-0.113194</td>\n",
       "      <td>0.359043</td>\n",
       "      <td>-1.215015</td>\n",
       "      <td>0.480744</td>\n",
       "      <td>-0.947867</td>\n",
       "      <td>-0.235924</td>\n",
       "      <td>-0.065166</td>\n",
       "      <td>-0.386702</td>\n",
       "      <td>-0.334154</td>\n",
       "      <td>-0.770827</td>\n",
       "      <td>-0.269900</td>\n",
       "      <td>-0.636458</td>\n",
       "      <td>-0.251434</td>\n",
       "      <td>-0.374769</td>\n",
       "      <td>1.182557</td>\n",
       "      <td>1.274923</td>\n",
       "    </tr>\n",
       "    <tr>\n",
       "      <th>167</th>\n",
       "      <td>-1.323857</td>\n",
       "      <td>-1.195150</td>\n",
       "      <td>-0.986194</td>\n",
       "      <td>-1.166882</td>\n",
       "      <td>-1.451091</td>\n",
       "      <td>-1.343103</td>\n",
       "      <td>-1.319217</td>\n",
       "      <td>-1.072873</td>\n",
       "      <td>-1.032799</td>\n",
       "      <td>-0.807394</td>\n",
       "      <td>-1.017098</td>\n",
       "      <td>-0.980375</td>\n",
       "      <td>-0.941996</td>\n",
       "      <td>-0.675411</td>\n",
       "      <td>-0.778708</td>\n",
       "      <td>-0.848219</td>\n",
       "    </tr>\n",
       "    <tr>\n",
       "      <th>203</th>\n",
       "      <td>-1.072202</td>\n",
       "      <td>-0.706689</td>\n",
       "      <td>-0.757373</td>\n",
       "      <td>-0.774590</td>\n",
       "      <td>-0.483353</td>\n",
       "      <td>-1.296970</td>\n",
       "      <td>-0.274175</td>\n",
       "      <td>-0.764841</td>\n",
       "      <td>-0.754578</td>\n",
       "      <td>-0.697693</td>\n",
       "      <td>-0.784166</td>\n",
       "      <td>-0.726310</td>\n",
       "      <td>-0.683983</td>\n",
       "      <td>-0.882997</td>\n",
       "      <td>-0.820143</td>\n",
       "      <td>-1.151525</td>\n",
       "    </tr>\n",
       "  </tbody>\n",
       "</table>\n",
       "</div>"
      ],
      "text/plain": [
       "        AtBat      Hits     HmRun      Runs       RBI     Walks     Years  \\\n",
       "30  -0.922570 -1.061933 -0.757373 -1.206112 -1.025286 -1.204705 -1.110209   \n",
       "72  -0.147202  0.248029  0.157913 -0.029235  0.252127 -0.235924  0.979876   \n",
       "254 -0.113194  0.359043 -1.215015  0.480744 -0.947867 -0.235924 -0.065166   \n",
       "167 -1.323857 -1.195150 -0.986194 -1.166882 -1.451091 -1.343103 -1.319217   \n",
       "203 -1.072202 -0.706689 -0.757373 -0.774590 -0.483353 -1.296970 -0.274175   \n",
       "\n",
       "       CAtBat     CHits    CHmRun     CRuns      CRBI    CWalks   PutOuts  \\\n",
       "30  -1.011091 -0.995703 -0.783016 -0.989873 -0.933900 -0.919230  0.541474   \n",
       "72  -0.229838 -0.198134 -0.344212 -0.224524 -0.112837 -0.126222 -0.829311   \n",
       "254 -0.386702 -0.334154 -0.770827 -0.269900 -0.636458 -0.251434 -0.374769   \n",
       "167 -1.072873 -1.032799 -0.807394 -1.017098 -0.980375 -0.941996 -0.675411   \n",
       "203 -0.764841 -0.754578 -0.697693 -0.784166 -0.726310 -0.683983 -0.882997   \n",
       "\n",
       "      Assists    Errors  \n",
       "30  -0.412698 -0.393260  \n",
       "72   0.257171  0.061699  \n",
       "254  1.182557  1.274923  \n",
       "167 -0.778708 -0.848219  \n",
       "203 -0.820143 -1.151525  "
      ]
     },
     "execution_count": 141,
     "metadata": {},
     "output_type": "execute_result"
    }
   ],
   "source": [
    "pred_train, pred_test, tar_train, tar_test = train_test_split(predictors, target, test_size=.2, random_state=123)\n",
    "pred_test.head()"
   ]
  },
  {
   "cell_type": "code",
   "execution_count": 154,
   "metadata": {
    "collapsed": true
   },
   "outputs": [],
   "source": [
    "model = LassoLarsCV(cv=10, precompute=False).fit(predictors, target)"
   ]
  },
  {
   "cell_type": "code",
   "execution_count": 155,
   "metadata": {},
   "outputs": [
    {
     "data": {
      "text/plain": [
       "Text(0.5,1,'Regression Coefficients Progression for Lasso Paths')"
      ]
     },
     "execution_count": 155,
     "metadata": {},
     "output_type": "execute_result"
    },
    {
     "data": {
      "image/png": "[encoded data removed]",
      "text/plain": [
       "<matplotlib.figure.Figure at 0x2b19fe3f400>"
      ]
     },
     "metadata": {},
     "output_type": "display_data"
    }
   ],
   "source": [
    "m_log_alphas = -np.log10(model.alphas_)\n",
    "ax = plt.gca()\n",
    "plt.plot(m_log_alphas, model.coef_path_.T)\n",
    "plt.axvline(-np.log10(model.alpha_), linestyle='--', color='k', label = 'alpha CV')\n",
    "plt.ylabel('Regression Coefficients')\n",
    "plt.xlabel('-log(alpha)')\n",
    "plt.title('Regression Coefficients Progression for Lasso Paths')"
   ]
  },
  {
   "cell_type": "markdown",
   "metadata": {},
   "source": [
    "### 1.1.2. Comment on which are the final three predictors that remain in the model"
   ]
  },
  {
   "cell_type": "code",
   "execution_count": 156,
   "metadata": {},
   "outputs": [
    {
     "data": {
      "text/html": [
       "<div>\n",
       "<style>\n",
       "    .dataframe thead tr:only-child th {\n",
       "        text-align: right;\n",
       "    }\n",
       "\n",
       "    .dataframe thead th {\n",
       "        text-align: left;\n",
       "    }\n",
       "\n",
       "    .dataframe tbody tr th {\n",
       "        vertical-align: top;\n",
       "    }\n",
       "</style>\n",
       "<table border=\"1\" class=\"dataframe\">\n",
       "  <thead>\n",
       "    <tr style=\"text-align: right;\">\n",
       "      <th></th>\n",
       "      <th>15.7413684232</th>\n",
       "      <th>13.5498041101</th>\n",
       "      <th>11.1283238449</th>\n",
       "      <th>9.98352429787</th>\n",
       "      <th>6.24734238564</th>\n",
       "      <th>1.27964209906</th>\n",
       "      <th>0.862644503599</th>\n",
       "      <th>0.58452699413</th>\n",
       "      <th>0.506364378777</th>\n",
       "      <th>0.449827294441</th>\n",
       "      <th>0.386475882337</th>\n",
       "      <th>0.28157584644</th>\n",
       "      <th>0.145254201842</th>\n",
       "      <th>0.101289938876</th>\n",
       "      <th>0.060440875139</th>\n",
       "    </tr>\n",
       "  </thead>\n",
       "  <tbody>\n",
       "    <tr>\n",
       "      <th>Assists</th>\n",
       "      <td>0.0</td>\n",
       "      <td>0.000000</td>\n",
       "      <td>0.000000</td>\n",
       "      <td>0.000000</td>\n",
       "      <td>0.000000</td>\n",
       "      <td>0.000000</td>\n",
       "      <td>0.000000</td>\n",
       "      <td>0.000000</td>\n",
       "      <td>0.000000</td>\n",
       "      <td>0.000000</td>\n",
       "      <td>0.000000</td>\n",
       "      <td>210.064317</td>\n",
       "      <td>507.017781</td>\n",
       "      <td>629.629917</td>\n",
       "      <td>721.974870</td>\n",
       "    </tr>\n",
       "    <tr>\n",
       "      <th>AtBat</th>\n",
       "      <td>0.0</td>\n",
       "      <td>0.000000</td>\n",
       "      <td>0.000000</td>\n",
       "      <td>0.000000</td>\n",
       "      <td>0.000000</td>\n",
       "      <td>0.000000</td>\n",
       "      <td>0.000000</td>\n",
       "      <td>0.000000</td>\n",
       "      <td>-678.437739</td>\n",
       "      <td>-1169.032908</td>\n",
       "      <td>-1798.076993</td>\n",
       "      <td>-2934.969518</td>\n",
       "      <td>-4467.021634</td>\n",
       "      <td>-4754.572213</td>\n",
       "      <td>-4985.388193</td>\n",
       "    </tr>\n",
       "    <tr>\n",
       "      <th>CAtBat</th>\n",
       "      <td>0.0</td>\n",
       "      <td>0.000000</td>\n",
       "      <td>0.000000</td>\n",
       "      <td>0.000000</td>\n",
       "      <td>0.000000</td>\n",
       "      <td>0.000000</td>\n",
       "      <td>0.000000</td>\n",
       "      <td>0.000000</td>\n",
       "      <td>0.000000</td>\n",
       "      <td>0.000000</td>\n",
       "      <td>0.000000</td>\n",
       "      <td>0.000000</td>\n",
       "      <td>0.000000</td>\n",
       "      <td>-1664.497263</td>\n",
       "      <td>-3351.362621</td>\n",
       "    </tr>\n",
       "    <tr>\n",
       "      <th>CHits</th>\n",
       "      <td>0.0</td>\n",
       "      <td>0.000000</td>\n",
       "      <td>0.000000</td>\n",
       "      <td>0.000000</td>\n",
       "      <td>0.000000</td>\n",
       "      <td>0.000000</td>\n",
       "      <td>0.000000</td>\n",
       "      <td>0.000000</td>\n",
       "      <td>0.000000</td>\n",
       "      <td>0.000000</td>\n",
       "      <td>0.000000</td>\n",
       "      <td>0.000000</td>\n",
       "      <td>0.000000</td>\n",
       "      <td>0.000000</td>\n",
       "      <td>0.000000</td>\n",
       "    </tr>\n",
       "    <tr>\n",
       "      <th>CHmRun</th>\n",
       "      <td>0.0</td>\n",
       "      <td>0.000000</td>\n",
       "      <td>0.000000</td>\n",
       "      <td>0.000000</td>\n",
       "      <td>0.000000</td>\n",
       "      <td>0.000000</td>\n",
       "      <td>88.229362</td>\n",
       "      <td>107.047584</td>\n",
       "      <td>218.700697</td>\n",
       "      <td>230.034128</td>\n",
       "      <td>312.046310</td>\n",
       "      <td>548.749600</td>\n",
       "      <td>813.897881</td>\n",
       "      <td>462.210668</td>\n",
       "      <td>189.619840</td>\n",
       "    </tr>\n",
       "    <tr>\n",
       "      <th>CRBI</th>\n",
       "      <td>0.0</td>\n",
       "      <td>576.381414</td>\n",
       "      <td>903.696435</td>\n",
       "      <td>1073.537791</td>\n",
       "      <td>1622.693008</td>\n",
       "      <td>1978.405846</td>\n",
       "      <td>1884.648224</td>\n",
       "      <td>1856.928129</td>\n",
       "      <td>1729.859976</td>\n",
       "      <td>1786.243945</td>\n",
       "      <td>1785.739469</td>\n",
       "      <td>1731.073486</td>\n",
       "      <td>1592.635644</td>\n",
       "      <td>2445.550343</td>\n",
       "      <td>3101.539289</td>\n",
       "    </tr>\n",
       "    <tr>\n",
       "      <th>CRuns</th>\n",
       "      <td>0.0</td>\n",
       "      <td>0.000000</td>\n",
       "      <td>327.315021</td>\n",
       "      <td>409.443425</td>\n",
       "      <td>598.726936</td>\n",
       "      <td>1251.879139</td>\n",
       "      <td>1353.164607</td>\n",
       "      <td>1405.666811</td>\n",
       "      <td>1449.023036</td>\n",
       "      <td>1545.807326</td>\n",
       "      <td>2017.742406</td>\n",
       "      <td>2842.262193</td>\n",
       "      <td>3989.897614</td>\n",
       "      <td>5272.258588</td>\n",
       "      <td>6696.942856</td>\n",
       "    </tr>\n",
       "    <tr>\n",
       "      <th>CWalks</th>\n",
       "      <td>0.0</td>\n",
       "      <td>0.000000</td>\n",
       "      <td>0.000000</td>\n",
       "      <td>0.000000</td>\n",
       "      <td>0.000000</td>\n",
       "      <td>0.000000</td>\n",
       "      <td>0.000000</td>\n",
       "      <td>0.000000</td>\n",
       "      <td>0.000000</td>\n",
       "      <td>0.000000</td>\n",
       "      <td>-458.308933</td>\n",
       "      <td>-1288.076691</td>\n",
       "      <td>-2356.428975</td>\n",
       "      <td>-2663.853111</td>\n",
       "      <td>-2977.807646</td>\n",
       "    </tr>\n",
       "    <tr>\n",
       "      <th>Errors</th>\n",
       "      <td>0.0</td>\n",
       "      <td>0.000000</td>\n",
       "      <td>0.000000</td>\n",
       "      <td>0.000000</td>\n",
       "      <td>0.000000</td>\n",
       "      <td>0.000000</td>\n",
       "      <td>0.000000</td>\n",
       "      <td>-91.745872</td>\n",
       "      <td>-64.413428</td>\n",
       "      <td>-49.892132</td>\n",
       "      <td>-21.124406</td>\n",
       "      <td>-99.706996</td>\n",
       "      <td>-212.689360</td>\n",
       "      <td>-240.886664</td>\n",
       "      <td>-263.766784</td>\n",
       "    </tr>\n",
       "    <tr>\n",
       "      <th>Hits</th>\n",
       "      <td>0.0</td>\n",
       "      <td>0.000000</td>\n",
       "      <td>0.000000</td>\n",
       "      <td>244.201611</td>\n",
       "      <td>820.767576</td>\n",
       "      <td>1383.966019</td>\n",
       "      <td>1436.568629</td>\n",
       "      <td>1502.296698</td>\n",
       "      <td>2125.673675</td>\n",
       "      <td>2550.416247</td>\n",
       "      <td>2989.583721</td>\n",
       "      <td>3751.895400</td>\n",
       "      <td>4687.494018</td>\n",
       "      <td>4841.193752</td>\n",
       "      <td>5169.134791</td>\n",
       "    </tr>\n",
       "    <tr>\n",
       "      <th>HmRun</th>\n",
       "      <td>0.0</td>\n",
       "      <td>0.000000</td>\n",
       "      <td>0.000000</td>\n",
       "      <td>0.000000</td>\n",
       "      <td>0.000000</td>\n",
       "      <td>0.000000</td>\n",
       "      <td>0.000000</td>\n",
       "      <td>0.000000</td>\n",
       "      <td>0.000000</td>\n",
       "      <td>0.000000</td>\n",
       "      <td>0.000000</td>\n",
       "      <td>0.000000</td>\n",
       "      <td>0.000000</td>\n",
       "      <td>0.000000</td>\n",
       "      <td>0.000000</td>\n",
       "    </tr>\n",
       "    <tr>\n",
       "      <th>PutOuts</th>\n",
       "      <td>0.0</td>\n",
       "      <td>0.000000</td>\n",
       "      <td>0.000000</td>\n",
       "      <td>0.000000</td>\n",
       "      <td>0.000000</td>\n",
       "      <td>959.140764</td>\n",
       "      <td>1042.041356</td>\n",
       "      <td>1097.020596</td>\n",
       "      <td>1122.387296</td>\n",
       "      <td>1135.663640</td>\n",
       "      <td>1153.687734</td>\n",
       "      <td>1213.140353</td>\n",
       "      <td>1288.981041</td>\n",
       "      <td>1313.947228</td>\n",
       "      <td>1327.375589</td>\n",
       "    </tr>\n",
       "    <tr>\n",
       "      <th>RBI</th>\n",
       "      <td>0.0</td>\n",
       "      <td>0.000000</td>\n",
       "      <td>0.000000</td>\n",
       "      <td>0.000000</td>\n",
       "      <td>0.000000</td>\n",
       "      <td>0.000000</td>\n",
       "      <td>0.000000</td>\n",
       "      <td>0.000000</td>\n",
       "      <td>0.000000</td>\n",
       "      <td>0.000000</td>\n",
       "      <td>0.000000</td>\n",
       "      <td>0.000000</td>\n",
       "      <td>143.566318</td>\n",
       "      <td>161.311313</td>\n",
       "      <td>212.202190</td>\n",
       "    </tr>\n",
       "    <tr>\n",
       "      <th>Runs</th>\n",
       "      <td>0.0</td>\n",
       "      <td>0.000000</td>\n",
       "      <td>0.000000</td>\n",
       "      <td>0.000000</td>\n",
       "      <td>0.000000</td>\n",
       "      <td>0.000000</td>\n",
       "      <td>0.000000</td>\n",
       "      <td>0.000000</td>\n",
       "      <td>0.000000</td>\n",
       "      <td>0.000000</td>\n",
       "      <td>0.000000</td>\n",
       "      <td>0.000000</td>\n",
       "      <td>0.000000</td>\n",
       "      <td>0.000000</td>\n",
       "      <td>-306.725869</td>\n",
       "    </tr>\n",
       "    <tr>\n",
       "      <th>Walks</th>\n",
       "      <td>0.0</td>\n",
       "      <td>0.000000</td>\n",
       "      <td>0.000000</td>\n",
       "      <td>0.000000</td>\n",
       "      <td>409.246540</td>\n",
       "      <td>786.884767</td>\n",
       "      <td>807.126593</td>\n",
       "      <td>818.352358</td>\n",
       "      <td>873.343798</td>\n",
       "      <td>907.990048</td>\n",
       "      <td>1079.821176</td>\n",
       "      <td>1382.422471</td>\n",
       "      <td>1765.656801</td>\n",
       "      <td>1827.250410</td>\n",
       "      <td>1947.373424</td>\n",
       "    </tr>\n",
       "    <tr>\n",
       "      <th>Years</th>\n",
       "      <td>0.0</td>\n",
       "      <td>0.000000</td>\n",
       "      <td>0.000000</td>\n",
       "      <td>0.000000</td>\n",
       "      <td>0.000000</td>\n",
       "      <td>0.000000</td>\n",
       "      <td>0.000000</td>\n",
       "      <td>0.000000</td>\n",
       "      <td>0.000000</td>\n",
       "      <td>-160.394855</td>\n",
       "      <td>-284.201339</td>\n",
       "      <td>-497.147668</td>\n",
       "      <td>-775.320434</td>\n",
       "      <td>-615.426636</td>\n",
       "      <td>-462.358160</td>\n",
       "    </tr>\n",
       "  </tbody>\n",
       "</table>\n",
       "</div>"
      ],
      "text/plain": [
       "         15.741368   13.549804   11.128324    9.983524     6.247342   \\\n",
       "Assists        0.0    0.000000    0.000000     0.000000     0.000000   \n",
       "AtBat          0.0    0.000000    0.000000     0.000000     0.000000   \n",
       "CAtBat         0.0    0.000000    0.000000     0.000000     0.000000   \n",
       "CHits          0.0    0.000000    0.000000     0.000000     0.000000   \n",
       "CHmRun         0.0    0.000000    0.000000     0.000000     0.000000   \n",
       "CRBI           0.0  576.381414  903.696435  1073.537791  1622.693008   \n",
       "CRuns          0.0    0.000000  327.315021   409.443425   598.726936   \n",
       "CWalks         0.0    0.000000    0.000000     0.000000     0.000000   \n",
       "Errors         0.0    0.000000    0.000000     0.000000     0.000000   \n",
       "Hits           0.0    0.000000    0.000000   244.201611   820.767576   \n",
       "HmRun          0.0    0.000000    0.000000     0.000000     0.000000   \n",
       "PutOuts        0.0    0.000000    0.000000     0.000000     0.000000   \n",
       "RBI            0.0    0.000000    0.000000     0.000000     0.000000   \n",
       "Runs           0.0    0.000000    0.000000     0.000000     0.000000   \n",
       "Walks          0.0    0.000000    0.000000     0.000000   409.246540   \n",
       "Years          0.0    0.000000    0.000000     0.000000     0.000000   \n",
       "\n",
       "           1.279642     0.862645     0.584527     0.506364     0.449827   \\\n",
       "Assists     0.000000     0.000000     0.000000     0.000000     0.000000   \n",
       "AtBat       0.000000     0.000000     0.000000  -678.437739 -1169.032908   \n",
       "CAtBat      0.000000     0.000000     0.000000     0.000000     0.000000   \n",
       "CHits       0.000000     0.000000     0.000000     0.000000     0.000000   \n",
       "CHmRun      0.000000    88.229362   107.047584   218.700697   230.034128   \n",
       "CRBI     1978.405846  1884.648224  1856.928129  1729.859976  1786.243945   \n",
       "CRuns    1251.879139  1353.164607  1405.666811  1449.023036  1545.807326   \n",
       "CWalks      0.000000     0.000000     0.000000     0.000000     0.000000   \n",
       "Errors      0.000000     0.000000   -91.745872   -64.413428   -49.892132   \n",
       "Hits     1383.966019  1436.568629  1502.296698  2125.673675  2550.416247   \n",
       "HmRun       0.000000     0.000000     0.000000     0.000000     0.000000   \n",
       "PutOuts   959.140764  1042.041356  1097.020596  1122.387296  1135.663640   \n",
       "RBI         0.000000     0.000000     0.000000     0.000000     0.000000   \n",
       "Runs        0.000000     0.000000     0.000000     0.000000     0.000000   \n",
       "Walks     786.884767   807.126593   818.352358   873.343798   907.990048   \n",
       "Years       0.000000     0.000000     0.000000     0.000000  -160.394855   \n",
       "\n",
       "           0.386476     0.281576     0.145254     0.101290     0.060441   \n",
       "Assists     0.000000   210.064317   507.017781   629.629917   721.974870  \n",
       "AtBat   -1798.076993 -2934.969518 -4467.021634 -4754.572213 -4985.388193  \n",
       "CAtBat      0.000000     0.000000     0.000000 -1664.497263 -3351.362621  \n",
       "CHits       0.000000     0.000000     0.000000     0.000000     0.000000  \n",
       "CHmRun    312.046310   548.749600   813.897881   462.210668   189.619840  \n",
       "CRBI     1785.739469  1731.073486  1592.635644  2445.550343  3101.539289  \n",
       "CRuns    2017.742406  2842.262193  3989.897614  5272.258588  6696.942856  \n",
       "CWalks   -458.308933 -1288.076691 -2356.428975 -2663.853111 -2977.807646  \n",
       "Errors    -21.124406   -99.706996  -212.689360  -240.886664  -263.766784  \n",
       "Hits     2989.583721  3751.895400  4687.494018  4841.193752  5169.134791  \n",
       "HmRun       0.000000     0.000000     0.000000     0.000000     0.000000  \n",
       "PutOuts  1153.687734  1213.140353  1288.981041  1313.947228  1327.375589  \n",
       "RBI         0.000000     0.000000   143.566318   161.311313   212.202190  \n",
       "Runs        0.000000     0.000000     0.000000     0.000000  -306.725869  \n",
       "Walks    1079.821176  1382.422471  1765.656801  1827.250410  1947.373424  \n",
       "Years    -284.201339  -497.147668  -775.320434  -615.426636  -462.358160  "
      ]
     },
     "execution_count": 156,
     "metadata": {},
     "output_type": "execute_result"
    }
   ],
   "source": [
    "df_coeff = pd.DataFrame(dict(zip(predictors.columns, model.coef_path_))).T\n",
    "df_coeff.columns = model.alphas_\n",
    "df_coeff"
   ]
  },
  {
   "cell_type": "markdown",
   "metadata": {},
   "source": [
    "The last three features remain in the model are: Hits, CRuns, CRBI"
   ]
  },
  {
   "cell_type": "markdown",
   "metadata": {},
   "source": [
    "### 1.1.3. Use cross-validation to find the optimal value of the regularization penalty"
   ]
  },
  {
   "cell_type": "code",
   "execution_count": 161,
   "metadata": {},
   "outputs": [
    {
     "name": "stdout",
     "output_type": "stream",
     "text": [
      "The optimal value of the regularization penalty is: 0.06\n"
     ]
    }
   ],
   "source": [
    "print(\"The optimal value of the regularization penalty is: \" + str(round(model.alpha_, 3)))"
   ]
  },
  {
   "cell_type": "code",
   "execution_count": 162,
   "metadata": {},
   "outputs": [
    {
     "data": {
      "text/plain": [
       "<matplotlib.legend.Legend at 0x2b1a0061978>"
      ]
     },
     "execution_count": 162,
     "metadata": {},
     "output_type": "execute_result"
    },
    {
     "data": {
      "image/png": "[encoded data removed]",
      "text/plain": [
       "<matplotlib.figure.Figure at 0x2b19fdfaa58>"
      ]
     },
     "metadata": {},
     "output_type": "display_data"
    }
   ],
   "source": [
    "import matplotlib\n",
    "m_log_alphas = -np.log10(model.cv_alphas_)\n",
    "plt.plot(m_log_alphas, model.mse_path_.mean(axis=-1), 'k',\n",
    "         label='Average CV error per alpha', linewidth=2)\n",
    "\n",
    "plt.axvline(-np.log10(model.alpha_), linestyle='--', color='r',\n",
    "            label='-log(alpha) = ' + str(round(-np.log10(model.alpha_),2)) + ' at min')\n",
    "   \n",
    "plt.xlabel('-log(alpha)')\n",
    "plt.ylabel('Mean square error')\n",
    "plt.title('Average CV error for all alpha')\n",
    "plt.axis('tight')\n",
    "plt.legend()"
   ]
  },
  {
   "cell_type": "markdown",
   "metadata": {},
   "source": [
    "### 1.1.4. How many predictors are left in that model?"
   ]
  },
  {
   "cell_type": "code",
   "execution_count": 163,
   "metadata": {},
   "outputs": [
    {
     "data": {
      "text/plain": [
       "array([-307.41220539,  318.74250598,    0.        ,  -18.91352731,\n",
       "         13.08494756,  120.08018952,  -28.51022548, -206.65387219,\n",
       "          0.        ,   11.69246021,  412.95118714,  191.24910558,\n",
       "       -183.61948563,   81.84948519,   44.51887763,  -16.26455668])"
      ]
     },
     "execution_count": 163,
     "metadata": {},
     "output_type": "execute_result"
    }
   ],
   "source": [
    "model.coef_"
   ]
  },
  {
   "cell_type": "markdown",
   "metadata": {},
   "source": [
    "There are 14 predictors left in the model compare to the original 16. Although only one of the predictors were eliminated from the model, judging from the above plot displaying the average CV error for all alpha, we can see that we can obtain even smaller $-log(\\alpha)$ (bigger $\\alpha$, less predictors left in the final model) to maintain a similarlly small Average CV error. We can tune out more meaningless predictors at the cost of rising almost no CV error amd maintaining the same model accuracy. "
   ]
  },
  {
   "cell_type": "markdown",
   "metadata": {},
   "source": [
    "Reference: http://scikit-learn.org/stable/modules/generated/sklearn.linear_model.LassoLarsCV.html"
   ]
  },
  {
   "cell_type": "markdown",
   "metadata": {},
   "source": [
    "### 1.2 Repeat with Ridge Regression. \n",
    "### 1.2.1 Visualize the coefficient trajectories"
   ]
  },
  {
   "cell_type": "code",
   "execution_count": 166,
   "metadata": {},
   "outputs": [
    {
     "data": {
      "text/plain": [
       "(0.03437728780738071,\n",
       " 2.0446331207346833,\n",
       " -76.322000000000003,\n",
       " 103.02200000000001)"
      ]
     },
     "execution_count": 166,
     "metadata": {},
     "output_type": "execute_result"
    },
    {
     "data": {
      "image/png": "[encoded data removed]",
      "text/plain": [
       "<matplotlib.figure.Figure at 0x2b19b9417f0>"
      ]
     },
     "metadata": {},
     "output_type": "display_data"
    }
   ],
   "source": [
    "#new \n",
    "from sklearn.linear_model import RidgeCV\n",
    "from sklearn.model_selection import cross_val_score\n",
    "from sklearn.linear_model import Ridge\n",
    "import warnings\n",
    "\n",
    "coefs = []\n",
    "cv_score = []\n",
    "alphas = np.arange(0,50, 0.1)\n",
    "\n",
    "# Train the model with different regularization strengths\n",
    "for a in alphas:\n",
    "    \n",
    "    warnings.filterwarnings(\"ignore\")\n",
    "    model_r = Ridge(a, normalize = True)\n",
    "    model_r.fit(predictors, target)\n",
    "    coefs.append(np.round(model_r.coef_, 2))\n",
    "    cv_score.append(cross_val_score(model_r, predictors, target, cv=10).mean())\n",
    "\n",
    "# Display results\n",
    "plt.figure(figsize=(20, 6))\n",
    "\n",
    "plt.subplot(121)\n",
    "ax = plt.gca()\n",
    "ax.plot(np.log10(alphas), coefs)\n",
    "ax.set_xscale('log')\n",
    "plt.xlabel('log(alpha)')\n",
    "plt.ylabel('weights')\n",
    "plt.title('Ridge coefficients as a function of the regularization')\n",
    "plt.axis('tight')\n"
   ]
  },
  {
   "cell_type": "markdown",
   "metadata": {},
   "source": [
    "### 1.2.2 Use cross-validation to find the optimal value of the regularization penalty"
   ]
  },
  {
   "cell_type": "code",
   "execution_count": 168,
   "metadata": {},
   "outputs": [
    {
     "data": {
      "text/plain": [
       "<matplotlib.legend.Legend at 0x2b19bab1be0>"
      ]
     },
     "execution_count": 168,
     "metadata": {},
     "output_type": "execute_result"
    },
    {
     "data": {
      "image/png": "[encoded data removed]",
      "text/plain": [
       "<matplotlib.figure.Figure at 0x2b19bd79fd0>"
      ]
     },
     "metadata": {},
     "output_type": "display_data"
    }
   ],
   "source": [
    "plt.plot(alphas, cv_score, color='k')  \n",
    "plt.axvline(alphas[cv_score.index(max(cv_score))], linestyle='--', color='r', \n",
    "            label='alpha = ' + str(round(alphas[cv_score.index(max(cv_score))], 2)))\n",
    "plt.xlabel('alpha')\n",
    "plt.ylabel('CV Score')\n",
    "plt.title('CV Score for different regularization strengths')\n",
    "plt.legend()"
   ]
  },
  {
   "cell_type": "code",
   "execution_count": 138,
   "metadata": {},
   "outputs": [
    {
     "name": "stdout",
     "output_type": "stream",
     "text": [
      "The optimal value of the regularization penalty is 1.0\n"
     ]
    }
   ],
   "source": [
    "print(\"The optimal value of the regularization penalty is \" + str(round(alphas[cv_score.index(max(cv_score))], 2))) "
   ]
  },
  {
   "cell_type": "code",
   "execution_count": null,
   "metadata": {
    "collapsed": true
   },
   "outputs": [],
   "source": []
  },
  {
   "cell_type": "markdown",
   "metadata": {},
   "source": [
    "### 2.1 Explain in your own words the bias-variance tradeoff"
   ]
  },
  {
   "cell_type": "markdown",
   "metadata": {},
   "source": [
    "The bias-variance tradeoff refers to when you fit a model, the model that is more variable (the shape is more shaply), tend to have lower bias, and vica versa. The more the model tries to memories all the training data, the more it variate/ocilate when trying to stay close to as many data point as possible. This will make the training error small, hense small bias. In its opposite case, the more generalized the model gets, the less variate it is. This will make the training error large as it will not try to stay close to many training data point, hense the high bias. "
   ]
  },
  {
   "cell_type": "markdown",
   "metadata": {},
   "source": [
    "### 2.2 What role does regularization play in this tradeoff? "
   ]
  },
  {
   "cell_type": "markdown",
   "metadata": {
    "collapsed": true
   },
   "source": [
    "The regularization makes sure that the coefficient stay at a reasonable magnitude. Hence the variance is being controlled at a low level, or even shinked to 0 if we use Lasso. This will make the bias slightly higher but will prevent overfitting of the training data. "
   ]
  },
  {
   "cell_type": "markdown",
   "metadata": {},
   "source": [
    "### 2.3 Make reference to your findings in number (1) to describe models of high/low bias and variance"
   ]
  },
  {
   "cell_type": "markdown",
   "metadata": {
    "collapsed": true
   },
   "source": [
    "Acccording to the two coefficient trajectories, the larger the regularization parameter get, the smaller the coefficient get for both of the model. The LASSO regressoin uses L1 norm for the coefficient as the penalty term. As the regularization parameter $\\alpha$ increases, the more and more coefficients turned to 0. LASSO is great for feature selection because of this. Ridge regression uses L2 norm as its penalty term so all of the coefficient will get smaller as $\\alpha$ increases but all of them will remain non-zero. \n",
    "\n",
    "Both LASSO and RIDGE uses penalty term times regularization parameter to achieve lowing variance to achieve low variance and eliminate overfitting. In both cases, when $\\alpha$ is small, the model performs similarlly to simple linear regression. When the regularization stength is small, the model tend to overfit. This reflect on both of the cv error plot, when the model overfit and loses generalization, the CV error is high(CV score is low). As we increase the regularization stength, the model overfit less and hence the CV error has gone down(CV score increases). The model reachs to its optimal $\\alpha$ at the valley of the CV error(peak of CV score). As we keep increasing $\\alpha$, the model gets too generalized that it actually lost information and was underfitted so the CV error increases(CV score decreases).  "
   ]
  },
  {
   "cell_type": "code",
   "execution_count": 172,
   "metadata": {},
   "outputs": [
    {
     "data": {
      "text/plain": [
       "<matplotlib.legend.Legend at 0x2b19fb25518>"
      ]
     },
     "execution_count": 172,
     "metadata": {},
     "output_type": "execute_result"
    },
    {
     "data": {
      "image/png": "[encoded data removed]",
      "text/plain": [
       "<matplotlib.figure.Figure at 0x2b19bd267f0>"
      ]
     },
     "metadata": {},
     "output_type": "display_data"
    }
   ],
   "source": [
    "import matplotlib\n",
    "m_log_alphas = -np.log10(model.cv_alphas_)\n",
    "plt.plot(m_log_alphas, model.mse_path_.mean(axis=-1), 'k',\n",
    "         label='Average CV error per alpha', linewidth=2)\n",
    "\n",
    "plt.axvline(-np.log10(model.alpha_), linestyle='--', color='r',\n",
    "            label='-log(alpha) = ' + str(round(-np.log10(model.alpha_),2)) + ' at min')\n",
    "   \n",
    "plt.xlabel('-log(alpha)')\n",
    "plt.ylabel('Mean square error')\n",
    "plt.title('Average CV error for all alpha (LASSO)')\n",
    "plt.axis('tight')\n",
    "plt.legend()"
   ]
  },
  {
   "cell_type": "code",
   "execution_count": 173,
   "metadata": {
    "scrolled": true
   },
   "outputs": [
    {
     "data": {
      "text/plain": [
       "<matplotlib.legend.Legend at 0x2b19fb86b00>"
      ]
     },
     "execution_count": 173,
     "metadata": {},
     "output_type": "execute_result"
    },
    {
     "data": {
      "image/png": "[encoded data removed]",
      "text/plain": [
       "<matplotlib.figure.Figure at 0x2b19fc87438>"
      ]
     },
     "metadata": {},
     "output_type": "display_data"
    }
   ],
   "source": [
    "import matplotlib\n",
    "plt.plot(alphas, cv_score, color='k')  \n",
    "plt.axvline(alphas[cv_score.index(max(cv_score))], linestyle='--', color='r', \n",
    "            label='alpha = ' + str(round(alphas[cv_score.index(max(cv_score))], 2)))\n",
    "plt.xlabel('alpha')\n",
    "plt.ylabel('CV Score')\n",
    "plt.title('CV Score for different regularization strengths (RIDGE)')\n",
    "plt.legend()"
   ]
  },
  {
   "cell_type": "code",
   "execution_count": null,
   "metadata": {
    "collapsed": true
   },
   "outputs": [],
   "source": []
  }
 ],
 "metadata": {
  "kernelspec": {
   "display_name": "Python 3",
   "language": "python",
   "name": "python3"
  },
  "language_info": {
   "codemirror_mode": {
    "name": "ipython",
    "version": 3
   },
   "file_extension": ".py",
   "mimetype": "text/x-python",
   "name": "python",
   "nbconvert_exporter": "python",
   "pygments_lexer": "ipython3",
   "version": "3.6.3"
  }
 },
 "nbformat": 4,
 "nbformat_minor": 2
}
