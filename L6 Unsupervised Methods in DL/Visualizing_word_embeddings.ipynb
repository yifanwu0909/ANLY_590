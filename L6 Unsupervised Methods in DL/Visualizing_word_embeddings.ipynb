{
 "cells": [
  {
   "cell_type": "markdown",
   "metadata": {},
   "source": [
    "Here we focus on visualizing embeddings\n",
    "- For a reference see:\n",
    "    - [Tensorflow official guide](https://www.tensorflow.org/versions/r1.1/get_started/embedding_viz) \n",
    "    - Note the documentation is a bit outdated"
   ]
  },
  {
   "cell_type": "code",
   "execution_count": 1,
   "metadata": {},
   "outputs": [
    {
     "name": "stderr",
     "output_type": "stream",
     "text": [
      "/home/joshuah/venv3/lib/python3.5/importlib/_bootstrap.py:222: RuntimeWarning: numpy.dtype size changed, may indicate binary incompatibility. Expected 96, got 88\n",
      "  return f(*args, **kwds)\n",
      "/home/joshuah/venv3/lib/python3.5/importlib/_bootstrap.py:222: RuntimeWarning: numpy.dtype size changed, may indicate binary incompatibility. Expected 96, got 88\n",
      "  return f(*args, **kwds)\n",
      "/home/joshuah/venv3/lib/python3.5/importlib/_bootstrap.py:222: RuntimeWarning: numpy.dtype size changed, may indicate binary incompatibility. Expected 96, got 88\n",
      "  return f(*args, **kwds)\n",
      "/home/joshuah/venv3/lib/python3.5/importlib/_bootstrap.py:222: RuntimeWarning: numpy.dtype size changed, may indicate binary incompatibility. Expected 96, got 88\n",
      "  return f(*args, **kwds)\n",
      "/home/joshuah/venv3/lib/python3.5/importlib/_bootstrap.py:222: RuntimeWarning: numpy.dtype size changed, may indicate binary incompatibility. Expected 96, got 88\n",
      "  return f(*args, **kwds)\n",
      "Using TensorFlow backend.\n"
     ]
    }
   ],
   "source": [
    "# -----------------------\n",
    "# - Libraries -\n",
    "# -----------------------\n",
    "# == Base libs ==\n",
    "import os\n",
    "import numpy as np\n",
    "import pandas as pd  # we'll need this for saving data\n",
    "\n",
    "# == TF libs ==\n",
    "import tensorflow as tf\n",
    "from tensorflow.contrib.tensorboard.plugins import projector\n",
    "\n",
    "# == Keras Librarires ==\n",
    "# - Data download -\n",
    "from keras.datasets import mnist"
   ]
  },
  {
   "cell_type": "code",
   "execution_count": 2,
   "metadata": {},
   "outputs": [],
   "source": [
    "# -----------------------\n",
    "# - Setting up data -\n",
    "# -----------------------\n",
    "path = os.path.join(os.getcwd(), 'mnist-tensorboard')\n",
    "\n",
    "# --- Setting up directories ---\n",
    "LOG_DIR = os.path.join(path,'log-1')\n",
    "DATA_DIR = os.path.join(path, 'data')\n",
    "METADATA_DIR = os.path.join(DATA_DIR,'metadata_labels')"
   ]
  },
  {
   "cell_type": "markdown",
   "metadata": {},
   "source": [
    "A note on data storage for Keras:\n",
    " - Caches it's datasets in  <code> '~/.keras/datasets/' + path'</code> for future access\n",
    " - We'll load our data from DATA_DIR for reproducability\n",
    " - Notice that the format of the data as a as a <code>.npz</code>"
   ]
  },
  {
   "cell_type": "code",
   "execution_count": 3,
   "metadata": {},
   "outputs": [
    {
     "name": "stdout",
     "output_type": "stream",
     "text": [
      "...Loading data ...\n",
      "Train samples shape: (60000, 28, 28)\n",
      "Test samples shape: (10000, 28, 28)\n"
     ]
    }
   ],
   "source": [
    "# --- Loading data ---\n",
    "print(  '...Loading data ...')\n",
    "(x_train, y_train), (x_test, y_test) = mnist.load_data(path = \n",
    "                                                       os.path.join(DATA_DIR,'mnist.pz'))\n",
    "print('Train samples shape: '+ str(x_train.shape))\n",
    "print('Test samples shape: '+ str(x_test.shape))"
   ]
  },
  {
   "cell_type": "code",
   "execution_count": 4,
   "metadata": {},
   "outputs": [],
   "source": [
    "# --- Reshaping data ----\n",
    "test_shape = x_test.shape #(10000,28,28)\n",
    "x_test = x_test.reshape(test_shape[0], test_shape[1]*test_shape[2] )"
   ]
  },
  {
   "cell_type": "code",
   "execution_count": 5,
   "metadata": {},
   "outputs": [],
   "source": [
    "# --- Loading data for embedding ---\n",
    "images = tf.Variable(x_test, name = 'images')"
   ]
  },
  {
   "cell_type": "code",
   "execution_count": 6,
   "metadata": {},
   "outputs": [],
   "source": [
    "# --- Storing Label Metadata ----\n",
    "import pandas as pd\n",
    "y_test = pd.DataFrame(y_test)\n",
    "y_test.to_csv(METADATA_DIR, index = False, header = False)"
   ]
  },
  {
   "cell_type": "code",
   "execution_count": 7,
   "metadata": {},
   "outputs": [],
   "source": [
    "# -- Starting Tensorboard session ---\n",
    "with tf.Session() as sess:\n",
    "    saver = tf.train.Saver([images])\n",
    "\n",
    "    sess.run(images.initializer)\n",
    "    saver.save(sess, os.path.join(LOG_DIR, 'images.ckpt'))\n",
    "\n",
    "    config = projector.ProjectorConfig()\n",
    "    # One can add multiple embeddings.\n",
    "    embedding = config.embeddings.add()\n",
    "    embedding.tensor_name = images.name\n",
    "    # Link this tensor to its metadata file (e.g. labels).\n",
    "    embedding.metadata_path =  METADATA_DIR\n",
    "    # Saves a config file that TensorBoard will read during startup.\n",
    "    projector.visualize_embeddings(tf.summary.FileWriter(LOG_DIR), config)\n",
    "\n",
    "# To run type: tensorboard --logdir=path/to/log-directory --port=6006\n",
    "# Example tensorboard --logdir=./mnist-tensorboard/logs-1 --port=6006"
   ]
  },
  {
   "cell_type": "code",
   "execution_count": null,
   "metadata": {},
   "outputs": [],
   "source": []
  }
 ],
 "metadata": {
  "kernelspec": {
   "display_name": "Python 3",
   "language": "python",
   "name": "python3"
  },
  "language_info": {
   "codemirror_mode": {
    "name": "ipython",
    "version": 3
   },
   "file_extension": ".py",
   "mimetype": "text/x-python",
   "name": "python",
   "nbconvert_exporter": "python",
   "pygments_lexer": "ipython3",
   "version": "3.5.2"
  },
  "toc": {
   "base_numbering": 1,
   "nav_menu": {},
   "number_sections": true,
   "sideBar": true,
   "skip_h1_title": false,
   "title_cell": "Table of Contents",
   "title_sidebar": "Contents",
   "toc_cell": false,
   "toc_position": {},
   "toc_section_display": true,
   "toc_window_display": false
  }
 },
 "nbformat": 4,
 "nbformat_minor": 2
}
