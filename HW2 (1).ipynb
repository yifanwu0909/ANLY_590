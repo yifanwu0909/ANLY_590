{
  "nbformat": 4,
  "nbformat_minor": 0,
  "metadata": {
    "colab": {
      "name": "HW2.ipynb",
      "version": "0.3.2",
      "provenance": [],
      "collapsed_sections": [
        "SVIZ21hy7B0J",
        "a3kRKMrm66Tp",
        "o6_Nn7BV3jFN",
        "R9pnxEU_3vYI",
        "FPIEUKcQACOo",
        "6iPE7HEgouD9"
      ]
    },
    "kernelspec": {
      "name": "python3",
      "display_name": "Python 3"
    },
    "accelerator": "GPU"
  },
  "cells": [
    {
      "metadata": {
        "id": "SVIZ21hy7B0J",
        "colab_type": "text"
      },
      "cell_type": "markdown",
      "source": [
        "# Kernel setup (RAM boost + install Keras 2.1.0)"
      ]
    },
    {
      "metadata": {
        "id": "VKfqHi9x9it6",
        "colab_type": "code",
        "outputId": "e5674bbb-5cd1-4a1e-c373-873d88c2162f",
        "colab": {
          "base_uri": "https://localhost:8080/",
          "height": 102
        }
      },
      "cell_type": "code",
      "source": [
        "!pip install  keras==2.1.0"
      ],
      "execution_count": 0,
      "outputs": [
        {
          "output_type": "stream",
          "text": [
            "Requirement already satisfied: keras==2.1.0 in /usr/local/lib/python3.6/dist-packages (2.1.0)\n",
            "Requirement already satisfied: numpy>=1.9.1 in /usr/local/lib/python3.6/dist-packages (from keras==2.1.0) (1.14.6)\n",
            "Requirement already satisfied: six>=1.9.0 in /usr/local/lib/python3.6/dist-packages (from keras==2.1.0) (1.11.0)\n",
            "Requirement already satisfied: pyyaml in /usr/local/lib/python3.6/dist-packages (from keras==2.1.0) (3.13)\n",
            "Requirement already satisfied: scipy>=0.14 in /usr/local/lib/python3.6/dist-packages (from keras==2.1.0) (1.1.0)\n"
          ],
          "name": "stdout"
        }
      ]
    },
    {
      "metadata": {
        "id": "OLA9jOEo9k0s",
        "colab_type": "code",
        "colab": {}
      },
      "cell_type": "code",
      "source": [
        "import keras"
      ],
      "execution_count": 0,
      "outputs": []
    },
    {
      "metadata": {
        "id": "emi9UmE19o33",
        "colab_type": "code",
        "outputId": "6304b039-2044-4dff-ef4e-60f1443d2e18",
        "colab": {
          "base_uri": "https://localhost:8080/",
          "height": 34
        }
      },
      "cell_type": "code",
      "source": [
        "keras.__version__"
      ],
      "execution_count": 0,
      "outputs": [
        {
          "output_type": "execute_result",
          "data": {
            "text/plain": [
              "'2.1.0'"
            ]
          },
          "metadata": {
            "tags": []
          },
          "execution_count": 20
        }
      ]
    },
    {
      "metadata": {
        "id": "Los2kYBFFPxt",
        "colab_type": "code",
        "colab": {}
      },
      "cell_type": "code",
      "source": [
        "#this will clear all the GPU RAM\n",
        "#!pkill -9 -f ipykernel_launcher"
      ],
      "execution_count": 0,
      "outputs": []
    },
    {
      "metadata": {
        "id": "4dLuLmu5Ew00",
        "colab_type": "code",
        "outputId": "d15de6a1-a81a-4f62-fe4c-4577c3a1f7a1",
        "colab": {
          "base_uri": "https://localhost:8080/",
          "height": 119
        }
      },
      "cell_type": "code",
      "source": [
        "!ln -sf /opt/bin/nvidia-smi /usr/bin/nvidia-smi\n",
        "!pip install gputil\n",
        "!pip install psutil\n",
        "!pip install humanize\n",
        "import psutil\n",
        "import humanize\n",
        "import os\n",
        "import GPUtil as GPU\n",
        "GPUs = GPU.getGPUs()\n",
        "# XXX: only one GPU on Colab and isn’t guaranteed\n",
        "gpu = GPUs[0]\n",
        "def printm():\n",
        "  process = psutil.Process(os.getpid())\n",
        "  print(\"Gen RAM Free: \" + humanize.naturalsize( psutil.virtual_memory().available ), \" | Proc size: \" + humanize.naturalsize( process.memory_info().rss))\n",
        "  print(\"GPU RAM Free: {0:.0f}MB | Used: {1:.0f}MB | Util {2:3.0f}% | Total {3:.0f}MB\".format(gpu.memoryFree, gpu.memoryUsed, gpu.memoryUtil*100, gpu.memoryTotal))\n",
        "printm()"
      ],
      "execution_count": 0,
      "outputs": [
        {
          "output_type": "stream",
          "text": [
            "Requirement already satisfied: gputil in /usr/local/lib/python3.6/dist-packages (1.3.0)\n",
            "Requirement already satisfied: numpy in /usr/local/lib/python3.6/dist-packages (from gputil) (1.14.6)\n",
            "Requirement already satisfied: psutil in /usr/local/lib/python3.6/dist-packages (5.4.8)\n",
            "Requirement already satisfied: humanize in /usr/local/lib/python3.6/dist-packages (0.5.1)\n",
            "Gen RAM Free: 11.2 GB  | Proc size: 5.9 GB\n",
            "GPU RAM Free: 11441MB | Used: 0MB | Util   0% | Total 11441MB\n"
          ],
          "name": "stdout"
        }
      ]
    },
    {
      "metadata": {
        "id": "a3kRKMrm66Tp",
        "colab_type": "text"
      },
      "cell_type": "markdown",
      "source": [
        "# 1. Autoencoder"
      ]
    },
    {
      "metadata": {
        "id": "Kv6ul_T-9r1N",
        "colab_type": "code",
        "outputId": "06119ce0-8ba3-480a-c27b-f6b8466a2bcc",
        "colab": {
          "base_uri": "https://localhost:8080/",
          "height": 34
        }
      },
      "cell_type": "code",
      "source": [
        "from keras.utils.conv_utils import normalize_data_format\n",
        "from keras.datasets import mnist\n",
        "import numpy as np\n",
        "from keras.layers import Input, Dense, Conv2D, MaxPooling2D, UpSampling2D\n",
        "from keras.models import Model\n",
        "from keras import backend as K\n",
        "from keras.callbacks import TensorBoard\n",
        "import io, gzip, requests, gc\n",
        "from keras.utils import np_utils\n",
        "from keras.applications import VGG16\n",
        "from keras.preprocessing import image\n",
        "import numpy as np\n",
        "from keras.datasets import mnist\n",
        "from keras.models import Sequential\n",
        "from keras.layers import Dense, Flatten, Conv2D, MaxPooling2D, Dropout\n",
        "from keras.utils import np_utils\n",
        "import matplotlib.pyplot as plt\n",
        "import io, gzip, requests, gc\n",
        "from keras.applications.vgg16 import preprocess_input\n",
        "from keras.preprocessing.image import img_to_array, array_to_img\n",
        "plt.viridis()\n",
        "from keras import models\n",
        "from keras.models import Model\n",
        "from keras import layers\n",
        "from keras import optimizers\n",
        "from keras import callbacks\n",
        "from keras.layers.advanced_activations import LeakyReLU"
      ],
      "execution_count": 0,
      "outputs": [
        {
          "output_type": "display_data",
          "data": {
            "text/plain": [
              "<matplotlib.figure.Figure at 0x7fba42004860>"
            ]
          },
          "metadata": {
            "tags": []
          }
        }
      ]
    },
    {
      "metadata": {
        "id": "WqvMN7Mt3QqU",
        "colab_type": "code",
        "colab": {}
      },
      "cell_type": "code",
      "source": [
        "#Prepare your data:\n",
        "\n",
        "#For MINIST\n",
        "#(x_train, _), (x_test, _) = mnist.load_data()\n",
        "#x_train = x_train.astype('float32') / 255.\n",
        "#x_test = x_test.astype('float32') / 255.\n",
        "#x_train = np.reshape(x_train, (len(x_train), 28, 28, 1))  # adapt this if using `channels_first` image data format\n",
        "#x_test = np.reshape(x_test, (len(x_test), 28, 28, 1))\n",
        "\n",
        "train_image_url = \"http://fashion-mnist.s3-website.eu-central-1.amazonaws.com/train-images-idx3-ubyte.gz\"\n",
        "train_label_url = \"http://fashion-mnist.s3-website.eu-central-1.amazonaws.com/train-labels-idx1-ubyte.gz\"\n",
        "test_image_url = \"http://fashion-mnist.s3-website.eu-central-1.amazonaws.com/t10k-images-idx3-ubyte.gz\"\n",
        "test_label_url = \"http://fashion-mnist.s3-website.eu-central-1.amazonaws.com/t10k-labels-idx1-ubyte.gz\"\n",
        "\n",
        "def readRemoteGZipFile(url, isLabel=True):\n",
        "    response=requests.get(url, stream=True)\n",
        "    gzip_content = response.content\n",
        "    fObj = io.BytesIO(gzip_content)\n",
        "    content = gzip.GzipFile(fileobj=fObj).read()\n",
        "    if isLabel:\n",
        "        offset=8\n",
        "    else:\n",
        "        offset=16\n",
        "    result = np.frombuffer(content, dtype=np.uint8, offset=offset)    \n",
        "    return(result)\n",
        "\n",
        "train_labels = readRemoteGZipFile(train_label_url, isLabel=True)\n",
        "train_images_raw = readRemoteGZipFile(train_image_url, isLabel=False)\n",
        "test_labels = readRemoteGZipFile(test_label_url, isLabel=True)\n",
        "test_images_raw = readRemoteGZipFile(test_image_url, isLabel=False)\n",
        "\n",
        "train_images = train_images_raw.reshape(len(train_labels), 784)\n",
        "test_images = test_images_raw.reshape(len(test_labels), 784)\n",
        "Y_train = train_labels\n",
        "Y_test = test_labels\n",
        "\n",
        "X_train = train_images.reshape(train_images.shape[0], 28, 28, 1).astype('float32')\n",
        "X_test = test_images.reshape(test_images.shape[0], 28, 28, 1).astype('float32')\n",
        "\n",
        "X_train /= 255\n",
        "X_test /= 255\n",
        "\n",
        "X_train *= 2.\n",
        "X_test *= 2.\n",
        "\n",
        "Y_train = np_utils.to_categorical(Y_train, 10)\n",
        "Y_test = np_utils.to_categorical(Y_test, 10)"
      ],
      "execution_count": 0,
      "outputs": []
    },
    {
      "metadata": {
        "id": "J5BqfiXn3RYj",
        "colab_type": "code",
        "outputId": "dfe1c1ba-5e4d-4cd1-cfd5-c4e78728efa0",
        "colab": {
          "base_uri": "https://localhost:8080/",
          "height": 88
        }
      },
      "cell_type": "code",
      "source": [
        "input_img = Input(shape=(28, 28, 1))  # adapt this if using `channels_first` image data format\n",
        "\n",
        "x = Conv2D(16, (3, 3), activation='relu', padding='same')(input_img)\n",
        "x = MaxPooling2D((2, 2), padding='same')(x)\n",
        "x = Conv2D(8, (3, 3), activation='relu', padding='same')(x)\n",
        "x = MaxPooling2D((2, 2), padding='same')(x)\n",
        "x = Conv2D(8, (3, 3), activation='relu', padding='same')(x)\n",
        "encoded = MaxPooling2D((2, 2), padding='same')(x)\n",
        "\n",
        "# at this point the representation is (4, 4, 8) i.e. 128-dimensional\n",
        "\n",
        "x = Conv2D(8, (3, 3), activation='relu', padding='same')(encoded)\n",
        "x = UpSampling2D((2, 2))(x)\n",
        "x = Conv2D(8, (3, 3), activation='relu', padding='same')(x)\n",
        "x = UpSampling2D((2, 2))(x)\n",
        "x = Conv2D(16, (3, 3), activation='relu')(x)\n",
        "x = UpSampling2D((2, 2))(x)\n",
        "decoded = Conv2D(1, (3, 3), activation='sigmoid', padding='same')(x)\n",
        "\n",
        "autoencoder = Model(input_img, decoded)\n",
        "autoencoder.compile(optimizer='adadelta', loss='binary_crossentropy')"
      ],
      "execution_count": 0,
      "outputs": [
        {
          "output_type": "stream",
          "text": [
            "WARNING:tensorflow:From /usr/local/lib/python3.6/dist-packages/keras/backend/tensorflow_backend.py:1344: calling reduce_mean (from tensorflow.python.ops.math_ops) with keep_dims is deprecated and will be removed in a future version.\n",
            "Instructions for updating:\n",
            "keep_dims is deprecated, use keepdims instead\n"
          ],
          "name": "stdout"
        }
      ]
    },
    {
      "metadata": {
        "id": "t1O2twb83Rb4",
        "colab_type": "code",
        "outputId": "0421fe3a-9caa-42bd-b280-4c01c46ebb77",
        "colab": {
          "base_uri": "https://localhost:8080/",
          "height": 1751
        }
      },
      "cell_type": "code",
      "source": [
        "autoencoder.fit(X_train, X_train,\n",
        "                epochs=50,\n",
        "                batch_size=128,\n",
        "                shuffle=True,\n",
        "                validation_data=(X_test, X_test),\n",
        "                callbacks=[TensorBoard(log_dir='/tmp/autoencoder')],\n",
        "                verbose = 1)"
      ],
      "execution_count": 0,
      "outputs": [
        {
          "output_type": "stream",
          "text": [
            "Train on 60000 samples, validate on 10000 samples\n",
            "Epoch 1/50\n",
            "60000/60000 [==============================] - 10s 160us/step - loss: -1.3777 - val_loss: -1.7851\n",
            "Epoch 2/50\n",
            "60000/60000 [==============================] - 7s 114us/step - loss: -1.8505 - val_loss: -1.9135\n",
            "Epoch 3/50\n",
            "60000/60000 [==============================] - 7s 114us/step - loss: -1.9502 - val_loss: -1.9863\n",
            "Epoch 4/50\n",
            "60000/60000 [==============================] - 7s 114us/step - loss: -2.0057 - val_loss: -1.9980\n",
            "Epoch 5/50\n",
            "60000/60000 [==============================] - 7s 114us/step - loss: -2.0423 - val_loss: -2.0494\n",
            "Epoch 6/50\n",
            "60000/60000 [==============================] - 7s 114us/step - loss: -2.0664 - val_loss: -2.0379\n",
            "Epoch 7/50\n",
            "60000/60000 [==============================] - 7s 114us/step - loss: -2.0813 - val_loss: -2.0812\n",
            "Epoch 8/50\n",
            "60000/60000 [==============================] - 7s 115us/step - loss: -2.0956 - val_loss: -2.0989\n",
            "Epoch 9/50\n",
            "60000/60000 [==============================] - 7s 114us/step - loss: -2.1065 - val_loss: -2.0952\n",
            "Epoch 10/50\n",
            "60000/60000 [==============================] - 7s 115us/step - loss: -2.1138 - val_loss: -2.0873\n",
            "Epoch 11/50\n",
            "60000/60000 [==============================] - 7s 114us/step - loss: -2.1198 - val_loss: -2.1052\n",
            "Epoch 12/50\n",
            "60000/60000 [==============================] - 7s 114us/step - loss: -2.1274 - val_loss: -2.1189\n",
            "Epoch 13/50\n",
            "60000/60000 [==============================] - 7s 114us/step - loss: -2.1350 - val_loss: -2.1266\n",
            "Epoch 14/50\n",
            "60000/60000 [==============================] - 7s 114us/step - loss: -2.1403 - val_loss: -2.1259\n",
            "Epoch 15/50\n",
            "60000/60000 [==============================] - 7s 114us/step - loss: -2.1440 - val_loss: -2.1219\n",
            "Epoch 16/50\n",
            "60000/60000 [==============================] - 7s 114us/step - loss: -2.1510 - val_loss: -2.1357\n",
            "Epoch 17/50\n",
            "60000/60000 [==============================] - 7s 114us/step - loss: -2.1525 - val_loss: -2.1502\n",
            "Epoch 18/50\n",
            "60000/60000 [==============================] - 7s 114us/step - loss: -2.1560 - val_loss: -2.1228\n",
            "Epoch 19/50\n",
            "60000/60000 [==============================] - 7s 114us/step - loss: -2.1586 - val_loss: -2.1494\n",
            "Epoch 20/50\n",
            "60000/60000 [==============================] - 7s 114us/step - loss: -2.1642 - val_loss: -2.1459\n",
            "Epoch 21/50\n",
            "60000/60000 [==============================] - 7s 114us/step - loss: -2.1681 - val_loss: -2.1472\n",
            "Epoch 22/50\n",
            "60000/60000 [==============================] - 7s 114us/step - loss: -2.1693 - val_loss: -2.1635\n",
            "Epoch 23/50\n",
            "60000/60000 [==============================] - 7s 114us/step - loss: -2.1738 - val_loss: -2.1653\n",
            "Epoch 24/50\n",
            "60000/60000 [==============================] - 7s 114us/step - loss: -2.1755 - val_loss: -2.1607\n",
            "Epoch 25/50\n",
            "60000/60000 [==============================] - 7s 114us/step - loss: -2.1786 - val_loss: -2.1748\n",
            "Epoch 26/50\n",
            "60000/60000 [==============================] - 7s 114us/step - loss: -2.1800 - val_loss: -2.1759\n",
            "Epoch 27/50\n",
            "60000/60000 [==============================] - 7s 114us/step - loss: -2.1807 - val_loss: -2.1668\n",
            "Epoch 28/50\n",
            "60000/60000 [==============================] - 7s 114us/step - loss: -2.1831 - val_loss: -2.1677\n",
            "Epoch 29/50\n",
            "60000/60000 [==============================] - 7s 114us/step - loss: -2.1859 - val_loss: -2.1828\n",
            "Epoch 30/50\n",
            "60000/60000 [==============================] - 7s 114us/step - loss: -2.1873 - val_loss: -2.1669\n",
            "Epoch 31/50\n",
            "60000/60000 [==============================] - 7s 114us/step - loss: -2.1872 - val_loss: -2.1828\n",
            "Epoch 32/50\n",
            "60000/60000 [==============================] - 7s 115us/step - loss: -2.1888 - val_loss: -2.1874\n",
            "Epoch 33/50\n",
            "60000/60000 [==============================] - 7s 114us/step - loss: -2.1918 - val_loss: -2.1744\n",
            "Epoch 34/50\n",
            "60000/60000 [==============================] - 7s 115us/step - loss: -2.1945 - val_loss: -2.1917\n",
            "Epoch 35/50\n",
            "60000/60000 [==============================] - 7s 116us/step - loss: -2.1947 - val_loss: -2.1556\n",
            "Epoch 36/50\n",
            "60000/60000 [==============================] - 7s 114us/step - loss: -2.1995 - val_loss: -2.1857\n",
            "Epoch 37/50\n",
            "60000/60000 [==============================] - 7s 116us/step - loss: -2.1959 - val_loss: -2.1763\n",
            "Epoch 38/50\n",
            "60000/60000 [==============================] - 7s 117us/step - loss: -2.1991 - val_loss: -2.1825\n",
            "Epoch 39/50\n",
            "60000/60000 [==============================] - 7s 115us/step - loss: -2.2016 - val_loss: -2.1972\n",
            "Epoch 40/50\n",
            "60000/60000 [==============================] - 7s 114us/step - loss: -2.2041 - val_loss: -2.1995\n",
            "Epoch 41/50\n",
            "60000/60000 [==============================] - 7s 115us/step - loss: -2.2050 - val_loss: -2.1874\n",
            "Epoch 42/50\n",
            "60000/60000 [==============================] - 7s 116us/step - loss: -2.2037 - val_loss: -2.1964\n",
            "Epoch 43/50\n",
            "60000/60000 [==============================] - 7s 116us/step - loss: -2.2068 - val_loss: -2.2027\n",
            "Epoch 44/50\n",
            "60000/60000 [==============================] - 7s 116us/step - loss: -2.2126 - val_loss: -2.1915\n",
            "Epoch 45/50\n",
            "60000/60000 [==============================] - 7s 116us/step - loss: -2.2118 - val_loss: -2.2013\n",
            "Epoch 46/50\n",
            "60000/60000 [==============================] - 7s 116us/step - loss: -2.2124 - val_loss: -2.2021\n",
            "Epoch 47/50\n",
            "60000/60000 [==============================] - 7s 116us/step - loss: -2.2132 - val_loss: -2.2144\n",
            "Epoch 48/50\n",
            "60000/60000 [==============================] - 7s 116us/step - loss: -2.2178 - val_loss: -2.1881\n",
            "Epoch 49/50\n",
            "60000/60000 [==============================] - 7s 115us/step - loss: -2.2167 - val_loss: -2.2118\n",
            "Epoch 50/50\n",
            "60000/60000 [==============================] - 7s 115us/step - loss: -2.2169 - val_loss: -2.2185\n"
          ],
          "name": "stdout"
        },
        {
          "output_type": "execute_result",
          "data": {
            "text/plain": [
              "<keras.callbacks.History at 0x7fba3d06ddd8>"
            ]
          },
          "metadata": {
            "tags": []
          },
          "execution_count": 29
        }
      ]
    },
    {
      "metadata": {
        "id": "ZWiX6YTh3Rec",
        "colab_type": "code",
        "outputId": "4f9884a7-fe74-4da2-ea74-73823e7209ba",
        "colab": {
          "base_uri": "https://localhost:8080/",
          "height": 244
        }
      },
      "cell_type": "code",
      "source": [
        "decoded_imgs = autoencoder.predict(X_test)\n",
        "\n",
        "n = 10\n",
        "plt.figure(figsize=(20, 4))\n",
        "for i in range(n):\n",
        "    # display original\n",
        "    ax = plt.subplot(2, n, i + 1)\n",
        "    plt.imshow(X_test[i].reshape(28, 28))\n",
        "    plt.gray()\n",
        "    ax.get_xaxis().set_visible(False)\n",
        "    ax.get_yaxis().set_visible(False)\n",
        "\n",
        "    # display reconstruction\n",
        "    ax = plt.subplot(2, n, i + 1 + n)\n",
        "    plt.imshow(decoded_imgs[i].reshape(28, 28))\n",
        "    plt.gray()\n",
        "    ax.get_xaxis().set_visible(False)\n",
        "    ax.get_yaxis().set_visible(False)\n",
        "plt.show()"
      ],
      "execution_count": 0,
      "outputs": [
        {
          "output_type": "display_data",
          "data": {
            "image/png": "[encoded data removed]",
            "text/plain": [
              "<matplotlib.figure.Figure at 0x7fba42043860>"
            ]
          },
          "metadata": {
            "tags": []
          }
        }
      ]
    },
    {
      "metadata": {
        "id": "FcUNungS3fYz",
        "colab_type": "text"
      },
      "cell_type": "markdown",
      "source": [
        "# 2. Image Classification"
      ]
    },
    {
      "metadata": {
        "id": "o6_Nn7BV3jFN",
        "colab_type": "text"
      },
      "cell_type": "markdown",
      "source": [
        "## 2.1    Deep CNN"
      ]
    },
    {
      "metadata": {
        "id": "YT_3wLyM3RhS",
        "colab_type": "code",
        "outputId": "32691238-0316-480c-8f42-38e15985bb72",
        "colab": {
          "base_uri": "https://localhost:8080/",
          "height": 34
        }
      },
      "cell_type": "code",
      "source": [
        "from keras.applications import VGG16\n",
        "from keras.preprocessing import image\n",
        "import numpy as np\n",
        "from keras.datasets import mnist\n",
        "from keras.models import Sequential\n",
        "from keras.layers import Dense, Flatten, Conv2D, MaxPooling2D, Dropout\n",
        "from keras.utils import np_utils\n",
        "import matplotlib.pyplot as plt\n",
        "import io, gzip, requests, gc\n",
        "plt.viridis()"
      ],
      "execution_count": 0,
      "outputs": [
        {
          "output_type": "display_data",
          "data": {
            "text/plain": [
              "<matplotlib.figure.Figure at 0x7fba33364d30>"
            ]
          },
          "metadata": {
            "tags": []
          }
        }
      ]
    },
    {
      "metadata": {
        "id": "MVUZGyjG3lkA",
        "colab_type": "code",
        "outputId": "40eaa540-80d3-4f95-a262-9362fd38807f",
        "colab": {
          "base_uri": "https://localhost:8080/",
          "height": 996
        }
      },
      "cell_type": "code",
      "source": [
        "model = Sequential()\n",
        "model.add(Conv2D(filters = 32,kernel_size=(3, 3), \n",
        "                 activation='relu', strides=(1, 1), \n",
        "                 padding='valid',\n",
        "                 input_shape=(28,28,1)))\n",
        "model.add(Conv2D(filters = 32,kernel_size=(3, 3), \n",
        "                 activation='relu', strides=(1, 1), \n",
        "                 padding='valid'))\n",
        "model.add(MaxPooling2D(pool_size=(2,2)))\n",
        "model.add(Dropout(0.25))\n",
        "model.add(Flatten())\n",
        "model.add(Dense(64, activation='relu'))\n",
        "model.add(Dropout(0.5))\n",
        "model.add(Dense(10, activation='softmax'))\n",
        "\n",
        "model.compile(loss='categorical_crossentropy',\n",
        "              optimizer='adam',\n",
        "              metrics=['accuracy'])\n",
        "\n",
        "model_training = model.fit(X_train, Y_train,\n",
        "          epochs=15,\n",
        "          batch_size=128,\n",
        "         verbose = 1)\n",
        "\n",
        "plt.plot(model_training.history[\"acc\"])"
      ],
      "execution_count": 0,
      "outputs": [
        {
          "output_type": "stream",
          "text": [
            "WARNING:tensorflow:From /usr/local/lib/python3.6/dist-packages/keras/backend/tensorflow_backend.py:1259: calling reduce_prod (from tensorflow.python.ops.math_ops) with keep_dims is deprecated and will be removed in a future version.\n",
            "Instructions for updating:\n",
            "keep_dims is deprecated, use keepdims instead\n",
            "WARNING:tensorflow:From /usr/local/lib/python3.6/dist-packages/keras/backend/tensorflow_backend.py:2880: calling reduce_sum (from tensorflow.python.ops.math_ops) with keep_dims is deprecated and will be removed in a future version.\n",
            "Instructions for updating:\n",
            "keep_dims is deprecated, use keepdims instead\n",
            "Epoch 1/15\n",
            "60000/60000 [==============================] - 8s 127us/step - loss: 0.5987 - acc: 0.7908\n",
            "Epoch 2/15\n",
            "60000/60000 [==============================] - 6s 108us/step - loss: 0.4019 - acc: 0.8570\n",
            "Epoch 3/15\n",
            "60000/60000 [==============================] - 6s 108us/step - loss: 0.3447 - acc: 0.8780\n",
            "Epoch 4/15\n",
            "60000/60000 [==============================] - 7s 108us/step - loss: 0.3149 - acc: 0.8872\n",
            "Epoch 5/15\n",
            "60000/60000 [==============================] - 6s 108us/step - loss: 0.2897 - acc: 0.8960\n",
            "Epoch 6/15\n",
            "60000/60000 [==============================] - 7s 109us/step - loss: 0.2738 - acc: 0.9001\n",
            "Epoch 7/15\n",
            "60000/60000 [==============================] - 7s 109us/step - loss: 0.2557 - acc: 0.9067\n",
            "Epoch 8/15\n",
            "60000/60000 [==============================] - 7s 109us/step - loss: 0.2464 - acc: 0.9098\n",
            "Epoch 9/15\n",
            "60000/60000 [==============================] - 7s 109us/step - loss: 0.2325 - acc: 0.9144\n",
            "Epoch 10/15\n",
            "60000/60000 [==============================] - 6s 108us/step - loss: 0.2225 - acc: 0.9175\n",
            "Epoch 11/15\n",
            "60000/60000 [==============================] - 6s 108us/step - loss: 0.2163 - acc: 0.9197\n",
            "Epoch 12/15\n",
            "60000/60000 [==============================] - 7s 109us/step - loss: 0.2076 - acc: 0.9237\n",
            "Epoch 13/15\n",
            "60000/60000 [==============================] - 6s 108us/step - loss: 0.2014 - acc: 0.9243\n",
            "Epoch 14/15\n",
            "60000/60000 [==============================] - 7s 109us/step - loss: 0.1934 - acc: 0.9275\n",
            "Epoch 15/15\n",
            "60000/60000 [==============================] - 6s 108us/step - loss: 0.1875 - acc: 0.9294\n"
          ],
          "name": "stdout"
        },
        {
          "output_type": "execute_result",
          "data": {
            "text/plain": [
              "[<matplotlib.lines.Line2D at 0x7fba320ce518>]"
            ]
          },
          "metadata": {
            "tags": []
          },
          "execution_count": 32
        },
        {
          "output_type": "display_data",
          "data": {
            "image/png": "[encoded data removed]",
            "text/plain": [
              "<matplotlib.figure.Figure at 0x7fba325d5438>"
            ]
          },
          "metadata": {
            "tags": []
          }
        }
      ]
    },
    {
      "metadata": {
        "id": "yr6N_GJ03lms",
        "colab_type": "code",
        "outputId": "4eeb86f5-b371-4455-e7cc-fc222c4bfd7c",
        "colab": {
          "base_uri": "https://localhost:8080/",
          "height": 68
        }
      },
      "cell_type": "code",
      "source": [
        "score = model.evaluate(X_test, Y_test, verbose=1)\n",
        "print('Test loss:', score[0])\n",
        "print('Test accuracy:', score[1])"
      ],
      "execution_count": 0,
      "outputs": [
        {
          "output_type": "stream",
          "text": [
            "10000/10000 [==============================] - 1s 111us/step\n",
            "Test loss: 0.22695973647534848\n",
            "Test accuracy: 0.9231\n"
          ],
          "name": "stdout"
        }
      ]
    },
    {
      "metadata": {
        "id": "R9pnxEU_3vYI",
        "colab_type": "text"
      },
      "cell_type": "markdown",
      "source": [
        "## 2.2 Transfer Learning\n",
        "\n",
        "Reference: https://www.kaggle.com/anandad/classify-fashion-mnist-with-vgg16"
      ]
    },
    {
      "metadata": {
        "id": "CRRkzLro9uKP",
        "colab_type": "code",
        "colab": {}
      },
      "cell_type": "code",
      "source": [
        "#Previously:\n",
        "\n",
        "\n",
        "#train_image_url = \"http://fashion-mnist.s3-website.eu-central-1.amazonaws.com/train-images-idx3-ubyte.gz\"\n",
        "#train_label_url = \"http://fashion-mnist.s3-website.eu-central-1.amazonaws.com/train-labels-idx1-ubyte.gz\"\n",
        "#test_image_url = \"http://fashion-mnist.s3-website.eu-central-1.amazonaws.com/t10k-images-idx3-ubyte.gz\"\n",
        "#test_label_url = \"http://fashion-mnist.s3-website.eu-central-1.amazonaws.com/t10k-labels-idx1-ubyte.gz\"\n",
        "\n",
        "#def readRemoteGZipFile(url, isLabel=True):\n",
        "#    response=requests.get(url, stream=True)\n",
        "#    gzip_content = response.content\n",
        "#    fObj = io.BytesIO(gzip_content)\n",
        "#    content = gzip.GzipFile(fileobj=fObj).read()\n",
        "#    if isLabel:\n",
        "#        offset=8\n",
        "#    else:\n",
        "#        offset=16\n",
        "#    result = np.frombuffer(content, dtype=np.uint8, offset=offset)    \n",
        "#    return(result)\n",
        "\n",
        "#train_labels = readRemoteGZipFile(train_label_url, isLabel=True)\n",
        "#train_images_raw = readRemoteGZipFile(train_image_url, isLabel=False)\n",
        "#test_labels = readRemoteGZipFile(test_label_url, isLabel=True)\n",
        "#test_images_raw = readRemoteGZipFile(test_image_url, isLabel=False)\n",
        "\n",
        "#train_images = train_images_raw.reshape(len(train_labels), 784)\n",
        "#test_images = test_images_raw.reshape(len(test_labels), 784)\n",
        "#Y_train = train_labels\n",
        "#Y_test = test_labels\n",
        "\n",
        "X_train_trans = np.dstack([train_images] * 3)\n",
        "X_test_trans = np.dstack([test_images]*3)\n",
        "\n",
        "X_train_trans = X_train_trans.reshape(-1, 28, 28, 3)\n",
        "X_test_trans= X_test_trans.reshape (-1, 28, 28, 3)\n",
        "\n",
        "X_train_trans = np.asarray([img_to_array(array_to_img(im, scale=False).resize((48,48))) for im in X_train_trans])\n",
        "X_test_trans = np.asarray([img_to_array(array_to_img(im, scale=False).resize((48,48))) for im in X_test_trans])\n",
        "\n",
        "X_train_trans /= 255\n",
        "X_test_trans /= 255\n",
        "\n",
        "X_train_trans = X_train_trans.astype('float32')\n",
        "X_test_trans = X_test_trans.astype('float32')\n",
        "\n",
        "Y_train_trans = np_utils.to_categorical(Y_train, 10)\n",
        "Y_test_trans = np_utils.to_categorical(Y_test, 10)"
      ],
      "execution_count": 0,
      "outputs": []
    },
    {
      "metadata": {
        "id": "6SiKAweI-XmG",
        "colab_type": "code",
        "colab": {}
      },
      "cell_type": "code",
      "source": [
        "from sklearn.model_selection import train_test_split\n",
        "train_X, valid_X, train_label, valid_label = train_test_split(X_train_trans,\n",
        "                                                           Y_train_trans,\n",
        "                                                           test_size=0.2,\n",
        "                                                           random_state=13\n",
        "                                                           )\n",
        "train_X = preprocess_input(train_X)\n",
        "valid_X = preprocess_input(valid_X)\n",
        "test_X  = preprocess_input (X_test_trans)"
      ],
      "execution_count": 0,
      "outputs": []
    },
    {
      "metadata": {
        "id": "kS1VAkX5-zts",
        "colab_type": "code",
        "outputId": "71222d39-3df5-42d3-fe2c-72db85dffdcb",
        "colab": {
          "base_uri": "https://localhost:8080/",
          "height": 34
        }
      },
      "cell_type": "code",
      "source": [
        "train_X.shape, valid_X.shape, train_label.shape, valid_label.shape"
      ],
      "execution_count": 0,
      "outputs": [
        {
          "output_type": "execute_result",
          "data": {
            "text/plain": [
              "((48000, 48, 48, 3), (12000, 48, 48, 3), (48000, 10), (12000, 10))"
            ]
          },
          "metadata": {
            "tags": []
          },
          "execution_count": 9
        }
      ]
    },
    {
      "metadata": {
        "id": "phNS54wZCN17",
        "colab_type": "code",
        "colab": {}
      },
      "cell_type": "code",
      "source": [
        "IMG_WIDTH = 48\n",
        "IMG_HEIGHT = 48\n",
        "IMG_DEPTH = 3\n",
        "BATCH_SIZE = 16"
      ],
      "execution_count": 0,
      "outputs": []
    },
    {
      "metadata": {
        "id": "FjBJCiwZ_EM4",
        "colab_type": "code",
        "outputId": "324dc8fa-3ce4-4ff5-d217-435ccfb20664",
        "colab": {
          "base_uri": "https://localhost:8080/",
          "height": 68
        }
      },
      "cell_type": "code",
      "source": [
        "from keras.applications import VGG16\n",
        "from keras import optimizers\n",
        "conv_base = VGG16(weights = \"imagenet\", include_top = False, input_shape = (48, 48, 3))\n",
        "# Extracting features\n",
        "train_features = conv_base.predict(np.array(train_X), batch_size = BATCH_SIZE, verbose = 1)\n",
        "test_features = conv_base.predict(np.array(test_X), batch_size = BATCH_SIZE, verbose = 1)\n",
        "val_features = conv_base.predict(np.array(valid_X), batch_size = BATCH_SIZE, verbose = 1)"
      ],
      "execution_count": 0,
      "outputs": [
        {
          "output_type": "stream",
          "text": [
            "48000/48000 [==============================] - 53s 1ms/step\n",
            "10000/10000 [==============================] - 11s 1ms/step\n",
            "12000/12000 [==============================] - 13s 1ms/step\n"
          ],
          "name": "stdout"
        }
      ]
    },
    {
      "metadata": {
        "id": "i-t8GdWL_RGG",
        "colab_type": "code",
        "colab": {}
      },
      "cell_type": "code",
      "source": [
        "# Flatten extracted features\n",
        "train_features_flat = np.reshape(train_features, (48000, 1*1*512))\n",
        "test_features_flat = np.reshape(test_features, (10000, 1*1*512))\n",
        "val_features_flat = np.reshape(val_features, (12000, 1*1*512))"
      ],
      "execution_count": 0,
      "outputs": []
    },
    {
      "metadata": {
        "id": "1oVVEVffHq_Z",
        "colab_type": "code",
        "colab": {}
      },
      "cell_type": "code",
      "source": [
        "# 7.0 Define the densely connected classifier followed by leakyrelu layer and finally dense layer for the number of classes\n",
        "NB_TRAIN_SAMPLES = train_features_flat.shape[0]\n",
        "NB_VALIDATION_SAMPLES = val_features_flat.shape[0]\n",
        "NB_EPOCHS = 100\n",
        "\n",
        "model = models.Sequential()\n",
        "\n",
        "first_dense = layers.Dense(512, activation='relu', input_dim=(1*1*512))\n",
        "first_dense.trainable = False\n",
        "model.add(first_dense)\n",
        "\n",
        "relu_layer = layers.LeakyReLU(alpha=0.1)\n",
        "relu_layer.trainable = False\n",
        "model.add(relu_layer)\n",
        "\n",
        "model.add(layers.Dense(10, activation='softmax'))"
      ],
      "execution_count": 0,
      "outputs": []
    },
    {
      "metadata": {
        "id": "aDYkYmA6Hr1B",
        "colab_type": "code",
        "colab": {}
      },
      "cell_type": "code",
      "source": [
        "# Compile the model.\n",
        "model.compile(\n",
        "    loss='categorical_crossentropy',\n",
        "    optimizer=optimizers.Adam(),\n",
        "  # optimizer=optimizers.RMSprop(lr=2e-5),\n",
        "    metrics=['acc'])"
      ],
      "execution_count": 0,
      "outputs": []
    },
    {
      "metadata": {
        "id": "zyls6OWgQrLg",
        "colab_type": "code",
        "colab": {}
      },
      "cell_type": "code",
      "source": [
        "# Incorporating reduced learning and early stopping for callback\n",
        "reduce_learning = callbacks.ReduceLROnPlateau(\n",
        "    monitor='val_loss',\n",
        "    factor=0.2,\n",
        "    patience=2,\n",
        "    verbose=1,\n",
        "    mode='auto',\n",
        "    epsilon=0.0001,\n",
        "    cooldown=2,\n",
        "    min_lr=0)\n",
        "\n",
        "eary_stopping = callbacks.EarlyStopping(\n",
        "    monitor='val_loss',\n",
        "    min_delta=0,\n",
        "    patience=7,\n",
        "    verbose=1,\n",
        "    mode='auto')\n",
        "\n",
        "callbacks = [reduce_learning, eary_stopping]"
      ],
      "execution_count": 0,
      "outputs": []
    },
    {
      "metadata": {
        "id": "M0-UlW86Hxsb",
        "colab_type": "code",
        "outputId": "90b84c7d-74a5-4ded-c31a-f87b16aab9d5",
        "colab": {
          "base_uri": "https://localhost:8080/",
          "height": 1513
        }
      },
      "cell_type": "code",
      "source": [
        "model_trans = model.fit(\n",
        "    train_features_flat,\n",
        "    train_label,\n",
        "    epochs=200,\n",
        "    validation_data=(val_features_flat, valid_label),\n",
        "    verbose = 1,\n",
        "    callbacks=callbacks\n",
        ")"
      ],
      "execution_count": 0,
      "outputs": [
        {
          "output_type": "stream",
          "text": [
            "Train on 48000 samples, validate on 12000 samples\n",
            "Epoch 1/200\n",
            "48000/48000 [==============================] - 10s 213us/step - loss: 0.8392 - acc: 0.6975 - val_loss: 0.9302 - val_acc: 0.6452\n",
            "Epoch 2/200\n",
            "48000/48000 [==============================] - 10s 209us/step - loss: 0.8440 - acc: 0.6946 - val_loss: 0.8942 - val_acc: 0.6803\n",
            "Epoch 3/200\n",
            "48000/48000 [==============================] - 10s 208us/step - loss: 0.8406 - acc: 0.6973 - val_loss: 0.8502 - val_acc: 0.6974\n",
            "Epoch 4/200\n",
            "48000/48000 [==============================] - 10s 203us/step - loss: 0.8389 - acc: 0.6960 - val_loss: 0.8455 - val_acc: 0.6992\n",
            "Epoch 5/200\n",
            "48000/48000 [==============================] - 10s 203us/step - loss: 0.8343 - acc: 0.6976 - val_loss: 0.8222 - val_acc: 0.7062\n",
            "Epoch 6/200\n",
            "48000/48000 [==============================] - 9s 191us/step - loss: 0.8383 - acc: 0.6982 - val_loss: 0.8215 - val_acc: 0.7039\n",
            "Epoch 7/200\n",
            "48000/48000 [==============================] - 9s 192us/step - loss: 0.8374 - acc: 0.6976 - val_loss: 0.8126 - val_acc: 0.7154\n",
            "Epoch 8/200\n",
            "48000/48000 [==============================] - 9s 195us/step - loss: 0.8338 - acc: 0.6994 - val_loss: 0.9043 - val_acc: 0.6669\n",
            "Epoch 9/200\n",
            "48000/48000 [==============================] - 9s 193us/step - loss: 0.8325 - acc: 0.6984 - val_loss: 0.8492 - val_acc: 0.7040\n",
            "Epoch 10/200\n",
            "47872/48000 [============================>.] - ETA: 0s - loss: 0.8399 - acc: 0.6975\n",
            "Epoch 00010: reducing learning rate to 0.00020000000949949026.\n",
            "48000/48000 [==============================] - 9s 193us/step - loss: 0.8403 - acc: 0.6975 - val_loss: 0.9250 - val_acc: 0.7001\n",
            "Epoch 11/200\n",
            "48000/48000 [==============================] - 9s 190us/step - loss: 0.7782 - acc: 0.7228 - val_loss: 0.7889 - val_acc: 0.7231\n",
            "Epoch 12/200\n",
            "48000/48000 [==============================] - 9s 188us/step - loss: 0.7777 - acc: 0.7233 - val_loss: 0.7975 - val_acc: 0.7117\n",
            "Epoch 13/200\n",
            "48000/48000 [==============================] - 9s 192us/step - loss: 0.7780 - acc: 0.7235 - val_loss: 0.7793 - val_acc: 0.7276\n",
            "Epoch 14/200\n",
            "48000/48000 [==============================] - 9s 193us/step - loss: 0.7780 - acc: 0.7232 - val_loss: 0.7850 - val_acc: 0.7210\n",
            "Epoch 15/200\n",
            "48000/48000 [==============================] - 9s 194us/step - loss: 0.7800 - acc: 0.7198 - val_loss: 0.7830 - val_acc: 0.7192\n",
            "Epoch 16/200\n",
            "47808/48000 [============================>.] - ETA: 0s - loss: 0.7767 - acc: 0.7239\n",
            "Epoch 00016: reducing learning rate to 4.0000001899898055e-05.\n",
            "48000/48000 [==============================] - 9s 193us/step - loss: 0.7773 - acc: 0.7239 - val_loss: 0.7921 - val_acc: 0.7211\n",
            "Epoch 17/200\n",
            "48000/48000 [==============================] - 9s 192us/step - loss: 0.7657 - acc: 0.7298 - val_loss: 0.7780 - val_acc: 0.7254\n",
            "Epoch 18/200\n",
            "48000/48000 [==============================] - 10s 200us/step - loss: 0.7656 - acc: 0.7290 - val_loss: 0.7779 - val_acc: 0.7274\n",
            "Epoch 19/200\n",
            "48000/48000 [==============================] - 9s 193us/step - loss: 0.7657 - acc: 0.7286 - val_loss: 0.7775 - val_acc: 0.7279\n",
            "Epoch 20/200\n",
            "48000/48000 [==============================] - 9s 194us/step - loss: 0.7656 - acc: 0.7291 - val_loss: 0.7783 - val_acc: 0.7265\n",
            "Epoch 21/200\n",
            "48000/48000 [==============================] - 9s 194us/step - loss: 0.7657 - acc: 0.7286 - val_loss: 0.7751 - val_acc: 0.7268\n",
            "Epoch 22/200\n",
            "48000/48000 [==============================] - 9s 194us/step - loss: 0.7653 - acc: 0.7299 - val_loss: 0.7772 - val_acc: 0.7291\n",
            "Epoch 23/200\n",
            "48000/48000 [==============================] - 9s 194us/step - loss: 0.7655 - acc: 0.7296 - val_loss: 0.7777 - val_acc: 0.7250\n",
            "Epoch 24/200\n",
            "47936/48000 [============================>.] - ETA: 0s - loss: 0.7659 - acc: 0.7291\n",
            "Epoch 00024: reducing learning rate to 8.000000525498762e-06.\n",
            "48000/48000 [==============================] - 9s 194us/step - loss: 0.7657 - acc: 0.7291 - val_loss: 0.7766 - val_acc: 0.7253\n",
            "Epoch 25/200\n",
            "48000/48000 [==============================] - 9s 195us/step - loss: 0.7630 - acc: 0.7304 - val_loss: 0.7742 - val_acc: 0.7281\n",
            "Epoch 26/200\n",
            "48000/48000 [==============================] - 9s 193us/step - loss: 0.7628 - acc: 0.7302 - val_loss: 0.7740 - val_acc: 0.7281\n",
            "Epoch 27/200\n",
            "48000/48000 [==============================] - 9s 192us/step - loss: 0.7629 - acc: 0.7296 - val_loss: 0.7740 - val_acc: 0.7280\n",
            "Epoch 28/200\n",
            "48000/48000 [==============================] - 9s 195us/step - loss: 0.7628 - acc: 0.7305 - val_loss: 0.7747 - val_acc: 0.7281\n",
            "Epoch 29/200\n",
            "47744/48000 [============================>.] - ETA: 0s - loss: 0.7628 - acc: 0.7301\n",
            "Epoch 00029: reducing learning rate to 1.6000001778593287e-06.\n",
            "48000/48000 [==============================] - 9s 195us/step - loss: 0.7629 - acc: 0.7301 - val_loss: 0.7740 - val_acc: 0.7270\n",
            "Epoch 30/200\n",
            "48000/48000 [==============================] - 9s 194us/step - loss: 0.7624 - acc: 0.7302 - val_loss: 0.7736 - val_acc: 0.7287\n",
            "Epoch 31/200\n",
            "48000/48000 [==============================] - 9s 195us/step - loss: 0.7623 - acc: 0.7305 - val_loss: 0.7737 - val_acc: 0.7284\n",
            "Epoch 32/200\n",
            "48000/48000 [==============================] - 9s 193us/step - loss: 0.7622 - acc: 0.7306 - val_loss: 0.7737 - val_acc: 0.7279\n",
            "Epoch 33/200\n",
            "47872/48000 [============================>.] - ETA: 0s - loss: 0.7621 - acc: 0.7307\n",
            "Epoch 00033: reducing learning rate to 3.200000264769187e-07.\n",
            "48000/48000 [==============================] - 9s 192us/step - loss: 0.7623 - acc: 0.7307 - val_loss: 0.7738 - val_acc: 0.7285\n",
            "Epoch 34/200\n",
            "48000/48000 [==============================] - 10s 205us/step - loss: 0.7622 - acc: 0.7308 - val_loss: 0.7737 - val_acc: 0.7283\n",
            "Epoch 35/200\n",
            "48000/48000 [==============================] - 9s 189us/step - loss: 0.7621 - acc: 0.7307 - val_loss: 0.7736 - val_acc: 0.7285\n",
            "Epoch 36/200\n",
            "48000/48000 [==============================] - 9s 191us/step - loss: 0.7621 - acc: 0.7306 - val_loss: 0.7736 - val_acc: 0.7285\n",
            "Epoch 37/200\n",
            "47904/48000 [============================>.] - ETA: 0s - loss: 0.7621 - acc: 0.7306\n",
            "Epoch 00037: reducing learning rate to 6.400000529538374e-08.\n",
            "48000/48000 [==============================] - 9s 190us/step - loss: 0.7621 - acc: 0.7306 - val_loss: 0.7736 - val_acc: 0.7284\n",
            "Epoch 00037: early stopping\n"
          ],
          "name": "stdout"
        }
      ]
    },
    {
      "metadata": {
        "id": "j2A9Bvap4Mer",
        "colab_type": "text"
      },
      "cell_type": "markdown",
      "source": [
        "# 3. Text Classification\n",
        "\n",
        "Inspiration: https://github.com/incertum/cyber-matrix-ai/tree/master/Malicious-URL-Detection-Deep-Learning\n",
        "\n",
        "About how to use Keras's Tokenizer funciton: https://github.com/rstudio/keras/issues/336\n",
        "\n",
        "About how to use Keras's pad_sequence function: https://machinelearningmastery.com/data-preparation-variable-length-input-sequences-sequence-prediction/\n",
        "\n",
        "About 1D CNN: https://machinelearningmastery.com/cnn-models-for-human-activity-recognition-time-series-classification/"
      ]
    },
    {
      "metadata": {
        "id": "FPIEUKcQACOo",
        "colab_type": "text"
      },
      "cell_type": "markdown",
      "source": [
        "##  3.1    RNN"
      ]
    },
    {
      "metadata": {
        "id": "ZTTVazUMH9c8",
        "colab_type": "code",
        "colab": {}
      },
      "cell_type": "code",
      "source": [
        "benign_url = \"https://s3.amazonaws.com/anly-590/url-classification/benign-urls.txt\"\n",
        "benign = requests.get(benign_url).content.decode('utf-8').split('\\n')\n",
        "\n",
        "bad_url = \"https://s3.amazonaws.com/anly-590/url-classification/malicious-urls.txt\"\n",
        "bad = requests.get(bad_url).content.decode('utf-8').split('\\n')"
      ],
      "execution_count": 0,
      "outputs": []
    },
    {
      "metadata": {
        "id": "Sa04VxWkFAUW",
        "colab_type": "code",
        "outputId": "f5ecfaa1-9ec2-4907-8614-7de9c2290c83",
        "colab": {
          "base_uri": "https://localhost:8080/",
          "height": 34
        }
      },
      "cell_type": "code",
      "source": [
        "len(benign)"
      ],
      "execution_count": 0,
      "outputs": [
        {
          "output_type": "execute_result",
          "data": {
            "text/plain": [
              "66057"
            ]
          },
          "metadata": {
            "tags": []
          },
          "execution_count": 171
        }
      ]
    },
    {
      "metadata": {
        "id": "TIbreFq2Zmme",
        "colab_type": "code",
        "outputId": "f4177a28-1285-4714-f47a-c0a782ec88a2",
        "colab": {
          "base_uri": "https://localhost:8080/",
          "height": 34
        }
      },
      "cell_type": "code",
      "source": [
        "len(bad)"
      ],
      "execution_count": 0,
      "outputs": [
        {
          "output_type": "execute_result",
          "data": {
            "text/plain": [
              "1297"
            ]
          },
          "metadata": {
            "tags": []
          },
          "execution_count": 172
        }
      ]
    },
    {
      "metadata": {
        "id": "xQWbh3yvpvg2",
        "colab_type": "text"
      },
      "cell_type": "markdown",
      "source": [
        "This is a very imbalanced dataset. Down sample Benign url set to keep same length with bad url set."
      ]
    },
    {
      "metadata": {
        "id": "LDfB59dgakkM",
        "colab_type": "code",
        "outputId": "c298b6f4-3e99-47e4-e085-1417b613e270",
        "colab": {
          "base_uri": "https://localhost:8080/",
          "height": 34
        }
      },
      "cell_type": "code",
      "source": [
        "import random\n",
        "random.seed(1120)  \n",
        "benign_train = random.sample(benign, len(bad))\n",
        "bad_train = bad\n",
        "train = benign_train + bad_train\n",
        "lable = np.array([1] * len(bad) + [0] * len(bad))\n",
        "print(len(train), len(lable))"
      ],
      "execution_count": 0,
      "outputs": [
        {
          "output_type": "stream",
          "text": [
            "2594 2594\n"
          ],
          "name": "stdout"
        }
      ]
    },
    {
      "metadata": {
        "id": "KfPi7qtVz7fc",
        "colab_type": "code",
        "outputId": "7ec35927-beb6-437c-d1f8-e4c139eefec6",
        "colab": {
          "base_uri": "https://localhost:8080/",
          "height": 398
        }
      },
      "cell_type": "code",
      "source": [
        "plt.hist([len(i) for i in train])"
      ],
      "execution_count": 0,
      "outputs": [
        {
          "output_type": "execute_result",
          "data": {
            "text/plain": [
              "(array([126., 938., 531., 696., 185.,  91.,  22.,   1.,   2.,   2.]),\n",
              " array([ 0. ,  8.6, 17.2, 25.8, 34.4, 43. , 51.6, 60.2, 68.8, 77.4, 86. ]),\n",
              " <a list of 10 Patch objects>)"
            ]
          },
          "metadata": {
            "tags": []
          },
          "execution_count": 174
        },
        {
          "output_type": "display_data",
          "data": {
            "image/png": "[encoded data removed]",
            "text/plain": [
              "<matplotlib.figure.Figure at 0x7fba30610550>"
            ]
          },
          "metadata": {
            "tags": []
          }
        }
      ]
    },
    {
      "metadata": {
        "id": "cwXIETC7cAdL",
        "colab_type": "code",
        "colab": {}
      },
      "cell_type": "code",
      "source": [
        "from keras.preprocessing.sequence import pad_sequences\n",
        "from keras.preprocessing.text import Tokenizer\n",
        "tokenizer = Tokenizer(char_level=True)\n",
        "tokenizer.fit_on_texts(train)\n",
        "sequences = tokenizer.texts_to_sequences(train)\n",
        "maxlen = max([len(i) for i in train])\n",
        "train_padseq = pad_sequences(sequences, maxlen = maxlen) "
      ],
      "execution_count": 0,
      "outputs": []
    },
    {
      "metadata": {
        "id": "I5oLjy-Hc5Rb",
        "colab_type": "code",
        "colab": {}
      },
      "cell_type": "code",
      "source": [
        "import numpy as np\n",
        "from sklearn.model_selection import train_test_split\n",
        "X_train, X_test, y_train, y_test = train_test_split(train_padseq, lable, test_size=0.2, random_state=42)"
      ],
      "execution_count": 0,
      "outputs": []
    },
    {
      "metadata": {
        "id": "y4odYg0TdPbe",
        "colab_type": "code",
        "outputId": "9db9d858-43b7-4380-d1d5-9db633491df9",
        "colab": {
          "base_uri": "https://localhost:8080/",
          "height": 34
        }
      },
      "cell_type": "code",
      "source": [
        "X_train.shape, y_train.shape, X_test.shape, y_test.shape"
      ],
      "execution_count": 0,
      "outputs": [
        {
          "output_type": "execute_result",
          "data": {
            "text/plain": [
              "((2075, 86), (2075,), (519, 86), (519,))"
            ]
          },
          "metadata": {
            "tags": []
          },
          "execution_count": 177
        }
      ]
    },
    {
      "metadata": {
        "id": "Ux8NF0rZP_wy",
        "colab_type": "code",
        "colab": {}
      },
      "cell_type": "code",
      "source": [
        "num_char = len(tokenizer.word_index)"
      ],
      "execution_count": 0,
      "outputs": []
    },
    {
      "metadata": {
        "id": "vxsQgxXWdRjw",
        "colab_type": "code",
        "outputId": "4811cf55-dcf1-47fd-d74e-9090d6e06a71",
        "colab": {
          "base_uri": "https://localhost:8080/",
          "height": 1734
        }
      },
      "cell_type": "code",
      "source": [
        "from keras.preprocessing import sequence\n",
        "from keras.layers import Dense, SimpleRNN, LSTM, Embedding\n",
        "rnn_model = Sequential()\n",
        "rnn_model.add(Embedding(50, 64))\n",
        "rnn_model.add(SimpleRNN(32))\n",
        "rnn_model.add(Dense(1, activation='sigmoid'))\n",
        "\n",
        "rnn_model.compile(optimizer=\"rmsprop\", loss=\"binary_crossentropy\", metrics=[\"acc\"])\n",
        "\n",
        "rnn_model.fit(X_train, y_train, epochs=50, batch_size=256, verbose = 1)"
      ],
      "execution_count": 0,
      "outputs": [
        {
          "output_type": "stream",
          "text": [
            "Epoch 1/50\n",
            "2075/2075 [==============================] - 1s 462us/step - loss: 0.6155 - acc: 0.6848\n",
            "Epoch 2/50\n",
            "2075/2075 [==============================] - 0s 219us/step - loss: 0.5118 - acc: 0.8048\n",
            "Epoch 3/50\n",
            "2075/2075 [==============================] - 1s 249us/step - loss: 0.4512 - acc: 0.8260\n",
            "Epoch 4/50\n",
            "2075/2075 [==============================] - 1s 254us/step - loss: 0.4282 - acc: 0.8270\n",
            "Epoch 5/50\n",
            "2075/2075 [==============================] - 1s 243us/step - loss: 0.3750 - acc: 0.8636\n",
            "Epoch 6/50\n",
            "2075/2075 [==============================] - 1s 250us/step - loss: 0.3452 - acc: 0.8766\n",
            "Epoch 7/50\n",
            "2075/2075 [==============================] - 1s 251us/step - loss: 0.3193 - acc: 0.8853\n",
            "Epoch 8/50\n",
            "2075/2075 [==============================] - 1s 252us/step - loss: 0.3015 - acc: 0.8867\n",
            "Epoch 9/50\n",
            "2075/2075 [==============================] - 1s 247us/step - loss: 0.3118 - acc: 0.8795\n",
            "Epoch 10/50\n",
            "2075/2075 [==============================] - 1s 250us/step - loss: 0.2724 - acc: 0.9099\n",
            "Epoch 11/50\n",
            "2075/2075 [==============================] - 1s 249us/step - loss: 0.2484 - acc: 0.9157\n",
            "Epoch 12/50\n",
            "2075/2075 [==============================] - 1s 252us/step - loss: 0.2325 - acc: 0.9219\n",
            "Epoch 13/50\n",
            "2075/2075 [==============================] - 1s 247us/step - loss: 0.2387 - acc: 0.9224\n",
            "Epoch 14/50\n",
            "2075/2075 [==============================] - 1s 253us/step - loss: 0.2242 - acc: 0.9267\n",
            "Epoch 15/50\n",
            "2075/2075 [==============================] - 1s 250us/step - loss: 0.1973 - acc: 0.9412\n",
            "Epoch 16/50\n",
            "2075/2075 [==============================] - 1s 255us/step - loss: 0.1874 - acc: 0.9398\n",
            "Epoch 17/50\n",
            "2075/2075 [==============================] - 1s 248us/step - loss: 0.2290 - acc: 0.9094\n",
            "Epoch 18/50\n",
            "2075/2075 [==============================] - 1s 247us/step - loss: 0.1774 - acc: 0.9451\n",
            "Epoch 19/50\n",
            "2075/2075 [==============================] - 1s 247us/step - loss: 0.1665 - acc: 0.9484\n",
            "Epoch 20/50\n",
            "2075/2075 [==============================] - 1s 253us/step - loss: 0.1677 - acc: 0.9489\n",
            "Epoch 21/50\n",
            "2075/2075 [==============================] - 1s 249us/step - loss: 0.1618 - acc: 0.9484\n",
            "Epoch 22/50\n",
            "2075/2075 [==============================] - 1s 253us/step - loss: 0.1625 - acc: 0.9465\n",
            "Epoch 23/50\n",
            "2075/2075 [==============================] - 1s 247us/step - loss: 0.1440 - acc: 0.9590\n",
            "Epoch 24/50\n",
            "2075/2075 [==============================] - 1s 257us/step - loss: 0.1297 - acc: 0.9653\n",
            "Epoch 25/50\n",
            "2075/2075 [==============================] - 1s 248us/step - loss: 0.1337 - acc: 0.9619\n",
            "Epoch 26/50\n",
            "2075/2075 [==============================] - 1s 250us/step - loss: 0.1635 - acc: 0.9412\n",
            "Epoch 27/50\n",
            "2075/2075 [==============================] - 1s 249us/step - loss: 0.1160 - acc: 0.9692\n",
            "Epoch 28/50\n",
            "2075/2075 [==============================] - 1s 248us/step - loss: 0.1293 - acc: 0.9663\n",
            "Epoch 29/50\n",
            "2075/2075 [==============================] - 1s 247us/step - loss: 0.1107 - acc: 0.9730\n",
            "Epoch 30/50\n",
            "2075/2075 [==============================] - 1s 247us/step - loss: 0.1267 - acc: 0.9658\n",
            "Epoch 31/50\n",
            "2075/2075 [==============================] - 1s 246us/step - loss: 0.1174 - acc: 0.9672\n",
            "Epoch 32/50\n",
            "2075/2075 [==============================] - 1s 248us/step - loss: 0.0935 - acc: 0.9793\n",
            "Epoch 33/50\n",
            "2075/2075 [==============================] - 1s 249us/step - loss: 0.0906 - acc: 0.9783\n",
            "Epoch 34/50\n",
            "2075/2075 [==============================] - 1s 251us/step - loss: 0.1952 - acc: 0.9248\n",
            "Epoch 35/50\n",
            "2075/2075 [==============================] - 1s 247us/step - loss: 0.0901 - acc: 0.9783\n",
            "Epoch 36/50\n",
            "2075/2075 [==============================] - 1s 252us/step - loss: 0.0990 - acc: 0.9740\n",
            "Epoch 37/50\n",
            "2075/2075 [==============================] - 1s 250us/step - loss: 0.0798 - acc: 0.9831\n",
            "Epoch 38/50\n",
            "2075/2075 [==============================] - 1s 253us/step - loss: 0.1445 - acc: 0.9513\n",
            "Epoch 39/50\n",
            "2075/2075 [==============================] - 1s 252us/step - loss: 0.0757 - acc: 0.9836\n",
            "Epoch 40/50\n",
            "2075/2075 [==============================] - 1s 258us/step - loss: 0.0752 - acc: 0.9841\n",
            "Epoch 41/50\n",
            "2075/2075 [==============================] - 1s 250us/step - loss: 0.0767 - acc: 0.9855\n",
            "Epoch 42/50\n",
            "2075/2075 [==============================] - 1s 254us/step - loss: 0.0697 - acc: 0.9860\n",
            "Epoch 43/50\n",
            "2075/2075 [==============================] - 1s 249us/step - loss: 0.0662 - acc: 0.9870\n",
            "Epoch 44/50\n",
            "2075/2075 [==============================] - 1s 252us/step - loss: 0.1048 - acc: 0.9716\n",
            "Epoch 45/50\n",
            "2075/2075 [==============================] - 1s 248us/step - loss: 0.0675 - acc: 0.9846\n",
            "Epoch 46/50\n",
            "2075/2075 [==============================] - 1s 256us/step - loss: 0.0687 - acc: 0.9831\n",
            "Epoch 47/50\n",
            "2075/2075 [==============================] - 1s 250us/step - loss: 0.0647 - acc: 0.9865\n",
            "Epoch 48/50\n",
            "2075/2075 [==============================] - 1s 254us/step - loss: 0.0512 - acc: 0.9894\n",
            "Epoch 49/50\n",
            "2075/2075 [==============================] - 1s 247us/step - loss: 0.1198 - acc: 0.9614\n",
            "Epoch 50/50\n",
            "2075/2075 [==============================] - 1s 255us/step - loss: 0.0628 - acc: 0.9851\n"
          ],
          "name": "stdout"
        },
        {
          "output_type": "execute_result",
          "data": {
            "text/plain": [
              "<keras.callbacks.History at 0x7fba30b8beb8>"
            ]
          },
          "metadata": {
            "tags": []
          },
          "execution_count": 179
        }
      ]
    },
    {
      "metadata": {
        "id": "EQvv99v4dxs_",
        "colab_type": "code",
        "outputId": "90c24fa2-f94e-4084-ce3e-dd6ac266c6ed",
        "colab": {
          "base_uri": "https://localhost:8080/",
          "height": 51
        }
      },
      "cell_type": "code",
      "source": [
        "from sklearn.metrics import roc_curve\n",
        "rnn_model.evaluate(X_test, y_test) #98% accuracy, pretty good. "
      ],
      "execution_count": 0,
      "outputs": [
        {
          "output_type": "stream",
          "text": [
            "519/519 [==============================] - 0s 841us/step\n"
          ],
          "name": "stdout"
        },
        {
          "output_type": "execute_result",
          "data": {
            "text/plain": [
              "[0.07764389887021456, 0.9865125241996235]"
            ]
          },
          "metadata": {
            "tags": []
          },
          "execution_count": 180
        }
      ]
    },
    {
      "metadata": {
        "id": "yCD17OdwkXln",
        "colab_type": "code",
        "outputId": "253ed6b0-9b55-4905-97c6-820d6907d95b",
        "colab": {
          "base_uri": "https://localhost:8080/",
          "height": 347
        }
      },
      "cell_type": "code",
      "source": [
        "pred_rnn = rnn_model.predict(X_test)\n",
        "fpr, tpr, thresholds = roc_curve(y_test, pred_rnn)\n",
        "plt.plot(fpr, tpr)\n",
        "plt.show() "
      ],
      "execution_count": 0,
      "outputs": [
        {
          "output_type": "display_data",
          "data": {
            "image/png": "[encoded data removed]",
            "text/plain": [
              "<matplotlib.figure.Figure at 0x7fba30b59da0>"
            ]
          },
          "metadata": {
            "tags": []
          }
        }
      ]
    },
    {
      "metadata": {
        "id": "ZSuohC1_4KBs",
        "colab_type": "code",
        "outputId": "39013b19-eed9-42c6-a0e6-2b2d52b7d304",
        "colab": {
          "base_uri": "https://localhost:8080/",
          "height": 34
        }
      },
      "cell_type": "code",
      "source": [
        "from sklearn import metrics\n",
        "print(\"For RNN the AUC is: \" + str(round(metrics.auc(fpr, tpr),2)))"
      ],
      "execution_count": 0,
      "outputs": [
        {
          "output_type": "stream",
          "text": [
            "For RNN the AUC is: 0.99\n"
          ],
          "name": "stdout"
        }
      ]
    },
    {
      "metadata": {
        "id": "9TWhXOrC7wJK",
        "colab_type": "text"
      },
      "cell_type": "markdown",
      "source": [
        "Very good performance on RNN."
      ]
    },
    {
      "metadata": {
        "id": "6iPE7HEgouD9",
        "colab_type": "text"
      },
      "cell_type": "markdown",
      "source": [
        "## 3.2 CNN 1D\n",
        "\n",
        "Data Prep into 3d for CNN: http://debajyotidatta.github.io/nlp/deep/learning/word-embeddings/2016/11/27/Understanding-Convolutions-In-Text/\n",
        "\n",
        "Use method in paper: https://richliao.github.io/supervised/classification/2016/11/26/textclassifier-convolutional/"
      ]
    },
    {
      "metadata": {
        "id": "bncy6CEvnRDH",
        "colab_type": "code",
        "outputId": "feb1ac05-9389-4683-bc44-b3fc5b200f86",
        "colab": {
          "base_uri": "https://localhost:8080/",
          "height": 204
        }
      },
      "cell_type": "code",
      "source": [
        "#our data:\n",
        "train[:10], lable[:10]"
      ],
      "execution_count": 0,
      "outputs": [
        {
          "output_type": "execute_result",
          "data": {
            "text/plain": [
              "(['.r8---sn-q4f7snly.googlevideo.com',\n",
              "  '.ca-systest6045.us.oracle.com',\n",
              "  '.r13---sn-4g57kned.googlevideo.com',\n",
              "  '.mts.google.com',\n",
              "  '.baymsg1010823.gateway.edge.messenger.live.com',\n",
              "  '.sharepointppe.partners.extranet.microsoft.com',\n",
              "  '.accoun.microsoft.com',\n",
              "  '.gcaapp.iad2.secureserver.net',\n",
              "  '.b2bapisit2.partners.extranet.microsoft.com',\n",
              "  '.cgbusvn.us.oracle.com'],\n",
              " array([1, 1, 1, 1, 1, 1, 1, 1, 1, 1]))"
            ]
          },
          "metadata": {
            "tags": []
          },
          "execution_count": 119
        }
      ]
    },
    {
      "metadata": {
        "id": "nODSAe-0ecZU",
        "colab_type": "text"
      },
      "cell_type": "markdown",
      "source": [
        "Since CNN1D only adapt 3d input, we have to convert our input into a 3d tensor, unlike with RNN a 2d matrix\n",
        "\n",
        "Model input shape:\n",
        "\n",
        "RNN: num_url x padded_maxlen\n",
        "\n",
        "CNN1D: num_url x padded_maxlen x num_chars (This is just the one-hot encoding by all unique characters in all training urls.)"
      ]
    },
    {
      "metadata": {
        "id": "nHAtiMhjYngf",
        "colab_type": "code",
        "outputId": "b4247ab4-61d8-433c-e0c5-0db3df792182",
        "colab": {
          "base_uri": "https://localhost:8080/",
          "height": 34
        }
      },
      "cell_type": "code",
      "source": [
        "txt = ''\n",
        "for doc in train: #concatinate all benign/bad urls into one string\n",
        "    for s in doc:\n",
        "        txt += s\n",
        "chars = set(txt)\n",
        "vocab_size = len(chars)\n",
        "print('total chars:', len(chars))\n",
        "char_indices = dict((c, i) for i, c in enumerate(chars))\n",
        "indices_char = dict((i, c) for i, c in enumerate(chars))"
      ],
      "execution_count": 0,
      "outputs": [
        {
          "output_type": "stream",
          "text": [
            "total chars: 63\n"
          ],
          "name": "stdout"
        }
      ]
    },
    {
      "metadata": {
        "id": "i_hfvTfwYnjd",
        "colab_type": "code",
        "colab": {}
      },
      "cell_type": "code",
      "source": [
        "from keras.utils import to_categorical\n",
        "def vectorize_sentences(train, char_indices):\n",
        "    X = []\n",
        "    for url in train:\n",
        "        x = [char_indices[w] for w in url]\n",
        "        x2 = np.eye(len(char_indices))[x]\n",
        "        X.append(x2)\n",
        "    return (pad_sequences(X))\n",
        "\n",
        "train_data = vectorize_sentences(train, char_indices)\n",
        "X_train_cnn1d, X_test_cnn1d, y_train_cnn1d, y_test_cnn1d = train_test_split(train_data, lable, test_size=0.2, random_state=42)"
      ],
      "execution_count": 0,
      "outputs": []
    },
    {
      "metadata": {
        "id": "KiwMt-Z7Ynmn",
        "colab_type": "code",
        "outputId": "4c945d95-35f7-4560-e078-7fd827eee7f5",
        "colab": {
          "base_uri": "https://localhost:8080/",
          "height": 34
        }
      },
      "cell_type": "code",
      "source": [
        "X_train_cnn1d.shape #looking good!"
      ],
      "execution_count": 0,
      "outputs": [
        {
          "output_type": "execute_result",
          "data": {
            "text/plain": [
              "(2075, 86, 63)"
            ]
          },
          "metadata": {
            "tags": []
          },
          "execution_count": 149
        }
      ]
    },
    {
      "metadata": {
        "id": "fQJ6YPYqb-oU",
        "colab_type": "code",
        "outputId": "a7ba82ff-c75f-45cc-e9c2-49d65c12e492",
        "colab": {
          "base_uri": "https://localhost:8080/",
          "height": 34
        }
      },
      "cell_type": "code",
      "source": [
        "y_train_cnn1d.shape"
      ],
      "execution_count": 0,
      "outputs": [
        {
          "output_type": "execute_result",
          "data": {
            "text/plain": [
              "(2075,)"
            ]
          },
          "metadata": {
            "tags": []
          },
          "execution_count": 150
        }
      ]
    },
    {
      "metadata": {
        "id": "MDQcuIwQYnxa",
        "colab_type": "code",
        "outputId": "2a8b4085-21eb-43b6-a251-bc40487e237c",
        "colab": {
          "base_uri": "https://localhost:8080/",
          "height": 1734
        }
      },
      "cell_type": "code",
      "source": [
        "from keras.layers import Conv1D, MaxPooling1D, Dropout, Embedding\n",
        "n_timesteps, n_features, n_outputs = X_train.shape[0], X_train.shape[1], y_train.shape[0]\n",
        "\n",
        "cnn1d_model = Sequential()\n",
        "cnn1d_model.add(Conv1D(filters=64, kernel_size=3, activation='relu', input_shape=(X_train_cnn1d.shape[1], X_train_cnn1d.shape[2])))\n",
        "cnn1d_model.add(Dropout(0.5))\n",
        "cnn1d_model.add(MaxPooling1D(pool_size = 2))\n",
        "cnn1d_model.add(Flatten())\n",
        "cnn1d_model.add(Dense(1, activation = 'sigmoid'))\n",
        "cnn1d_model.compile(optimizer = \"rmsprop\", loss='binary_crossentropy', metrics = [\"acc\"])\n",
        "#cnn1d_model.summary()\n",
        "cnn1d_model.fit(X_train_cnn1d, y_train_cnn1d, epochs = 50, batch_size = 256, verbose = 1)"
      ],
      "execution_count": 0,
      "outputs": [
        {
          "output_type": "stream",
          "text": [
            "Epoch 1/50\n",
            "2075/2075 [==============================] - 1s 537us/step - loss: 0.6252 - acc: 0.6178\n",
            "Epoch 2/50\n",
            "2075/2075 [==============================] - 0s 55us/step - loss: 0.5259 - acc: 0.7981\n",
            "Epoch 3/50\n",
            "2075/2075 [==============================] - 0s 52us/step - loss: 0.4657 - acc: 0.8096\n",
            "Epoch 4/50\n",
            "2075/2075 [==============================] - 0s 51us/step - loss: 0.4218 - acc: 0.8227\n",
            "Epoch 5/50\n",
            "2075/2075 [==============================] - 0s 53us/step - loss: 0.3928 - acc: 0.8313\n",
            "Epoch 6/50\n",
            "2075/2075 [==============================] - 0s 55us/step - loss: 0.3683 - acc: 0.8419\n",
            "Epoch 7/50\n",
            "2075/2075 [==============================] - 0s 54us/step - loss: 0.3514 - acc: 0.8578\n",
            "Epoch 8/50\n",
            "2075/2075 [==============================] - 0s 51us/step - loss: 0.3366 - acc: 0.8612\n",
            "Epoch 9/50\n",
            "2075/2075 [==============================] - 0s 50us/step - loss: 0.3193 - acc: 0.8684\n",
            "Epoch 10/50\n",
            "2075/2075 [==============================] - 0s 51us/step - loss: 0.3016 - acc: 0.8752\n",
            "Epoch 11/50\n",
            "2075/2075 [==============================] - 0s 52us/step - loss: 0.2897 - acc: 0.8810\n",
            "Epoch 12/50\n",
            "2075/2075 [==============================] - 0s 53us/step - loss: 0.2766 - acc: 0.8882\n",
            "Epoch 13/50\n",
            "2075/2075 [==============================] - 0s 50us/step - loss: 0.2632 - acc: 0.8973\n",
            "Epoch 14/50\n",
            "2075/2075 [==============================] - 0s 51us/step - loss: 0.2549 - acc: 0.8969\n",
            "Epoch 15/50\n",
            "2075/2075 [==============================] - 0s 52us/step - loss: 0.2422 - acc: 0.9060\n",
            "Epoch 16/50\n",
            "2075/2075 [==============================] - 0s 55us/step - loss: 0.2290 - acc: 0.9147\n",
            "Epoch 17/50\n",
            "2075/2075 [==============================] - 0s 50us/step - loss: 0.2153 - acc: 0.9239\n",
            "Epoch 18/50\n",
            "2075/2075 [==============================] - 0s 52us/step - loss: 0.2110 - acc: 0.9239\n",
            "Epoch 19/50\n",
            "2075/2075 [==============================] - 0s 51us/step - loss: 0.1996 - acc: 0.9354\n",
            "Epoch 20/50\n",
            "2075/2075 [==============================] - 0s 52us/step - loss: 0.1909 - acc: 0.9325\n",
            "Epoch 21/50\n",
            "2075/2075 [==============================] - 0s 52us/step - loss: 0.1845 - acc: 0.9340\n",
            "Epoch 22/50\n",
            "2075/2075 [==============================] - 0s 51us/step - loss: 0.1729 - acc: 0.9417\n",
            "Epoch 23/50\n",
            "2075/2075 [==============================] - 0s 53us/step - loss: 0.1639 - acc: 0.9470\n",
            "Epoch 24/50\n",
            "2075/2075 [==============================] - 0s 52us/step - loss: 0.1560 - acc: 0.9518\n",
            "Epoch 25/50\n",
            "2075/2075 [==============================] - 0s 56us/step - loss: 0.1545 - acc: 0.9547\n",
            "Epoch 26/50\n",
            "2075/2075 [==============================] - 0s 56us/step - loss: 0.1416 - acc: 0.9634\n",
            "Epoch 27/50\n",
            "2075/2075 [==============================] - 0s 54us/step - loss: 0.1431 - acc: 0.9600\n",
            "Epoch 28/50\n",
            "2075/2075 [==============================] - 0s 54us/step - loss: 0.1345 - acc: 0.9629\n",
            "Epoch 29/50\n",
            "2075/2075 [==============================] - 0s 54us/step - loss: 0.1291 - acc: 0.9687\n",
            "Epoch 30/50\n",
            "2075/2075 [==============================] - 0s 55us/step - loss: 0.1231 - acc: 0.9682\n",
            "Epoch 31/50\n",
            "2075/2075 [==============================] - 0s 54us/step - loss: 0.1203 - acc: 0.9692\n",
            "Epoch 32/50\n",
            "2075/2075 [==============================] - 0s 54us/step - loss: 0.1160 - acc: 0.9706\n",
            "Epoch 33/50\n",
            "2075/2075 [==============================] - 0s 55us/step - loss: 0.1081 - acc: 0.9735\n",
            "Epoch 34/50\n",
            "2075/2075 [==============================] - 0s 59us/step - loss: 0.1133 - acc: 0.9658\n",
            "Epoch 35/50\n",
            "2075/2075 [==============================] - 0s 54us/step - loss: 0.1026 - acc: 0.9764\n",
            "Epoch 36/50\n",
            "2075/2075 [==============================] - 0s 54us/step - loss: 0.0990 - acc: 0.9769\n",
            "Epoch 37/50\n",
            "2075/2075 [==============================] - 0s 54us/step - loss: 0.0974 - acc: 0.9778\n",
            "Epoch 38/50\n",
            "2075/2075 [==============================] - 0s 54us/step - loss: 0.0913 - acc: 0.9817\n",
            "Epoch 39/50\n",
            "2075/2075 [==============================] - 0s 67us/step - loss: 0.0920 - acc: 0.9773\n",
            "Epoch 40/50\n",
            "2075/2075 [==============================] - 0s 55us/step - loss: 0.0933 - acc: 0.9783\n",
            "Epoch 41/50\n",
            "2075/2075 [==============================] - 0s 57us/step - loss: 0.0848 - acc: 0.9827\n",
            "Epoch 42/50\n",
            "2075/2075 [==============================] - 0s 55us/step - loss: 0.0814 - acc: 0.9831\n",
            "Epoch 43/50\n",
            "2075/2075 [==============================] - 0s 62us/step - loss: 0.0791 - acc: 0.9846\n",
            "Epoch 44/50\n",
            "2075/2075 [==============================] - 0s 56us/step - loss: 0.0750 - acc: 0.9846\n",
            "Epoch 45/50\n",
            "2075/2075 [==============================] - 0s 57us/step - loss: 0.0779 - acc: 0.9827\n",
            "Epoch 46/50\n",
            "2075/2075 [==============================] - 0s 55us/step - loss: 0.0745 - acc: 0.9841\n",
            "Epoch 47/50\n",
            "2075/2075 [==============================] - 0s 55us/step - loss: 0.0733 - acc: 0.9855\n",
            "Epoch 48/50\n",
            "2075/2075 [==============================] - 0s 56us/step - loss: 0.0704 - acc: 0.9855\n",
            "Epoch 49/50\n",
            "2075/2075 [==============================] - 0s 55us/step - loss: 0.0702 - acc: 0.9827\n",
            "Epoch 50/50\n",
            "2075/2075 [==============================] - 0s 56us/step - loss: 0.0679 - acc: 0.9851\n"
          ],
          "name": "stdout"
        },
        {
          "output_type": "execute_result",
          "data": {
            "text/plain": [
              "<keras.callbacks.History at 0x7fba3f7de630>"
            ]
          },
          "metadata": {
            "tags": []
          },
          "execution_count": 151
        }
      ]
    },
    {
      "metadata": {
        "id": "m8mjnYybYn2m",
        "colab_type": "code",
        "outputId": "3c248e6c-119d-4642-ccc8-3c6ed8a360ef",
        "colab": {
          "base_uri": "https://localhost:8080/",
          "height": 51
        }
      },
      "cell_type": "code",
      "source": [
        "cnn1d_model.evaluate(X_test_cnn1d, y_test_cnn1d) #lower than RNN"
      ],
      "execution_count": 0,
      "outputs": [
        {
          "output_type": "stream",
          "text": [
            "519/519 [==============================] - 0s 511us/step\n"
          ],
          "name": "stdout"
        },
        {
          "output_type": "execute_result",
          "data": {
            "text/plain": [
              "[0.11250215504670188, 0.9807321773788144]"
            ]
          },
          "metadata": {
            "tags": []
          },
          "execution_count": 152
        }
      ]
    },
    {
      "metadata": {
        "id": "8IkbgwXBYn5f",
        "colab_type": "code",
        "outputId": "3999279f-ed30-42b6-b0e5-c322f6e75d45",
        "colab": {
          "base_uri": "https://localhost:8080/",
          "height": 347
        }
      },
      "cell_type": "code",
      "source": [
        "from sklearn.metrics import roc_curve\n",
        "pred_cnn1d = cnn1d_model.predict(X_test_cnn1d)\n",
        "fpr_cnn1d, tpr_cnn1d, ___ = roc_curve(y_test_cnn1d, pred_cnn1d)\n",
        "plt.plot(fpr_cnn1d, tpr_cnn1d)\n",
        "plt.show() "
      ],
      "execution_count": 0,
      "outputs": [
        {
          "output_type": "display_data",
          "data": {
            "image/png": "[encoded data removed]",
            "text/plain": [
              "<matplotlib.figure.Figure at 0x7fba3209ceb8>"
            ]
          },
          "metadata": {
            "tags": []
          }
        }
      ]
    },
    {
      "metadata": {
        "id": "DvUno2oP3OeB",
        "colab_type": "code",
        "outputId": "823e9d93-7631-4da7-f478-c05a563f5a23",
        "colab": {
          "base_uri": "https://localhost:8080/",
          "height": 51
        }
      },
      "cell_type": "code",
      "source": [
        "from sklearn import metrics\n",
        "print(\"For RNN the AUC is: \" + str(round(metrics.auc(fpr, tpr),2)))\n",
        "print(\"For CNN1D the AUC is: \" + str(round(metrics.auc(fpr_cnn1d, tpr_cnn1d),2)))"
      ],
      "execution_count": 186,
      "outputs": [
        {
          "output_type": "stream",
          "text": [
            "For RNN the AUC is: 0.99\n",
            "For CNN1D the AUC is: 0.99\n"
          ],
          "name": "stdout"
        }
      ]
    },
    {
      "metadata": {
        "id": "DH0gV9TU28vO",
        "colab_type": "text"
      },
      "cell_type": "markdown",
      "source": [
        "To compare both method for character-wise text sequence classificastion for malicioius url detection, we have to refer to the area under the ROC curve. The AUC for both method is 0.99, indicsating that they both achieve similarly high result. "
      ]
    },
    {
      "metadata": {
        "id": "OqPId9alULYi",
        "colab_type": "code",
        "colab": {}
      },
      "cell_type": "code",
      "source": [
        ""
      ],
      "execution_count": 0,
      "outputs": []
    }
  ]
}